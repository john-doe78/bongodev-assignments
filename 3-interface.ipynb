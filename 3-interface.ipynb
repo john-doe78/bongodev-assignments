{
 "cells": [
  {
   "cell_type": "markdown",
   "id": "15220022-ca1e-457d-be46-07f097eaa078",
   "metadata": {},
   "source": [
    "# Session 14, 15, 16｜Interfaces\n",
    "\n",
    "* [Java Interfaces](https://www.baeldung.com/java-interfaces)\n",
    "* [Java Interface Naming Conventions](https://www.baeldung.com/java-interface-naming-conventions)\n",
    "* [Implements vs. Extends in Java](https://www.baeldung.com/java-implements-vs-extends)\n",
    "\n",
    "## What is an Interface?\n",
    "\n",
    "An interface is a construct that allows two systems to interact with each other without one system needing to know the details of the other. In simpler terms, it helps achieve abstraction.\n",
    "\n",
    "## How to Define an Interface?\n",
    "\n",
    "The declaration of an interface consists of the following components:\n",
    "\n",
    "* Modifiers\n",
    "* The `interface` keyword\n",
    "* The interface name\n",
    "* A comma-separated list of parent interfaces (if any)\n",
    "* The body of the interface\n",
    "\n",
    "> Note: Only `public` and default modifiers are allowed for methods in interfaces. `protected` and `private` modifiers are not allowed.\n",
    "\n",
    "```java\n",
    "// public interface\n",
    "public interface BigBird {\n",
    "  public void fly();\n",
    "}\n",
    "\n",
    "// default interface\n",
    "interface SmallBird {\n",
    "  public void fly();\n",
    "}\n",
    "\n",
    "// comma separated list of parent interfaces (can't extend from class)\n",
    "public interface NonflyingBird extends SmallBird, BigBird {\n",
    "  public void canRun();\n",
    "}\n",
    "```\n",
    "\n",
    "## Why Do We Need an Interface?\n",
    " \n",
    "### 1. Abstraction:\n",
    "\n",
    "Using an `interface`, we can achieve full abstraction, meaning we can define what a class must do, but not how it will do it..."
   ]
  },
  {
   "cell_type": "code",
   "execution_count": 1,
   "id": "2a4e7ae2-462b-4f51-9899-71e5d31d1124",
   "metadata": {},
   "outputs": [],
   "source": [
    "public interface Bird {\n",
    "    void fly();\n",
    "}"
   ]
  },
  {
   "cell_type": "code",
   "execution_count": 2,
   "id": "aa5857c5-4cc7-48b0-8caa-acb311a235bf",
   "metadata": {},
   "outputs": [],
   "source": [
    "public class Eagle implements Bird {\n",
    "    @Override\n",
    "    public void fly() {\n",
    "        System.out.println(\"Eagle Can fly\");\n",
    "    }\n",
    "}"
   ]
  },
  {
   "cell_type": "markdown",
   "id": "b9556c7f-035a-4c93-85f9-4f162a1adbf3",
   "metadata": {},
   "source": [
    "### 2. Polymorphism:\n",
    "\n",
    "* An interface can be used as a data type.\n",
    "* We cannot create an object of an `interface`, but it can hold references to any class that implements it. At runtime, the JVM decides which method to invoke based on the actual object's type."
   ]
  },
  {
   "cell_type": "code",
   "execution_count": 3,
   "id": "2457a031-c115-46b7-867a-b9bdf1e395bf",
   "metadata": {},
   "outputs": [],
   "source": [
    "public class Hen implements Bird {\n",
    "    @Override\n",
    "    public void fly() {\n",
    "        System.out.println(\"Hen Can't fly\");\n",
    "    }\n",
    "}"
   ]
  },
  {
   "cell_type": "code",
   "execution_count": 4,
   "id": "af5042d5-4064-4c19-afa5-0b976584fe1b",
   "metadata": {},
   "outputs": [
    {
     "name": "stdout",
     "output_type": "stream",
     "text": [
      "Eagle Can fly\n"
     ]
    }
   ],
   "source": [
    "Bird obj1 = new Eagle(); // Bird as data type\n",
    "Bird obj2 = new Hen();\n",
    "\n",
    "obj1.fly();"
   ]
  },
  {
   "cell_type": "code",
   "execution_count": 5,
   "id": "c8dda1ce-8118-46e7-a6d1-e38778403132",
   "metadata": {},
   "outputs": [
    {
     "name": "stdout",
     "output_type": "stream",
     "text": [
      "Hen Can't fly\n"
     ]
    }
   ],
   "source": [
    "obj2.fly();"
   ]
  },
  {
   "cell_type": "markdown",
   "id": "d0edd14d-77f1-496c-8dc5-edb075449925",
   "metadata": {},
   "source": [
    "### 3. Multiple Inheritance:\n",
    "\n",
    "In Java, multiple inheritance is not allowed with classes, but it is possible through `interfaces`."
   ]
  },
  {
   "cell_type": "code",
   "execution_count": 6,
   "id": "ee72ac37-0cc3-47d5-a5eb-d150b918b7b3",
   "metadata": {},
   "outputs": [],
   "source": [
    "public class WaterAnimal {\n",
    "    public boolean canBreathe() {\n",
    "        return true;\n",
    "    }\n",
    "}"
   ]
  },
  {
   "cell_type": "code",
   "execution_count": 7,
   "id": "febb4f73-a8e6-4fb9-8362-aa0f5afb25e6",
   "metadata": {},
   "outputs": [],
   "source": [
    "public class LandAnimal {\n",
    "    public boolean canBreathe() {\n",
    "        return true;\n",
    "    }\n",
    "}"
   ]
  },
  {
   "cell_type": "code",
   "execution_count": 8,
   "id": "2d78539f-e0e2-4804-9b07-df8df7d27c9c",
   "metadata": {},
   "outputs": [
    {
     "ename": "CompilationException",
     "evalue": "",
     "output_type": "error",
     "traceback": [
      "\u001b[1m\u001b[30m|   \u001b[1m\u001b[30mpublic class Crocodile extends LandAnimal\u001b[0m\u001b[1m\u001b[30m\u001b[41m\u001b[0m\u001b[1m\u001b[30m, WaterAnimal {}\u001b[0m",
      "\u001b[1m\u001b[31m'{' expected\u001b[0m",
      ""
     ]
    }
   ],
   "source": [
    "public class Crocodile extends LandAnimal, WaterAnimal {}"
   ]
  },
  {
   "cell_type": "markdown",
   "id": "f0d4737f-84b0-409f-9c02-ed88cdfd8b43",
   "metadata": {},
   "source": [
    "A class can implement multiple `interfaces`."
   ]
  },
  {
   "cell_type": "code",
   "execution_count": 9,
   "id": "f9d9e64d-eee4-42a7-b615-a1a765c0369d",
   "metadata": {},
   "outputs": [],
   "source": [
    "public interface LandAnimal {\n",
    "    public void canBreathe();\n",
    "}"
   ]
  },
  {
   "cell_type": "code",
   "execution_count": 10,
   "id": "a1d448d2-cbb4-46df-971c-f798a132a3fb",
   "metadata": {},
   "outputs": [],
   "source": [
    "public interface WaterAnimal {\n",
    "    public void canBreathe();\n",
    "}"
   ]
  },
  {
   "cell_type": "code",
   "execution_count": 11,
   "id": "8917aa19-36ab-4904-bb56-7f731769905d",
   "metadata": {},
   "outputs": [],
   "source": [
    "public class Crocodile implements LandAnimal, WaterAnimal{\n",
    "    @Override\n",
    "    public void canBreathe() {\n",
    "        System.out.println(\"Crocodile can breadth\");\n",
    "    }\n",
    "}"
   ]
  },
  {
   "cell_type": "markdown",
   "id": "8313121c-e8d3-44c6-872d-52a1e2ad30f3",
   "metadata": {},
   "source": [
    "## Methods in an Interface\n",
    "\n",
    "* All methods are implicitly `public`.\n",
    "* Methods cannot be declared as `final`.\n",
    "\n",
    "```java\n",
    "public interface Bird {\n",
    "  void fly();\n",
    "}\n",
    "\n",
    "==\n",
    "\n",
    "public interface Bird {\n",
    "  public void fly();\n",
    "}\n",
    "```\n",
    "\n",
    "## Fields/Variables in an Interface\n",
    "\n",
    "* Fields are implicitly `public static final`.\n",
    "* Fields cannot be declared as `private` or `protected`.\n",
    "\n",
    "```java\n",
    "public interface Bird {\n",
    "  int MAX_HEIGHT_IN_FEET = 2000;\n",
    "}\n",
    "\n",
    "==\n",
    "\n",
    "public interface Bird {\n",
    "  public static final int MAX_HEIGHT_IN_FEET = 2000;\n",
    "}\n",
    "```\n",
    "\n",
    "## Interface Implementation\n",
    "\n",
    "* Overridden methods cannot have more restrictive access specifiers than those in the interface.\n",
    "* A concrete class must override all methods declared in the interface.\n",
    "* Abstract classes are not required to override all the methods of an interface.\n",
    "* A class can implement multiple interfaces."
   ]
  },
  {
   "cell_type": "code",
   "execution_count": 12,
   "id": "adc8b13a-0dd2-44e6-b392-ceeacbff08bc",
   "metadata": {},
   "outputs": [],
   "source": [
    "public interface Bird {\n",
    "    public void fly();\n",
    "}"
   ]
  },
  {
   "cell_type": "code",
   "execution_count": 13,
   "id": "ab296f5d-1581-4d25-9586-13ad3a6dedf6",
   "metadata": {},
   "outputs": [],
   "source": [
    "public class Sparrow implements Bird {\n",
    "    @Override\n",
    "    public void fly() {\n",
    "        System.out.println(\"Flying\");\n",
    "    }\n",
    "}"
   ]
  },
  {
   "cell_type": "code",
   "execution_count": 14,
   "id": "1126be83-7432-49b8-822b-a386ade1e7bb",
   "metadata": {},
   "outputs": [
    {
     "ename": "CompilationException",
     "evalue": "",
     "output_type": "error",
     "traceback": [
      "\u001b[1m\u001b[30m|   \u001b[1m\u001b[30m    \u001b[0m\u001b[1m\u001b[30m\u001b[41m@Override\u001b[0m",
      "\u001b[1m\u001b[30m|   \u001b[1m\u001b[30m\u001b[41m    protected void fly() {\u001b[0m",
      "\u001b[1m\u001b[30m|   \u001b[1m\u001b[30m\u001b[41m        System.out.println(\"Flying\");\u001b[0m",
      "\u001b[1m\u001b[30m|   \u001b[1m\u001b[30m\u001b[41m    }\u001b[0m",
      "\u001b[1m\u001b[31mfly() in Sparrow cannot implement fly() in Bird\u001b[0m",
      "\u001b[1m\u001b[31m  attempting to assign weaker access privileges; was public\u001b[0m",
      ""
     ]
    }
   ],
   "source": [
    "// can't be anything except public\n",
    "public class Sparrow implements Bird {\n",
    "    @Override\n",
    "    protected void fly() {\n",
    "        System.out.println(\"Flying\");\n",
    "    }\n",
    "} "
   ]
  },
  {
   "cell_type": "markdown",
   "id": "5e7a369c-1114-474b-a234-4f1f316bb858",
   "metadata": {
    "tags": []
   },
   "source": [
    "### Example of an Abstract Class Implementing an Interface"
   ]
  },
  {
   "cell_type": "code",
   "execution_count": 15,
   "id": "3109a662-e8cc-4afb-9fee-1d8a2148397d",
   "metadata": {},
   "outputs": [],
   "source": [
    "public interface Bird {\n",
    "    public void canfly();\n",
    "    public void noOfLegs();\n",
    "}"
   ]
  },
  {
   "cell_type": "code",
   "execution_count": 16,
   "id": "dfa74586-4082-4022-9d1b-3c9f13f114d9",
   "metadata": {},
   "outputs": [],
   "source": [
    "// in an abstract class, it is not mandatory to implement all interface methods, \n",
    "// but a concrete class must implement them.\n",
    "public abstract class Eagle implements Bird {\n",
    "    @Override\n",
    "    public void canfly() {}\n",
    "    \n",
    "    public abstract void beakLength();\n",
    "}"
   ]
  },
  {
   "cell_type": "code",
   "execution_count": 17,
   "id": "0352fdd0-6b5b-47bf-9e9d-fedb32da0048",
   "metadata": {},
   "outputs": [],
   "source": [
    "public class WhiteEagle extends Eagle {\n",
    "    @Override\n",
    "    public void noOfLegs() {}\n",
    "    \n",
    "    @Override\n",
    "    public void beakLength() {}\n",
    "}"
   ]
  },
  {
   "cell_type": "markdown",
   "id": "6ebecdeb-8058-43f7-92eb-162e05664483",
   "metadata": {},
   "source": [
    "## Nested Interface\n",
    "\n",
    "* An interface can be declared within another interface.\n",
    "* An interface can be declared within a class.\n",
    "\n",
    "It is generally used to group logically related interfaces.\n",
    "\n",
    "* [A Guide to Inner Interfaces in Java](https://www.baeldung.com/java-inner-interfaces)\n",
    "\n",
    "### Rules:\n",
    "\n",
    "* A nested interface declared within an interface must be `public`.\n",
    "* A nested interface declared within a class can have any access modifier.\n",
    "* When you implement an outer interface, implementing the inner interface is not required, and vice versa.\n",
    "\n",
    "### Interface within Another Interface"
   ]
  },
  {
   "cell_type": "code",
   "execution_count": 18,
   "id": "d854965b-f971-4d6c-968b-8b95db9ec365",
   "metadata": {},
   "outputs": [],
   "source": [
    "public interface Bird {\n",
    "    public void canFly();\n",
    "    \n",
    "    public interface NonFlyingBird {\n",
    "        public void canRun();\n",
    "    }\n",
    "}"
   ]
  },
  {
   "cell_type": "code",
   "execution_count": 19,
   "id": "6d324afa-5710-46d4-8c41-832e8c6cb4cf",
   "metadata": {},
   "outputs": [],
   "source": [
    "// implements only outer interface\n",
    "public class Sparrow implements Bird {\n",
    "    @Override\n",
    "    public void canFly() {}\n",
    "}"
   ]
  },
  {
   "cell_type": "code",
   "execution_count": 20,
   "id": "51504567-fa72-4fda-b313-7f5b6f7883cc",
   "metadata": {},
   "outputs": [],
   "source": [
    "// implements only nested interface\n",
    "public class Sparrow implements Bird.NonFlyingBird {\n",
    "    @Override\n",
    "    public void canRun() {\n",
    "       System.out.println(\"Sparrow can Run\");\n",
    "    }\n",
    "}"
   ]
  },
  {
   "cell_type": "code",
   "execution_count": 21,
   "id": "aa142c69-b130-4867-99ab-b7355b9c2322",
   "metadata": {},
   "outputs": [
    {
     "name": "stdout",
     "output_type": "stream",
     "text": [
      "Sparrow can Run\n"
     ]
    }
   ],
   "source": [
    "Bird.NonFlyingBird obj = new Sparrow(); // Sparrow obj = new Sparrow();\n",
    "obj.canRun();"
   ]
  },
  {
   "cell_type": "code",
   "execution_count": 22,
   "id": "425f09a0-2bdf-4b78-8d23-7a65f72c4348",
   "metadata": {},
   "outputs": [],
   "source": [
    "// implements both (inner and outer) interfaces\n",
    "public class Sparrow implements Bird, Bird.NonFlyingBird {\n",
    "    @Override\n",
    "    public void canRun() {\n",
    "       System.out.println(\"Sparrow can Run\");\n",
    "    }\n",
    "    \n",
    "    @Override\n",
    "    public void canFly() {\n",
    "       System.out.println(\"Sparrow can Fly\");\n",
    "    }\n",
    "}"
   ]
  },
  {
   "cell_type": "code",
   "execution_count": 23,
   "id": "28feab2d-86bb-4920-99f7-71ac9e3b9e0f",
   "metadata": {},
   "outputs": [
    {
     "name": "stdout",
     "output_type": "stream",
     "text": [
      "Sparrow can Run\n"
     ]
    }
   ],
   "source": [
    "Bird.NonFlyingBird obj = new Sparrow();\n",
    "obj.canRun();"
   ]
  },
  {
   "cell_type": "code",
   "execution_count": 24,
   "id": "14c428cd-2911-4a82-bebf-352d457ea90c",
   "metadata": {},
   "outputs": [
    {
     "name": "stdout",
     "output_type": "stream",
     "text": [
      "Sparrow can Fly\n"
     ]
    }
   ],
   "source": [
    "Bird obj = new Sparrow();\n",
    "obj.canFly();"
   ]
  },
  {
   "cell_type": "code",
   "execution_count": 25,
   "id": "4e0ee105-d9de-4f9f-8c5f-ad1f39e1262b",
   "metadata": {},
   "outputs": [
    {
     "name": "stdout",
     "output_type": "stream",
     "text": [
      "Sparrow can Fly\n",
      "Sparrow can Run\n"
     ]
    }
   ],
   "source": [
    "Sparrow obj = new Sparrow();\n",
    "obj.canFly();\n",
    "obj.canRun();"
   ]
  },
  {
   "cell_type": "markdown",
   "id": "77125bd6-91fe-43e5-9694-801c8f60fbc6",
   "metadata": {},
   "source": [
    "### Interface within a Class"
   ]
  },
  {
   "cell_type": "code",
   "execution_count": 26,
   "id": "b7689e44-b00a-429f-9e41-9b008e43f692",
   "metadata": {},
   "outputs": [],
   "source": [
    "public class Bird {\n",
    "    // modifier can be anything\n",
    "    protected interface NonFlyingBird {\n",
    "        void canRun();\n",
    "    }\n",
    "}"
   ]
  },
  {
   "cell_type": "code",
   "execution_count": 27,
   "id": "df6d3175-7b9e-4773-9e0e-40a24b8cfcaa",
   "metadata": {},
   "outputs": [],
   "source": [
    "public class Eagle implements Bird.NonFlyingBird {\n",
    "    @Override\n",
    "    public void canRun() {}\n",
    "}"
   ]
  },
  {
   "cell_type": "markdown",
   "id": "0d22ddb2-6a1d-4271-b715-17a275db4ace",
   "metadata": {},
   "source": [
    "## Interface vs Abstract\n",
    "\n",
    "* [Using an Interface vs. Abstract Class in Java](https://www.baeldung.com/java-interface-vs-abstract-class)\n",
    "* [Java interface FAQs](https://www.youtube.com/watch?v=qmDwVfkINkw) by Hari Krishna\n",
    "\n",
    "| No  | Abstract Class                                                | Interface                                                                          |\n",
    "|-----|---------------------------------------------------------------|-----------------------------------------------------------------------------------|\n",
    "| 1   | The keyword used here is `abstract`.                          | The keyword used here is `interface`.                                             |\n",
    "| 2   | Child classes must use the `extends` keyword.                 | Child classes must use the `implements` keyword.                                  |\n",
    "| 3   | It can have both abstract and non-abstract methods.           | It can have only abstract methods (prior to Java 8).                              |\n",
    "| 4   | It can extend another class and implement multiple interfaces.| It can extend only other interfaces.                                              |\n",
    "| 5   | Variables can be `static`, non-static, or `final`.            | Variables are by default constants (static and final).                            |\n",
    "| 6   | Methods and variables can have `private`, `protected`, `public`, or package-private access modifiers. | Methods and variables are by default `public`.    | \n",
    "| 7   | Multiple inheritance is not supported.                        | Multiple inheritance is supported (through interfaces).                           |\n",
    "| 8   | It can provide implementations for interfaces.                | It cannot provide implementations for other interfaces or abstract classes.       |\n",
    "| 9   | It can have constructors.                                     | It cannot have constructors.                                                      |\n",
    "| 10  | The `abstract` keyword is required to declare a method as abstract. It can be `public`, `protected`, `default`. | Methods are implicitly abstract and do not require the `abstract` keyword   | \n",
    "\n",
    "## Java 8 Interface Features\n",
    "\n",
    "* [Static and Default Methods in Interfaces in Java](https://www.baeldung.com/java-static-default-methods)\n",
    "* [Interface With Default Methods vs Abstract Class](https://www.baeldung.com/java-interface-default-method-vs-abstract-class)\n",
    "* [Java 8 Interview Questions(+ Answers)](https://www.baeldung.com/java-8-interview-questions)\n",
    "* [Java 8 | Default method & Static method inside Interface](https://www.youtube.com/watch?v=QaQK3oNWn5s) by Durga Sir\n",
    "\n",
    "### Key Features Introduced in Java 8 Interfaces\n",
    "\n",
    "* Default Methods\n",
    "* Static Methods\n",
    "* Functional Interfaces and Lambda Expressions\n",
    "\n",
    "### Default Method\n",
    "\n",
    "Before Java 8, interfaces could only have abstract methods, and implementing classes had to provide their implementations. Java 8 introduced default methods, which are methods with predefined implementations. Classes can override these methods if needed."
   ]
  },
  {
   "cell_type": "code",
   "execution_count": 28,
   "id": "8dd1f2f4-6e50-4b1b-8dff-9ad93235aa11",
   "metadata": {},
   "outputs": [],
   "source": [
    "public interface Bird {\n",
    "    public void canFly(); // same as public abstract void canFly();\n",
    "}\n",
    "\n",
    "public class Eagle implements Bird {\n",
    "    @Override\n",
    "    public void canFly() {}\n",
    "}\n",
    "\n",
    "public class Sparrow implements Bird {\n",
    "    @Override\n",
    "    public void canFly() {}\n",
    "}"
   ]
  },
  {
   "cell_type": "markdown",
   "id": "9285f1be-9fe9-49ca-80a1-796230f72275",
   "metadata": {},
   "source": [
    "Adding a new method to an interface requires updating all its implementing classes."
   ]
  },
  {
   "cell_type": "code",
   "execution_count": 29,
   "id": "4f0fcf7e-4807-4d7b-9fea-bff76d64f7cf",
   "metadata": {},
   "outputs": [],
   "source": [
    "public interface Bird {\n",
    "    public int getMiniumFlyWeight();\n",
    "    public void canFly();\n",
    "}\n",
    "\n",
    "public class Eagle implements Bird {\n",
    "    @Override\n",
    "    public void canFly() {}\n",
    "    \n",
    "    @Override\n",
    "    public int getMiniumFlyWeight() {\n",
    "        return 100;\n",
    "    }\n",
    "}\n",
    "\n",
    "public class Sparrow implements Bird {\n",
    "    @Override\n",
    "    public void canFly() {}\n",
    "    \n",
    "    @Override\n",
    "    public int getMiniumFlyWeight() {\n",
    "        return 100;\n",
    "    }\n",
    "}"
   ]
  },
  {
   "cell_type": "code",
   "execution_count": 30,
   "id": "9ec42a3c-49d1-476f-9d26-209a57dd5dbe",
   "metadata": {},
   "outputs": [
    {
     "data": {
      "text/plain": [
       "100"
      ]
     },
     "execution_count": 30,
     "metadata": {},
     "output_type": "execute_result"
    }
   ],
   "source": [
    "public interface Bird {\n",
    "    // Default Method\n",
    "    default public int getMiniumFlyWeight() {\n",
    "        return 100;\n",
    "    }\n",
    "    \n",
    "    public void canFly();\n",
    "}\n",
    "\n",
    "public class Sparrow implements Bird {\n",
    "    @Override\n",
    "    public void canFly() {}\n",
    "}\n",
    "\n",
    "Bird sparrow = new Sparrow();\n",
    "sparrow.getMiniumFlyWeight();"
   ]
  },
  {
   "cell_type": "markdown",
   "id": "4694afa5-2000-4e0b-b265-22944dbcefef",
   "metadata": {},
   "source": [
    "### Default Methods and Multiple Inheritance"
   ]
  },
  {
   "cell_type": "code",
   "execution_count": 31,
   "id": "4c309194-7e0a-4a8a-8b80-bb0377b760c5",
   "metadata": {},
   "outputs": [
    {
     "ename": "CompilationException",
     "evalue": "",
     "output_type": "error",
     "traceback": [
      "\u001b[1m\u001b[30m|   \u001b[1m\u001b[30m\u001b[0m\u001b[1m\u001b[30m\u001b[41m\u001b[0m",
      "\u001b[1m\u001b[30m|   \u001b[1m\u001b[30m\u001b[41m\u001b[0m",
      "\u001b[1m\u001b[30m|   \u001b[1m\u001b[30m\u001b[41mpublic class Human implements Bird, Plane {}\u001b[0m",
      "\u001b[1m\u001b[31mtypes Bird and Plane are incompatible;\u001b[0m",
      "\u001b[1m\u001b[31m  class Human inherits unrelated defaults for canFly() from types Bird and Plane\u001b[0m",
      ""
     ]
    }
   ],
   "source": [
    "public interface Bird {\n",
    "    default boolean canFly() {\n",
    "        return true;\n",
    "    }\n",
    "}\n",
    "\n",
    "public interface Plane {\n",
    "    default boolean canFly() {\n",
    "        return true;\n",
    "    }\n",
    "}\n",
    "\n",
    "public class Human implements Bird, Plane {}"
   ]
  },
  {
   "cell_type": "code",
   "execution_count": 32,
   "id": "cf0e7478-bc7a-4b69-9ef9-9cff33a6167e",
   "metadata": {},
   "outputs": [],
   "source": [
    "// you've to provide default method implementation\n",
    "public class Human implements Bird, Plane {\n",
    "    public boolean canFly() {\n",
    "        return false;\n",
    "    }\n",
    "}"
   ]
  },
  {
   "cell_type": "markdown",
   "id": "da0e1a8b-705b-4b61-867d-2fe85fe899a9",
   "metadata": {},
   "source": [
    "### Extend an interface that contains a default method\r\n",
    "\r\n",
    "#### Method 1  "
   ]
  },
  {
   "cell_type": "code",
   "execution_count": 33,
   "id": "e7ad3a8f-0389-4bf3-ab89-13b59a3c4cb6",
   "metadata": {},
   "outputs": [
    {
     "data": {
      "text/plain": [
       "true"
      ]
     },
     "execution_count": 33,
     "metadata": {},
     "output_type": "execute_result"
    }
   ],
   "source": [
    "public interface LivingThing {\n",
    "    default boolean canBreadth() {\n",
    "        return true;\n",
    "    }\n",
    "}\n",
    "\n",
    "public interface Bird extends LivingThing {}\n",
    "public class Eagle implements Bird {}\n",
    "\n",
    "Eagle eagle = new Eagle();\n",
    "eagle.canBreadth();"
   ]
  },
  {
   "cell_type": "markdown",
   "id": "e6ccdbf7-3dd3-4ba2-9d74-a4eb1ff011cd",
   "metadata": {},
   "source": [
    "#### Method 2"
   ]
  },
  {
   "cell_type": "code",
   "execution_count": 34,
   "id": "587cf7e0-de74-4d14-a630-d863989f8162",
   "metadata": {},
   "outputs": [
    {
     "data": {
      "text/plain": [
       "true"
      ]
     },
     "execution_count": 34,
     "metadata": {},
     "output_type": "execute_result"
    }
   ],
   "source": [
    "public interface LivingThing {\n",
    "    default boolean canBreadth() {\n",
    "        return true;\n",
    "    }\n",
    "}\n",
    "\n",
    "public interface Bird extends LivingThing {\n",
    "    // LivingThing.canBreadth becomes abstract now\n",
    "    boolean canBreadth();\n",
    "}\n",
    "\n",
    "public class Eagle implements Bird {\n",
    "    // now child class has to implement it\n",
    "    @Override\n",
    "    public boolean canBreadth() {\n",
    "        return true;\n",
    "    }\n",
    "}\n",
    "\n",
    "Eagle eagle = new Eagle();\n",
    "eagle.canBreadth();"
   ]
  },
  {
   "cell_type": "markdown",
   "id": "1cf72c55-b045-47a3-aa02-fbb6f77991ac",
   "metadata": {},
   "source": [
    "#### Method 3"
   ]
  },
  {
   "cell_type": "code",
   "execution_count": 35,
   "id": "7db121ea-0761-4fac-94db-1858c96ace69",
   "metadata": {},
   "outputs": [
    {
     "data": {
      "text/plain": [
       "true"
      ]
     },
     "execution_count": 35,
     "metadata": {},
     "output_type": "execute_result"
    }
   ],
   "source": [
    "public interface LivingThing {\n",
    "    default boolean canBreadth() {\n",
    "        return true;\n",
    "    }\n",
    "}\n",
    "\n",
    "public interface Bird extends LivingThing {\n",
    "    // override parent implementation\n",
    "    default boolean canBreadth() {\n",
    "        return LivingThing.super.canBreadth();\n",
    "    }\n",
    "}\n",
    "\n",
    "public class Eagle implements Bird {}\n",
    "\n",
    "Eagle eagle = new Eagle();\n",
    "eagle.canBreadth();"
   ]
  },
  {
   "cell_type": "markdown",
   "id": "1f64d808-75aa-47fe-a5ae-e02efa77f3ff",
   "metadata": {},
   "source": [
    "### Static Method\n",
    "\n",
    "* Interfaces can include static methods with implementations.\n",
    "* Static methods cannot be overridden by the classes that implement the interface.\n",
    "* These methods are accessed using the interface name directly.\n",
    "* They are implicitly `public` by default."
   ]
  },
  {
   "cell_type": "code",
   "execution_count": 36,
   "id": "0d18b991-832e-4a59-b6b0-f277ba851ef7",
   "metadata": {},
   "outputs": [],
   "source": [
    "public interface Bird {\n",
    "    static boolean canBreathe() {\n",
    "        return true;\n",
    "    }\n",
    "}\n",
    "\n",
    "public class Eagle implements Bird {\n",
    "    public void test() {\n",
    "        if (Bird.canBreathe()) {}\n",
    "    }\n",
    "}"
   ]
  },
  {
   "cell_type": "markdown",
   "id": "66e65368-dce6-4ba5-a6a4-1d41216c58d4",
   "metadata": {},
   "source": [
    "### Functional Interfaces and Lambda Expressions\n",
    "\n",
    "* [Functional Interfaces in Java 8](https://www.baeldung.com/java-8-functional-interfaces)\n",
    "* [Lambda Expressions and Functional Interfaces: Tips and Best Practices](https://www.baeldung.com/java-8-lambda-expressions-tips)\n",
    "* [Functional Programming and Functional Interface](https://www.youtube.com/watch?v=WeqDLmcJrtM) by Mr.Hari Krishna\n",
    "\n",
    "#### What is a Functional Interface?\n",
    "\n",
    "* A functional interface is an interface that contains only one abstract method.\n",
    "* It is also referred to as a **SAM (Single Abstract Method)** interface.\n",
    "* The `@FunctionalInterface` annotation is used to mark an interface as a functional interface.\n",
    "\n",
    "```java\n",
    "@FunctionalInterface\n",
    "public interface Bird {\n",
    "  void canFly();\n",
    "}\n",
    "\n",
    "==\n",
    "\n",
    "public interface Bird {\n",
    "  void canFly();\n",
    "}\n",
    "```\n",
    "\n",
    "The `@FunctionalInterface` annotation ensures that an interface can have only one abstract method. If more than one abstract method is added, a compilation error will occur."
   ]
  },
  {
   "cell_type": "code",
   "execution_count": 37,
   "id": "a083a711-8796-40b4-bb4a-2a9e2d08d48d",
   "metadata": {},
   "outputs": [
    {
     "ename": "CompilationException",
     "evalue": "",
     "output_type": "error",
     "traceback": [
      "\u001b[1m\u001b[30m|   \u001b[1m\u001b[30m\u001b[0m\u001b[1m\u001b[30m\u001b[41m@FunctionalInterface\u001b[0m\u001b[1m\u001b[30m\u001b[0m",
      "\u001b[1m\u001b[31mUnexpected @FunctionalInterface annotation\u001b[0m",
      "\u001b[1m\u001b[31m  Bird is not a functional interface\u001b[0m",
      "\u001b[1m\u001b[31m    multiple non-overriding abstract methods found in interface Bird\u001b[0m",
      ""
     ]
    }
   ],
   "source": [
    "@FunctionalInterface\n",
    "public interface Bird {\n",
    "    void canFly();\n",
    "    \n",
    "    void sayHi();\n",
    "}"
   ]
  },
  {
   "cell_type": "markdown",
   "id": "c263bf8f-38cc-4bb6-b2e1-de2bf96388ac",
   "metadata": {},
   "source": [
    "A functional interface can have only one abstract method, but it can include other methods such as default methods, static methods, or methods inherited from Object class."
   ]
  },
  {
   "cell_type": "code",
   "execution_count": 38,
   "id": "a905117d-af44-4ace-a5f0-f62cfe461ead",
   "metadata": {},
   "outputs": [],
   "source": [
    "@FunctionalInterface\n",
    "public interface Bird {\n",
    "    void canFly(); // abstract method\n",
    "\n",
    "    default void getWeight() {}\n",
    "    static void canEat() {}\n",
    "\n",
    "    String toString(); // Object class method\n",
    "}"
   ]
  },
  {
   "cell_type": "markdown",
   "id": "2c03a86a-8bce-47e6-9c93-1f5d9075f450",
   "metadata": {},
   "source": [
    "### What is a Lambda Expression?\n",
    "\n",
    "A lambda expression is a way to implement a functional interface.\n",
    "\n",
    "* [Lambda Expression](https://www.youtube.com/watch?v=HLL0HMhNxR8) by Mr.Hari Krishna\n",
    "* [Exceptions in Java Lambda Expressions](https://www.baeldung.com/java-lambda-exceptions)\n",
    "\n",
    "#### Different ways to implement Functional Interface..."
   ]
  },
  {
   "cell_type": "code",
   "execution_count": 39,
   "id": "a7e9b5aa-384b-4555-9f7f-2ad0fe6c76e1",
   "metadata": {},
   "outputs": [],
   "source": [
    "// 1) using \"implements\" keyword\n",
    "\n",
    "@FunctionalInterface\n",
    "public interface Bird {\n",
    "    public void canFly(String val);\n",
    "}\n",
    "\n",
    "public class Eagle implements Bird {\n",
    "    @Override\n",
    "    public void canFly(String val) {}\n",
    "}"
   ]
  },
  {
   "cell_type": "code",
   "execution_count": 40,
   "id": "4df3b2f1-bda1-4669-9a25-b340cba8636a",
   "metadata": {},
   "outputs": [],
   "source": [
    "// 2) using anonymous class\n",
    "\n",
    "@FunctionalInterface\n",
    "public interface Bird {\n",
    "    public void canFly();\n",
    "}\n",
    "\n",
    "Bird eagle = new Bird() {\n",
    "    @Override\n",
    "    public void canFly() {}\n",
    "};\n",
    "\n",
    "eagle.canFly();"
   ]
  },
  {
   "cell_type": "code",
   "execution_count": 41,
   "id": "f6ae250a-3502-4dc6-8cca-ddcef66d328b",
   "metadata": {},
   "outputs": [],
   "source": [
    "// 3) using lambda expression\n",
    "\n",
    "@FunctionalInterface\n",
    "public interface Bird {\n",
    "    public void canFly(String val);\n",
    "}\n",
    "\n",
    "Bird eagle = (String val) -> {\n",
    "    System.out.println(val);\n",
    "};"
   ]
  },
  {
   "cell_type": "markdown",
   "id": "7197fc07-6c16-4cae-bdf2-f5b8ead211bc",
   "metadata": {},
   "source": [
    "### Types of Functional Interface\n",
    "\n",
    "* Consumer\n",
    "* Supplier\n",
    "* Function\n",
    "* Predicate\n",
    "\n",
    "#### Consumer\n",
    "\n",
    "* Represents an operation that accepts a single input and returns `void`.\n",
    "* Found in the `java.util.function` package."
   ]
  },
  {
   "cell_type": "code",
   "execution_count": 42,
   "id": "0f7da143-4906-4bfa-a062-292e06e78a09",
   "metadata": {},
   "outputs": [
    {
     "name": "stdout",
     "output_type": "stream",
     "text": [
      "Logging\n"
     ]
    }
   ],
   "source": [
    "@FunctionalInterface\n",
    "public interface Consumer<T> {\n",
    "    void accept(T t);\n",
    "}\n",
    "\n",
    "Consumer<Integer> consumer = (Integer val) -> {\n",
    "    if (val > 10) {\n",
    "        System.out.println(\"Logging\");\n",
    "    }\n",
    "};\n",
    "\n",
    "consumer.accept(20);"
   ]
  },
  {
   "cell_type": "markdown",
   "id": "084135c4-b982-44c2-919f-339009f3721e",
   "metadata": {},
   "source": [
    "#### Supplier\n",
    "\n",
    "* Represents a supplier of a result. It accepts no input but returns a result.\n",
    "* Found in the `java.util.function` package."
   ]
  },
  {
   "cell_type": "code",
   "execution_count": 43,
   "id": "fdd9166e-4a72-498f-8b4c-828e52285f44",
   "metadata": {},
   "outputs": [
    {
     "data": {
      "text/plain": [
       "Hello"
      ]
     },
     "execution_count": 43,
     "metadata": {},
     "output_type": "execute_result"
    }
   ],
   "source": [
    "@FunctionalInterface\n",
    "public interface Supplier<T> {\n",
    "    T get();\n",
    "}\n",
    "\n",
    "Supplier<String> supplier = () -> {\n",
    "    return \"Hello\";\n",
    "};\n",
    "\n",
    "supplier.get();"
   ]
  },
  {
   "cell_type": "markdown",
   "id": "099e2616-6876-4c0c-affd-9610b6f0a2cc",
   "metadata": {},
   "source": [
    "#### Function\n",
    "\n",
    "* Represents a function that accepts one argument, processes it, and returns a result.\n",
    "* Found in the `java.util.function` package."
   ]
  },
  {
   "cell_type": "code",
   "execution_count": 44,
   "id": "3f51462b-3487-4f60-932d-8dda177152fb",
   "metadata": {},
   "outputs": [
    {
     "data": {
      "text/plain": [
       "Hello John"
      ]
     },
     "execution_count": 44,
     "metadata": {},
     "output_type": "execute_result"
    }
   ],
   "source": [
    "@FunctionalInterface\n",
    "public interface Function<T, R> {\n",
    "    R apply(T t);\n",
    "}\n",
    "\n",
    "Function<String, String> function = (String name) -> {\n",
    "    return \"Hello \" + name;\n",
    "};\n",
    "\n",
    "function.apply(\"John\");"
   ]
  },
  {
   "cell_type": "markdown",
   "id": "361e3094-6014-47a4-bdb0-a46cb0a7435e",
   "metadata": {},
   "source": [
    "#### Predicate\n",
    "\n",
    "* Represents a function that accepts one argument, processes it, and returns a `boolean`.\n",
    "* Found in the `java.util.function` package."
   ]
  },
  {
   "cell_type": "code",
   "execution_count": 45,
   "id": "4e18e2f4-7b78-4421-8fb8-8df2711bef03",
   "metadata": {},
   "outputs": [
    {
     "data": {
      "text/plain": [
       "false"
      ]
     },
     "execution_count": 45,
     "metadata": {},
     "output_type": "execute_result"
    }
   ],
   "source": [
    "@FunctionalInterface\n",
    "public interface Predicate<T> {\n",
    "    boolean test(T t);\n",
    "}\n",
    "\n",
    "Predicate<Integer> predicate = (Integer num) -> {\n",
    "    return num % 2 == 0;\n",
    "};\n",
    "\n",
    "predicate.test(5555);"
   ]
  },
  {
   "cell_type": "code",
   "execution_count": 46,
   "id": "abe99281-7c90-4875-a576-be5e52c9a1d2",
   "metadata": {},
   "outputs": [
    {
     "data": {
      "text/plain": [
       "true"
      ]
     },
     "execution_count": 46,
     "metadata": {},
     "output_type": "execute_result"
    }
   ],
   "source": [
    "predicate.test(100);"
   ]
  },
  {
   "cell_type": "markdown",
   "id": "b6a91c5b-20b4-4259-942b-fea1808cd777",
   "metadata": {},
   "source": [
    "### Handling the Use Case When a Functional Interface Extends Another Interface\n",
    "\n",
    "#### Case 1: Functional Interface Extending a Non-Functional Interface"
   ]
  },
  {
   "cell_type": "code",
   "execution_count": 47,
   "id": "533c4a62-f610-4a72-aa17-bd776ef18456",
   "metadata": {},
   "outputs": [
    {
     "ename": "CompilationException",
     "evalue": "",
     "output_type": "error",
     "traceback": [
      "\u001b[1m\u001b[30m|   \u001b[1m\u001b[30m\u001b[0m\u001b[1m\u001b[30m\u001b[41m@FunctionalInterface\u001b[0m\u001b[1m\u001b[30m\u001b[0m",
      "\u001b[1m\u001b[31mUnexpected @FunctionalInterface annotation\u001b[0m",
      "\u001b[1m\u001b[31m  Bird is not a functional interface\u001b[0m",
      "\u001b[1m\u001b[31m    multiple non-overriding abstract methods found in interface Bird\u001b[0m",
      ""
     ]
    }
   ],
   "source": [
    "public interface Living {\n",
    "    public void breadth();\n",
    "}\n",
    "\n",
    "// since bird inherited from Living, all living methods also become a part of Bird and \n",
    "// functional interface can contain only one abstract method, so compile error occur.\n",
    "@FunctionalInterface\n",
    "public interface Bird extends Living {\n",
    "    void fly();\n",
    "}"
   ]
  },
  {
   "cell_type": "code",
   "execution_count": 48,
   "id": "57e74342-4e7e-4fd0-93f0-bcac9b5a4bd6",
   "metadata": {},
   "outputs": [],
   "source": [
    "public interface Living {\n",
    "    default boolean breadth() {\n",
    "        return true;\n",
    "    }\n",
    "}\n",
    "\n",
    "// only one abstract method\n",
    "@FunctionalInterface\n",
    "public interface Bird extends Living {\n",
    "   public void fly();\n",
    "}"
   ]
  },
  {
   "cell_type": "markdown",
   "id": "275c4ff9-c502-4088-90ba-0c41277259a6",
   "metadata": {},
   "source": [
    "#### Case 2: Interface Extending a Functional Interface"
   ]
  },
  {
   "cell_type": "code",
   "execution_count": 49,
   "id": "4a18c74f-a554-4eb1-90e9-7481aaf973d4",
   "metadata": {},
   "outputs": [],
   "source": [
    "@FunctionalInterface\n",
    "public interface Living {\n",
    "    public boolean breadth();\n",
    "}\n",
    "\n",
    "// ok\n",
    "public interface Bird extends Living {\n",
    "   public void fly();\n",
    "}"
   ]
  },
  {
   "cell_type": "markdown",
   "id": "527c4aa4-94ac-4f20-91b6-4a10135f3bd6",
   "metadata": {},
   "source": [
    "#### Case 3: Functional Interface Extending Another Functional Interface"
   ]
  },
  {
   "cell_type": "code",
   "execution_count": 50,
   "id": "a15b16ab-783b-45e0-814b-2f8050d57621",
   "metadata": {},
   "outputs": [
    {
     "ename": "CompilationException",
     "evalue": "",
     "output_type": "error",
     "traceback": [
      "\u001b[1m\u001b[30m|   \u001b[1m\u001b[30m\u001b[0m\u001b[1m\u001b[30m\u001b[41m@FunctionalInterface\u001b[0m\u001b[1m\u001b[30m\u001b[0m",
      "\u001b[1m\u001b[31mUnexpected @FunctionalInterface annotation\u001b[0m",
      "\u001b[1m\u001b[31m  Bird is not a functional interface\u001b[0m",
      "\u001b[1m\u001b[31m    multiple non-overriding abstract methods found in interface Bird\u001b[0m",
      ""
     ]
    }
   ],
   "source": [
    "@FunctionalInterface\n",
    "public interface Living {\n",
    "    public boolean breathe();\n",
    "}\n",
    "\n",
    "// Functional Interface can only contain one abstract method\n",
    "@FunctionalInterface\n",
    "public interface Bird extends Living {\n",
    "    public boolean eat();\n",
    "}"
   ]
  },
  {
   "cell_type": "code",
   "execution_count": 51,
   "id": "4805fdf3-dcaa-48fe-b6c6-8adac6d2aef5",
   "metadata": {},
   "outputs": [],
   "source": [
    "@FunctionalInterface\n",
    "public interface Living {\n",
    "    public boolean breathe();\n",
    "}\n",
    "\n",
    "// but if the parent abstract method and child abstract method is same then no problem\n",
    "@FunctionalInterface\n",
    "public interface Bird extends Living {\n",
    "    public default boolean fly()  {\n",
    "       return false;\n",
    "    }\n",
    "    \n",
    "    // both have same abstract method\n",
    "    public boolean breathe();\n",
    "}\n",
    "\n",
    "Bird eagle = () -> {\n",
    "    return false;\n",
    "};"
   ]
  },
  {
   "cell_type": "markdown",
   "id": "ceb2f8d2-cd67-4c18-95b4-857dbffec0e5",
   "metadata": {},
   "source": [
    "## Java 9 Interface Features\n",
    "\n",
    "* [Private Methods in Java Interfaces](https://www.baeldung.com/java-interface-private-methods)\n",
    "\n",
    "### Private Method and Private Static Method\n",
    "\n",
    "* You can define methods with the `private` access modifier in interfaces.\n",
    "* This feature improves the readability of the code, especially when multiple default methods share common logic.\n",
    "* Private methods can be defined as either `static` or `non-static`.\n",
    "  * A private static method can only be called from other static methods within the interface.\n",
    "  * A private static method can be called from both static and non-static methods within the interface.\n",
    "* Private interface methods cannot be `abstract`, meaning they must provide a method definition.\n",
    "* These methods can only be used within the specific interface they are defined in."
   ]
  },
  {
   "cell_type": "code",
   "execution_count": 52,
   "id": "5ca1d4e5-0d0b-410b-83dd-acde92450187",
   "metadata": {},
   "outputs": [],
   "source": [
    "public interface Bird {\n",
    "    public abstract void canFly();\n",
    "\n",
    "    // java 8\n",
    "    public default void minimumFlyinfHeight() {\n",
    "        myStaticPublicMethod(); // calling static method\n",
    "        myPrivateMethod(); // calling private method\n",
    "        myStaticPrivateMethod(); // calling private static method\n",
    "    }\n",
    "    \n",
    "    public static void myStaticPublicMethod() {\n",
    "        // from static you can call other static method only\n",
    "        myStaticPrivateMethod(); \n",
    "    }\n",
    "\n",
    "    // java 9\n",
    "    private void myPrivateMethod() {\n",
    "        myStaticPrivateMethod(); // non static can access both methods\n",
    "    }\n",
    "    \n",
    "    private static void myStaticPrivateMethod() {}\n",
    "}"
   ]
  }
 ],
 "metadata": {
  "kernelspec": {
   "display_name": "Java",
   "language": "java",
   "name": "java"
  },
  "language_info": {
   "codemirror_mode": "java",
   "file_extension": ".jshell",
   "mimetype": "text/x-java-source",
   "name": "Java",
   "pygments_lexer": "java",
   "version": "21.0.1+12-LTS"
  }
 },
 "nbformat": 4,
 "nbformat_minor": 5
}
