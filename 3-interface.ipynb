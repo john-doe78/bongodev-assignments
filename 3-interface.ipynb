{
 "cells": [
  {
   "cell_type": "markdown",
   "id": "15220022-ca1e-457d-be46-07f097eaa078",
   "metadata": {},
   "source": [
    "# Session 14, 15, 16｜Interfaces\n",
    "\n",
    "* [Java Interfaces](https://www.baeldung.com/java-interfaces)\n",
    "* [Java Interface Naming Conventions](https://www.baeldung.com/java-interface-naming-conventions)\n",
    "* [Implements vs. Extends in Java](https://www.baeldung.com/java-implements-vs-extends)\n",
    "\n",
    "## What is an Interface?\n",
    "\n",
    "An interface is a construct that allows two systems to interact with each other without one system needing to know the details of the other. In simpler terms, it helps achieve abstraction.\n",
    "\n",
    "## How to Define an Interface?\n",
    "\n",
    "The declaration of an interface consists of the following components:\n",
    "\n",
    "* Modifiers\n",
    "* The `interface` keyword\n",
    "* The interface name\n",
    "* A comma-separated list of parent interfaces (if any)\n",
    "* The body of the interface\n",
    "\n",
    "> Note: Only `public` and default modifiers are allowed for methods in interfaces. `protected` and `private` modifiers are not allowed.\n",
    "\n",
    "```java\n",
    "// public interface\n",
    "public interface BigBird {\n",
    "  public void fly();\n",
    "}\n",
    "\n",
    "// default interface\n",
    "interface SmallBird {\n",
    "  public void fly();\n",
    "}\n",
    "\n",
    "// comma separated list of parent interfaces (can't extend from class)\n",
    "public interface NonflyingBird extends SmallBird, BigBird {\n",
    "  public void canRun();\n",
    "}\n",
    "```\n",
    "\n",
    "## Why Do We Need an Interface?\n",
    " \n",
    "### 1. Abstraction:\n",
    "\n",
    "Using an `interface`, we can achieve full abstraction, meaning we can define what a class must do, but not how it will do it..."
   ]
  },
  {
   "cell_type": "code",
   "execution_count": 1,
   "id": "2a4e7ae2-462b-4f51-9899-71e5d31d1124",
   "metadata": {},
   "outputs": [],
   "source": [
    "public interface Bird {\n",
    "    void fly();\n",
    "}"
   ]
  },
  {
   "cell_type": "code",
   "execution_count": 2,
   "id": "aa5857c5-4cc7-48b0-8caa-acb311a235bf",
   "metadata": {},
   "outputs": [],
   "source": [
    "public class Eagle implements Bird {\n",
    "    @Override\n",
    "    public void fly() {\n",
    "        System.out.println(\"Eagle Can fly\");\n",
    "    }\n",
    "}"
   ]
  },
  {
   "cell_type": "markdown",
   "id": "b9556c7f-035a-4c93-85f9-4f162a1adbf3",
   "metadata": {},
   "source": [
    "### 2. Polymorphism:\n",
    "\n",
    "* An interface can be used as a data type.\n",
    "* We cannot create an object of an `interface`, but it can hold references to any class that implements it. At runtime, the JVM decides which method to invoke based on the actual object's type."
   ]
  },
  {
   "cell_type": "code",
   "execution_count": 3,
   "id": "2457a031-c115-46b7-867a-b9bdf1e395bf",
   "metadata": {},
   "outputs": [],
   "source": [
    "public class Hen implements Bird {\n",
    "    @Override\n",
    "    public void fly() {\n",
    "        System.out.println(\"Hen Can't fly\");\n",
    "    }\n",
    "}"
   ]
  },
  {
   "cell_type": "code",
   "execution_count": 4,
   "id": "af5042d5-4064-4c19-afa5-0b976584fe1b",
   "metadata": {},
   "outputs": [
    {
     "name": "stdout",
     "output_type": "stream",
     "text": [
      "Eagle Can fly\n"
     ]
    }
   ],
   "source": [
    "Bird obj1 = new Eagle(); // Bird as data type\n",
    "Bird obj2 = new Hen();\n",
    "\n",
    "obj1.fly();"
   ]
  },
  {
   "cell_type": "code",
   "execution_count": 5,
   "id": "c8dda1ce-8118-46e7-a6d1-e38778403132",
   "metadata": {},
   "outputs": [
    {
     "name": "stdout",
     "output_type": "stream",
     "text": [
      "Hen Can't fly\n"
     ]
    }
   ],
   "source": [
    "obj2.fly();"
   ]
  },
  {
   "cell_type": "markdown",
   "id": "d0edd14d-77f1-496c-8dc5-edb075449925",
   "metadata": {},
   "source": [
    "### 3. Multiple Inheritance:\n",
    "\n",
    "In Java, multiple inheritance is not allowed with classes, but it is possible through `interfaces`."
   ]
  },
  {
   "cell_type": "code",
   "execution_count": 6,
   "id": "ee72ac37-0cc3-47d5-a5eb-d150b918b7b3",
   "metadata": {},
   "outputs": [],
   "source": [
    "public class WaterAnimal {\n",
    "    public boolean canBreathe() {\n",
    "        return true;\n",
    "    }\n",
    "}"
   ]
  },
  {
   "cell_type": "code",
   "execution_count": 7,
   "id": "febb4f73-a8e6-4fb9-8362-aa0f5afb25e6",
   "metadata": {},
   "outputs": [],
   "source": [
    "public class LandAnimal {\n",
    "    public boolean canBreathe() {\n",
    "        return true;\n",
    "    }\n",
    "}"
   ]
  },
  {
   "cell_type": "code",
   "execution_count": 8,
   "id": "2d78539f-e0e2-4804-9b07-df8df7d27c9c",
   "metadata": {},
   "outputs": [
    {
     "ename": "CompilationException",
     "evalue": "",
     "output_type": "error",
     "traceback": [
      "\u001b[1m\u001b[30m|   \u001b[1m\u001b[30mpublic class Crocodile extends LandAnimal\u001b[0m\u001b[1m\u001b[30m\u001b[41m\u001b[0m\u001b[1m\u001b[30m, WaterAnimal {}\u001b[0m",
      "\u001b[1m\u001b[31m'{' expected\u001b[0m",
      ""
     ]
    }
   ],
   "source": [
    "public class Crocodile extends LandAnimal, WaterAnimal {}"
   ]
  },
  {
   "cell_type": "markdown",
   "id": "f0d4737f-84b0-409f-9c02-ed88cdfd8b43",
   "metadata": {},
   "source": [
    "A class can implement multiple `interfaces`."
   ]
  },
  {
   "cell_type": "code",
   "execution_count": 9,
   "id": "f9d9e64d-eee4-42a7-b615-a1a765c0369d",
   "metadata": {},
   "outputs": [],
   "source": [
    "public interface LandAnimal {\n",
    "    public void canBreathe();\n",
    "}"
   ]
  },
  {
   "cell_type": "code",
   "execution_count": 10,
   "id": "a1d448d2-cbb4-46df-971c-f798a132a3fb",
   "metadata": {},
   "outputs": [],
   "source": [
    "public interface WaterAnimal {\n",
    "    public void canBreathe();\n",
    "}"
   ]
  },
  {
   "cell_type": "code",
   "execution_count": 11,
   "id": "8917aa19-36ab-4904-bb56-7f731769905d",
   "metadata": {},
   "outputs": [],
   "source": [
    "public class Crocodile implements LandAnimal, WaterAnimal{\n",
    "    @Override\n",
    "    public void canBreathe() {\n",
    "        System.out.println(\"Crocodile can breadth\");\n",
    "    }\n",
    "}"
   ]
  },
  {
   "cell_type": "markdown",
   "id": "bd7ff950-85d7-4dd7-b0af-73fef03c2513",
   "metadata": {},
   "source": [
    "## Methods in an Interface\n",
    "\n",
    "* All methods are implicitly `public abstract`.\n",
    "* Methods cannot be declared as `final`.\n",
    "\n",
    "```java\n",
    "public interface Bird {\n",
    "  void fly();\n",
    "}\n",
    "\n",
    "==\n",
    "\n",
    "public interface Bird {\n",
    "  public void fly();\n",
    "}\n",
    "```\n",
    "\n",
    "## Fields/Variables in an Interface\n",
    "\n",
    "* Fields are implicitly `public static final`.\n",
    "* Fields cannot be declared as `private` or `protected`.\n",
    "\n",
    "```java\n",
    "public interface Bird {\n",
    "  int MAX_HEIGHT_IN_FEET = 2000;\n",
    "}\n",
    "\n",
    "==\n",
    "\n",
    "public interface Bird {\n",
    "  public static final int MAX_HEIGHT_IN_FEET = 2000;\n",
    "}\n",
    "```\n",
    "\n",
    "## Interface Implementation\n",
    "\n",
    "* Overridden methods cannot have more restrictive access specifiers than those in the interface.\n",
    "* A concrete class must override all methods declared in the interface.\n",
    "* Abstract classes are not required to override all the methods of an interface.\n",
    "* A class can implement multiple interfaces."
   ]
  },
  {
   "cell_type": "code",
   "execution_count": 12,
   "id": "adc8b13a-0dd2-44e6-b392-ceeacbff08bc",
   "metadata": {},
   "outputs": [],
   "source": [
    "public interface Bird {\n",
    "    public void fly();\n",
    "}"
   ]
  },
  {
   "cell_type": "code",
   "execution_count": 13,
   "id": "ab296f5d-1581-4d25-9586-13ad3a6dedf6",
   "metadata": {},
   "outputs": [],
   "source": [
    "public class Sparrow implements Bird {\n",
    "    @Override\n",
    "    public void fly() {\n",
    "        System.out.println(\"Flying\");\n",
    "    }\n",
    "}"
   ]
  },
  {
   "cell_type": "code",
   "execution_count": 14,
   "id": "1126be83-7432-49b8-822b-a386ade1e7bb",
   "metadata": {},
   "outputs": [
    {
     "ename": "CompilationException",
     "evalue": "",
     "output_type": "error",
     "traceback": [
      "\u001b[1m\u001b[30m|   \u001b[1m\u001b[30m    \u001b[0m\u001b[1m\u001b[30m\u001b[41m@Override\u001b[0m",
      "\u001b[1m\u001b[30m|   \u001b[1m\u001b[30m\u001b[41m    protected void fly() {\u001b[0m",
      "\u001b[1m\u001b[30m|   \u001b[1m\u001b[30m\u001b[41m        System.out.println(\"Flying\");\u001b[0m",
      "\u001b[1m\u001b[30m|   \u001b[1m\u001b[30m\u001b[41m    }\u001b[0m",
      "\u001b[1m\u001b[31mfly() in Sparrow cannot implement fly() in Bird\u001b[0m",
      "\u001b[1m\u001b[31m  attempting to assign weaker access privileges; was public\u001b[0m",
      ""
     ]
    }
   ],
   "source": [
    "// can't be anything except public\n",
    "public class Sparrow implements Bird {\n",
    "    @Override\n",
    "    protected void fly() {\n",
    "        System.out.println(\"Flying\");\n",
    "    }\n",
    "} "
   ]
  },
  {
   "cell_type": "markdown",
   "id": "5e7a369c-1114-474b-a234-4f1f316bb858",
   "metadata": {
    "tags": []
   },
   "source": [
    "### Example of an Abstract Class Implementing an Interface"
   ]
  },
  {
   "cell_type": "code",
   "execution_count": 15,
   "id": "3109a662-e8cc-4afb-9fee-1d8a2148397d",
   "metadata": {},
   "outputs": [],
   "source": [
    "public interface Bird {\n",
    "    public void canfly();\n",
    "    public void noOfLegs();\n",
    "}"
   ]
  },
  {
   "cell_type": "code",
   "execution_count": 16,
   "id": "dfa74586-4082-4022-9d1b-3c9f13f114d9",
   "metadata": {},
   "outputs": [],
   "source": [
    "// in an abstract class, it is not mandatory to implement all interface methods, \n",
    "// but a concrete class must implement them.\n",
    "public abstract class Eagle implements Bird {\n",
    "    @Override\n",
    "    public void canfly() {}\n",
    "    \n",
    "    public abstract void beakLength();\n",
    "}"
   ]
  },
  {
   "cell_type": "code",
   "execution_count": 17,
   "id": "0352fdd0-6b5b-47bf-9e9d-fedb32da0048",
   "metadata": {},
   "outputs": [],
   "source": [
    "public class WhiteEagle extends Eagle {\n",
    "    @Override\n",
    "    public void noOfLegs() {}\n",
    "    \n",
    "    @Override\n",
    "    public void beakLength() {}\n",
    "}"
   ]
  },
  {
   "cell_type": "markdown",
   "id": "6ebecdeb-8058-43f7-92eb-162e05664483",
   "metadata": {},
   "source": [
    "## Nested Interface\n",
    "\n",
    "* An interface can be declared within another interface.\n",
    "* An interface can be declared within a class.\n",
    "\n",
    "It is generally used to group logically related interfaces.\n",
    "\n",
    "* [A Guide to Inner Interfaces in Java](https://www.baeldung.com/java-inner-interfaces)\n",
    "\n",
    "### Rules:\n",
    "\n",
    "* A nested interface declared within an interface must be `public`.\n",
    "* A nested interface declared within a class can have any access modifier.\n",
    "* When you implement an outer interface, implementing the inner interface is not required, and vice versa.\n",
    "\n",
    "### Interface within Another Interface"
   ]
  },
  {
   "cell_type": "code",
   "execution_count": 18,
   "id": "d854965b-f971-4d6c-968b-8b95db9ec365",
   "metadata": {},
   "outputs": [],
   "source": [
    "public interface Bird {\n",
    "    public void canFly();\n",
    "    \n",
    "    public interface NonFlyingBird {\n",
    "        public void canRun();\n",
    "    }\n",
    "}"
   ]
  },
  {
   "cell_type": "code",
   "execution_count": 19,
   "id": "6d324afa-5710-46d4-8c41-832e8c6cb4cf",
   "metadata": {},
   "outputs": [],
   "source": [
    "// implements only outer interface\n",
    "public class Sparrow implements Bird {\n",
    "    @Override\n",
    "    public void canFly() {}\n",
    "}"
   ]
  },
  {
   "cell_type": "code",
   "execution_count": 20,
   "id": "51504567-fa72-4fda-b313-7f5b6f7883cc",
   "metadata": {},
   "outputs": [],
   "source": [
    "// implements only nested interface\n",
    "public class Sparrow implements Bird.NonFlyingBird {\n",
    "    @Override\n",
    "    public void canRun() {\n",
    "       System.out.println(\"Sparrow can Run\");\n",
    "    }\n",
    "}"
   ]
  },
  {
   "cell_type": "code",
   "execution_count": 21,
   "id": "aa142c69-b130-4867-99ab-b7355b9c2322",
   "metadata": {},
   "outputs": [
    {
     "name": "stdout",
     "output_type": "stream",
     "text": [
      "Sparrow can Run\n"
     ]
    }
   ],
   "source": [
    "Bird.NonFlyingBird obj = new Sparrow(); // Sparrow obj = new Sparrow();\n",
    "obj.canRun();"
   ]
  },
  {
   "cell_type": "code",
   "execution_count": 22,
   "id": "425f09a0-2bdf-4b78-8d23-7a65f72c4348",
   "metadata": {},
   "outputs": [],
   "source": [
    "// implements both (inner and outer) interfaces\n",
    "public class Sparrow implements Bird, Bird.NonFlyingBird {\n",
    "    @Override\n",
    "    public void canRun() {\n",
    "       System.out.println(\"Sparrow can Run\");\n",
    "    }\n",
    "    \n",
    "    @Override\n",
    "    public void canFly() {\n",
    "       System.out.println(\"Sparrow can Fly\");\n",
    "    }\n",
    "}"
   ]
  },
  {
   "cell_type": "code",
   "execution_count": 23,
   "id": "28feab2d-86bb-4920-99f7-71ac9e3b9e0f",
   "metadata": {},
   "outputs": [
    {
     "name": "stdout",
     "output_type": "stream",
     "text": [
      "Sparrow can Run\n"
     ]
    }
   ],
   "source": [
    "Bird.NonFlyingBird obj = new Sparrow();\n",
    "obj.canRun();"
   ]
  },
  {
   "cell_type": "code",
   "execution_count": 24,
   "id": "14c428cd-2911-4a82-bebf-352d457ea90c",
   "metadata": {},
   "outputs": [
    {
     "name": "stdout",
     "output_type": "stream",
     "text": [
      "Sparrow can Fly\n"
     ]
    }
   ],
   "source": [
    "Bird obj = new Sparrow();\n",
    "obj.canFly();"
   ]
  },
  {
   "cell_type": "code",
   "execution_count": 25,
   "id": "4e0ee105-d9de-4f9f-8c5f-ad1f39e1262b",
   "metadata": {},
   "outputs": [
    {
     "name": "stdout",
     "output_type": "stream",
     "text": [
      "Sparrow can Fly\n",
      "Sparrow can Run\n"
     ]
    }
   ],
   "source": [
    "Sparrow obj = new Sparrow();\n",
    "obj.canFly();\n",
    "obj.canRun();"
   ]
  },
  {
   "cell_type": "markdown",
   "id": "77125bd6-91fe-43e5-9694-801c8f60fbc6",
   "metadata": {},
   "source": [
    "### Interface within a Class"
   ]
  },
  {
   "cell_type": "code",
   "execution_count": 26,
   "id": "b7689e44-b00a-429f-9e41-9b008e43f692",
   "metadata": {},
   "outputs": [],
   "source": [
    "public class Bird {\n",
    "    // modifier can be anything\n",
    "    protected interface NonFlyingBird {\n",
    "        void canRun();\n",
    "    }\n",
    "}"
   ]
  },
  {
   "cell_type": "code",
   "execution_count": 27,
   "id": "df6d3175-7b9e-4773-9e0e-40a24b8cfcaa",
   "metadata": {},
   "outputs": [],
   "source": [
    "public class Eagle implements Bird.NonFlyingBird {\n",
    "    @Override\n",
    "    public void canRun() {}\n",
    "}"
   ]
  },
  {
   "cell_type": "markdown",
   "id": "f746480f-514d-461e-b5d7-e96c8013a89c",
   "metadata": {},
   "source": [
    "## Interface vs Abstract\n",
    "\n",
    "* [Using an Interface vs. Abstract Class in Java](https://www.baeldung.com/java-interface-vs-abstract-class)\n",
    "* [Java interface FAQs](https://www.youtube.com/watch?v=qmDwVfkINkw) by Hari Krishna\n",
    "\n",
    "| No  | Abstract Class                                                | Interface                                                                          |\n",
    "|-----|---------------------------------------------------------------|-----------------------------------------------------------------------------------|\n",
    "| 1   | The keyword used here is `abstract`.                          | The keyword used here is `interface`.                                             |\n",
    "| 2   | Child classes must use the `extends` keyword.                 | Child classes must use the `implements` keyword.                                  |\n",
    "| 3   | It can have both abstract and non-abstract methods.           | It can have only abstract methods (prior to Java 8).                              |\n",
    "| 4   | It can extend another class and implement multiple interfaces.| It can extend only other interfaces.                                              |\n",
    "| 5   | Variables can be `static`, non-static, or `final`.            | Variables are by default constants (static and final).                            |\n",
    "| 6   | Methods and variables can have `private`, `protected`, `public`, or package-private access modifiers. | Methods and variables are by default `public`.    | \n",
    "| 7   | Multiple inheritance is not supported.                        | Multiple inheritance is supported (through interfaces).                           |\n",
    "| 8   | It can provide implementations for interfaces.                | It cannot provide implementations for other interfaces or abstract classes.       |\n",
    "| 9   | It can have constructors.                                     | It cannot have constructors.                                                      |\n",
    "| 10  | The `abstract` keyword is required to declare a method as abstract. It can be `public`, `protected`, `default`. | Methods are implicitly abstract and do not require the `abstract` keyword   | \n",
    "\n",
    "## Java 8 Interface Features\n",
    "\n",
    "* [Static and Default Methods in Interfaces in Java](https://www.baeldung.com/java-static-default-methods)\n",
    "* [Interface With Default Methods vs Abstract Class](https://www.baeldung.com/java-interface-default-method-vs-abstract-class)\n",
    "* [Java 8 Interview Questions(+ Answers)](https://www.baeldung.com/java-8-interview-questions)\n",
    "\n",
    "### Key Features Introduced in Java 8 Interfaces\n",
    "\n",
    "* Default Methods\n",
    "* Static Methods\n",
    "* Functional Interfaces and Lambda Expressions\n",
    "\n",
    "### Default Method\n",
    "\n",
    "Until Java 7, interfaces could only have public abstract methods, and implementing classes had to provide their implementations. Java 8 introduced default methods, which are methods with predefined implementations. Classes can override these methods if needed."
   ]
  },
  {
   "cell_type": "code",
   "execution_count": 28,
   "id": "8dd1f2f4-6e50-4b1b-8dff-9ad93235aa11",
   "metadata": {},
   "outputs": [],
   "source": [
    "public interface Bird {\n",
    "    public void canFly(); // same as public abstract void canFly();\n",
    "}\n",
    "\n",
    "public class Eagle implements Bird {\n",
    "    @Override\n",
    "    public void canFly() {}\n",
    "}\n",
    "\n",
    "public class Sparrow implements Bird {\n",
    "    @Override\n",
    "    public void canFly() {}\n",
    "}"
   ]
  },
  {
   "cell_type": "markdown",
   "id": "9285f1be-9fe9-49ca-80a1-796230f72275",
   "metadata": {},
   "source": [
    "Adding a new method to an interface requires updating all its implementing classes."
   ]
  },
  {
   "cell_type": "code",
   "execution_count": 29,
   "id": "4f0fcf7e-4807-4d7b-9fea-bff76d64f7cf",
   "metadata": {},
   "outputs": [],
   "source": [
    "public interface Bird {\n",
    "    public int getMiniumFlyWeight();\n",
    "    public void canFly();\n",
    "}\n",
    "\n",
    "public class Eagle implements Bird {\n",
    "    @Override\n",
    "    public void canFly() {}\n",
    "    \n",
    "    @Override\n",
    "    public int getMiniumFlyWeight() {\n",
    "        return 100;\n",
    "    }\n",
    "}\n",
    "\n",
    "public class Sparrow implements Bird {\n",
    "    @Override\n",
    "    public void canFly() {}\n",
    "    \n",
    "    @Override\n",
    "    public int getMiniumFlyWeight() {\n",
    "        return 100;\n",
    "    }\n",
    "}"
   ]
  },
  {
   "cell_type": "code",
   "execution_count": 30,
   "id": "9ec42a3c-49d1-476f-9d26-209a57dd5dbe",
   "metadata": {},
   "outputs": [
    {
     "data": {
      "text/plain": [
       "100"
      ]
     },
     "execution_count": 30,
     "metadata": {},
     "output_type": "execute_result"
    }
   ],
   "source": [
    "public interface Bird {\n",
    "    default public int getMiniumFlyWeight() { // implementation of this method in child classes is optional\n",
    "        return 100;\n",
    "    }\n",
    "    \n",
    "    public void canFly();\n",
    "}\n",
    "\n",
    "public class Sparrow implements Bird {\n",
    "    @Override\n",
    "    public void canFly() {}\n",
    "}\n",
    "\n",
    "Bird sparrow = new Sparrow();\n",
    "sparrow.getMiniumFlyWeight();"
   ]
  },
  {
   "cell_type": "code",
   "execution_count": 31,
   "id": "976b16d3-ca2a-4340-bbc5-00ce766b8781",
   "metadata": {},
   "outputs": [
    {
     "ename": "CompilationException",
     "evalue": "",
     "output_type": "error",
     "traceback": [
      "\u001b[1m\u001b[30m|   \u001b[1m\u001b[30m    \u001b[0m\u001b[1m\u001b[30m\u001b[41mdefault int hashCode() {\u001b[0m",
      "\u001b[1m\u001b[30m|   \u001b[1m\u001b[30m\u001b[41m        return 10;\u001b[0m",
      "\u001b[1m\u001b[30m|   \u001b[1m\u001b[30m\u001b[41m    }\u001b[0m",
      "\u001b[1m\u001b[31mdefault method hashCode in interface I overrides a member of java.lang.Object\u001b[0m",
      ""
     ]
    }
   ],
   "source": [
    "interface I {\n",
    "    default void m1() {\n",
    "        System.out.println(\"Hello\");\n",
    "    }\n",
    "\n",
    "    // Object class method can't be default method, not allowed to override\n",
    "    default int hashCode() {\n",
    "        return 10;\n",
    "    }\n",
    "}\n",
    "\n",
    "I.hashCode();"
   ]
  },
  {
   "cell_type": "markdown",
   "id": "4694afa5-2000-4e0b-b265-22944dbcefef",
   "metadata": {},
   "source": [
    "### Default Methods and Multiple Inheritance"
   ]
  },
  {
   "cell_type": "code",
   "execution_count": 32,
   "id": "4c309194-7e0a-4a8a-8b80-bb0377b760c5",
   "metadata": {},
   "outputs": [
    {
     "ename": "CompilationException",
     "evalue": "",
     "output_type": "error",
     "traceback": [
      "\u001b[1m\u001b[30m|   \u001b[1m\u001b[30m\u001b[0m\u001b[1m\u001b[30m\u001b[41m\u001b[0m",
      "\u001b[1m\u001b[30m|   \u001b[1m\u001b[30m\u001b[41m\u001b[0m",
      "\u001b[1m\u001b[30m|   \u001b[1m\u001b[30m\u001b[41mpublic class Human implements Bird, Plane {}\u001b[0m",
      "\u001b[1m\u001b[31mtypes Bird and Plane are incompatible;\u001b[0m",
      "\u001b[1m\u001b[31m  class Human inherits unrelated defaults for canFly() from types Bird and Plane\u001b[0m",
      ""
     ]
    }
   ],
   "source": [
    "public interface Bird {\n",
    "    default boolean canFly() {\n",
    "        return true;\n",
    "    }\n",
    "}\n",
    "\n",
    "public interface Plane {\n",
    "    default boolean canFly() {\n",
    "        return true;\n",
    "    }\n",
    "}\n",
    "\n",
    "public class Human implements Bird, Plane {}"
   ]
  },
  {
   "cell_type": "code",
   "execution_count": 33,
   "id": "cf0e7478-bc7a-4b69-9ef9-9cff33a6167e",
   "metadata": {},
   "outputs": [],
   "source": [
    "// you've to provide default method implementation\n",
    "public class Human implements Bird, Plane {\n",
    "    public boolean canFly() {\n",
    "        Bird.super.canFly();\n",
    "        return false;\n",
    "    }\n",
    "}"
   ]
  },
  {
   "cell_type": "markdown",
   "id": "da0e1a8b-705b-4b61-867d-2fe85fe899a9",
   "metadata": {},
   "source": [
    "### Extend an interface that contains a default method\r\n",
    "\r\n",
    "#### Method 1  "
   ]
  },
  {
   "cell_type": "code",
   "execution_count": 34,
   "id": "e7ad3a8f-0389-4bf3-ab89-13b59a3c4cb6",
   "metadata": {},
   "outputs": [
    {
     "data": {
      "text/plain": [
       "true"
      ]
     },
     "execution_count": 34,
     "metadata": {},
     "output_type": "execute_result"
    }
   ],
   "source": [
    "public interface LivingThing {\n",
    "    default boolean canBreadth() {\n",
    "        return true;\n",
    "    }\n",
    "}\n",
    "\n",
    "public interface Bird extends LivingThing {}\n",
    "public class Eagle implements Bird {}\n",
    "\n",
    "Eagle eagle = new Eagle();\n",
    "eagle.canBreadth();"
   ]
  },
  {
   "cell_type": "markdown",
   "id": "e6ccdbf7-3dd3-4ba2-9d74-a4eb1ff011cd",
   "metadata": {},
   "source": [
    "#### Method 2"
   ]
  },
  {
   "cell_type": "code",
   "execution_count": 35,
   "id": "587cf7e0-de74-4d14-a630-d863989f8162",
   "metadata": {},
   "outputs": [
    {
     "data": {
      "text/plain": [
       "true"
      ]
     },
     "execution_count": 35,
     "metadata": {},
     "output_type": "execute_result"
    }
   ],
   "source": [
    "public interface LivingThing {\n",
    "    default boolean canBreadth() {\n",
    "        return true;\n",
    "    }\n",
    "}\n",
    "\n",
    "public interface Bird extends LivingThing {\n",
    "    // LivingThing.canBreadth becomes abstract now\n",
    "    boolean canBreadth();\n",
    "}\n",
    "\n",
    "public class Eagle implements Bird {\n",
    "    // now child class has to implement it\n",
    "    @Override\n",
    "    public boolean canBreadth() {\n",
    "        return true;\n",
    "    }\n",
    "}\n",
    "\n",
    "Eagle eagle = new Eagle();\n",
    "eagle.canBreadth();"
   ]
  },
  {
   "cell_type": "markdown",
   "id": "1cf72c55-b045-47a3-aa02-fbb6f77991ac",
   "metadata": {},
   "source": [
    "#### Method 3"
   ]
  },
  {
   "cell_type": "code",
   "execution_count": 36,
   "id": "7db121ea-0761-4fac-94db-1858c96ace69",
   "metadata": {},
   "outputs": [
    {
     "data": {
      "text/plain": [
       "true"
      ]
     },
     "execution_count": 36,
     "metadata": {},
     "output_type": "execute_result"
    }
   ],
   "source": [
    "public interface LivingThing {\n",
    "    default boolean canBreadth() {\n",
    "        return true;\n",
    "    }\n",
    "}\n",
    "\n",
    "public interface Bird extends LivingThing {\n",
    "    // override parent implementation\n",
    "    default boolean canBreadth() {\n",
    "        return LivingThing.super.canBreadth();\n",
    "    }\n",
    "}\n",
    "\n",
    "public class Eagle implements Bird {}\n",
    "\n",
    "Eagle eagle = new Eagle();\n",
    "eagle.canBreadth();"
   ]
  },
  {
   "cell_type": "markdown",
   "id": "1f64d808-75aa-47fe-a5ae-e02efa77f3ff",
   "metadata": {},
   "source": [
    "### Static Method\n",
    "\n",
    "* Interfaces can include static methods with implementations.\n",
    "* Static methods cannot be overridden by the classes that implement the interface.\n",
    "* Static methods in an interface are not inherited by the implementing class and must be called using the interface name.\n",
    "* They are implicitly `public` by default."
   ]
  },
  {
   "cell_type": "code",
   "execution_count": 37,
   "id": "0d18b991-832e-4a59-b6b0-f277ba851ef7",
   "metadata": {},
   "outputs": [],
   "source": [
    "public interface Bird {\n",
    "    static boolean canBreathe() {\n",
    "        return true;\n",
    "    }\n",
    "}\n",
    "\n",
    "public class Eagle implements Bird {\n",
    "    public void test() {\n",
    "        if (Bird.canBreathe()) {}\n",
    "    }\n",
    "}"
   ]
  },
  {
   "cell_type": "code",
   "execution_count": 38,
   "id": "e1bde2ae-0555-487c-9fbc-2ad01226ef09",
   "metadata": {},
   "outputs": [
    {
     "name": "stdout",
     "output_type": "stream",
     "text": [
      "Interface Static Method\n"
     ]
    }
   ],
   "source": [
    "interface A {\n",
    "    static void m1() {\n",
    "        System.out.println(\"Interface Static Method\");\n",
    "    }\n",
    "}\n",
    "\n",
    "A.m1();"
   ]
  },
  {
   "cell_type": "code",
   "execution_count": 39,
   "id": "02c4e245-1bcb-4779-b0f4-0cefa72c688b",
   "metadata": {},
   "outputs": [
    {
     "name": "stdout",
     "output_type": "stream",
     "text": [
      "Static Main Method\n"
     ]
    }
   ],
   "source": [
    "// it is also possible to declare a main method inside an interface\n",
    "interface A {\n",
    "    public static void main(String[] args) {\n",
    "        System.out.println(\"Static Main Method\");\n",
    "    }\n",
    "}\n",
    "\n",
    "A.main(new String[]{}); // tested in .java file"
   ]
  },
  {
   "cell_type": "markdown",
   "id": "bcae81b2-380d-44a0-9d6d-325d57138bba",
   "metadata": {},
   "source": [
    "### Functional Interfaces and Lambda Expressions\n",
    "\n",
    "* [Functional Interfaces in Java 8](https://www.baeldung.com/java-8-functional-interfaces)\n",
    "* [Lambda Expressions and Functional Interfaces: Tips and Best Practices](https://www.baeldung.com/java-8-lambda-expressions-tips)\n",
    "\n",
    "#### What is a Functional Interface?\n",
    "\n",
    "* A functional interface is an interface with exactly one abstract method.\n",
    "* It can have multiple default or static methods.\n",
    "* It is also referred to as a **SAM (Single Abstract Method)** interface.\n",
    "* The `@FunctionalInterface` annotation is used to mark an interface as a functional interface.\n",
    "\n",
    "```java\n",
    "@FunctionalInterface\n",
    "public interface Bird {\n",
    "  void canFly();\n",
    "}\n",
    "\n",
    "==\n",
    "\n",
    "public interface Bird {\n",
    "  void canFly();\n",
    "}\n",
    "```\n",
    "\n",
    "The `@FunctionalInterface` annotation ensures that an interface can have only one abstract method. If more than one abstract method is added, a compilation error will occur."
   ]
  },
  {
   "cell_type": "code",
   "execution_count": 40,
   "id": "a083a711-8796-40b4-bb4a-2a9e2d08d48d",
   "metadata": {},
   "outputs": [
    {
     "ename": "CompilationException",
     "evalue": "",
     "output_type": "error",
     "traceback": [
      "\u001b[1m\u001b[30m|   \u001b[1m\u001b[30m\u001b[0m\u001b[1m\u001b[30m\u001b[41m@FunctionalInterface\u001b[0m\u001b[1m\u001b[30m\u001b[0m",
      "\u001b[1m\u001b[31mUnexpected @FunctionalInterface annotation\u001b[0m",
      "\u001b[1m\u001b[31m  Bird is not a functional interface\u001b[0m",
      "\u001b[1m\u001b[31m    multiple non-overriding abstract methods found in interface Bird\u001b[0m",
      ""
     ]
    }
   ],
   "source": [
    "@FunctionalInterface\n",
    "public interface Bird {\n",
    "    void canFly();\n",
    "    \n",
    "    void sayHi();\n",
    "}"
   ]
  },
  {
   "cell_type": "markdown",
   "id": "c263bf8f-38cc-4bb6-b2e1-de2bf96388ac",
   "metadata": {},
   "source": [
    "A functional interface can have only one abstract method, but it can include other methods such as default methods, static methods, or methods inherited from Object class."
   ]
  },
  {
   "cell_type": "code",
   "execution_count": 41,
   "id": "a905117d-af44-4ace-a5f0-f62cfe461ead",
   "metadata": {},
   "outputs": [],
   "source": [
    "@FunctionalInterface\n",
    "public interface Bird {\n",
    "    void canFly(); // abstract method\n",
    "\n",
    "    default void getWeight() {}\n",
    "    static void canEat() {}\n",
    "\n",
    "    String toString(); // Object class method\n",
    "}"
   ]
  },
  {
   "cell_type": "markdown",
   "id": "616d1278-749d-4a17-8759-6456de49664f",
   "metadata": {},
   "source": [
    "### What is a Lambda Expression?\n",
    "\n",
    "A lambda expression is an anonymous function that does not have a name, modifiers, or a return type, and it is one of the ways to implement a functional interface.\n",
    "\n",
    "```java\n",
    "n -> return n*n; // invalid\n",
    "n -> {return n*n;}; // valid\n",
    "n -> {return n*n}; // invalid\n",
    "n -> {n*n;}; // invalid\n",
    "n -> n*n; // valid\n",
    "```\n",
    "\n",
    "Without curly braces, you cannot use the `return` keyword; the compiler will automatically consider the returned value. However, when using curly braces, if you want to return a value, you must explicitly use the `return` statement.\n",
    "\n",
    "To invoke a lambda expression, you need to use a `FunctionalInterface`, which contains a single abstract method.\n",
    "\n",
    "* [Exceptions in Java Lambda Expressions](https://www.baeldung.com/java-lambda-exceptions)"
   ]
  },
  {
   "cell_type": "code",
   "execution_count": 42,
   "id": "bb531639-4ace-433c-a5f8-6b4673790c18",
   "metadata": {},
   "outputs": [
    {
     "data": {
      "text/plain": [
       "The Square of 5 is 25"
      ]
     },
     "execution_count": 42,
     "metadata": {},
     "output_type": "execute_result"
    }
   ],
   "source": [
    "import java.util.function.*;\n",
    "\n",
    "class Test {\n",
    "    public static int squareOfN(int n) {\n",
    "        return n * n;\n",
    "    }\n",
    "}\n",
    "\n",
    "int n = 5;\n",
    "Test t = new Test();\n",
    "String str = String.format(\"The Square of %d is %d\", n, t.squareOfN(n));\n",
    "\n",
    "str;"
   ]
  },
  {
   "cell_type": "code",
   "execution_count": 43,
   "id": "6717c5eb-75a8-4f5a-be5f-240fde232f3b",
   "metadata": {},
   "outputs": [
    {
     "data": {
      "text/plain": [
       "25"
      ]
     },
     "execution_count": 43,
     "metadata": {},
     "output_type": "execute_result"
    }
   ],
   "source": [
    "Function<Integer, Integer> square = (i) -> i * i; \n",
    "square.apply(n);"
   ]
  },
  {
   "cell_type": "code",
   "execution_count": 44,
   "id": "189f3f3a-a905-4fa6-b7af-656879c47fb3",
   "metadata": {},
   "outputs": [
    {
     "data": {
      "text/plain": [
       "false"
      ]
     },
     "execution_count": 44,
     "metadata": {},
     "output_type": "execute_result"
    }
   ],
   "source": [
    "Predicate<Integer> isEven = (num) -> num % 2 == 0;\n",
    "isEven.test(square.apply(n));"
   ]
  },
  {
   "cell_type": "code",
   "execution_count": 45,
   "id": "d3482823-473a-40dc-9863-0d9192b8c23e",
   "metadata": {},
   "outputs": [
    {
     "data": {
      "text/plain": [
       "25"
      ]
     },
     "execution_count": 45,
     "metadata": {},
     "output_type": "execute_result"
    }
   ],
   "source": [
    "BiFunction<Integer, Integer, Integer> sumOfNumbers = (a, b) -> a + b;\n",
    "sumOfNumbers.apply(10, 15);"
   ]
  },
  {
   "cell_type": "code",
   "execution_count": 46,
   "id": "a131aa52-3b6f-4d9a-850c-610003e67dda",
   "metadata": {},
   "outputs": [
    {
     "data": {
      "text/plain": [
       "12"
      ]
     },
     "execution_count": 46,
     "metadata": {},
     "output_type": "execute_result"
    }
   ],
   "source": [
    "Function<String, Integer> lengthOfStr = (string) -> string.length();\n",
    "lengthOfStr.apply(\"Hello, World\");"
   ]
  },
  {
   "cell_type": "code",
   "execution_count": 47,
   "id": "4f941eff-8045-4ae8-b94e-68ee2e335e3a",
   "metadata": {},
   "outputs": [],
   "source": [
    "interface Interf {\n",
    "    void m1();\n",
    "}\n",
    "\n",
    "class Demo implements Interf {\n",
    "    @Override\n",
    "    public void m1() {\n",
    "        System.out.println(\"Hello, World\");\n",
    "    }\n",
    "}"
   ]
  },
  {
   "cell_type": "code",
   "execution_count": 48,
   "id": "90704214-440c-4750-a665-2a33b665c6c6",
   "metadata": {},
   "outputs": [
    {
     "name": "stdout",
     "output_type": "stream",
     "text": [
      "Hello, World\n"
     ]
    }
   ],
   "source": [
    "Interf i = new Demo(); // old way\n",
    "i.m1();"
   ]
  },
  {
   "cell_type": "code",
   "execution_count": 49,
   "id": "c15f382a-0a6a-45fe-bef7-8155c63d4a35",
   "metadata": {},
   "outputs": [
    {
     "name": "stdout",
     "output_type": "stream",
     "text": [
      "Hello\n"
     ]
    }
   ],
   "source": [
    "Interf i = () -> System.out.println(\"Hello\"); // lambda\n",
    "i.m1();"
   ]
  },
  {
   "cell_type": "code",
   "execution_count": 50,
   "id": "814d0b69-1e75-48f1-bf72-91d7509bb625",
   "metadata": {},
   "outputs": [
    {
     "name": "stdout",
     "output_type": "stream",
     "text": [
      "Hello, World\n"
     ]
    }
   ],
   "source": [
    "Interf i = new Demo() { // anonymous class\n",
    "    @Override\n",
    "    public void m1() {\n",
    "        System.out.println(\"Hello, World\");\n",
    "    }\n",
    "};\n",
    "\n",
    "i.m1();"
   ]
  },
  {
   "cell_type": "markdown",
   "id": "633dc9fe-61d8-4309-b361-683999991f57",
   "metadata": {},
   "source": [
    "We can implement a thread in two ways:  \n",
    "* By implementing the **Runnable** interface.  \n",
    "* By extending the **Thread** class."
   ]
  },
  {
   "cell_type": "code",
   "execution_count": 51,
   "id": "ec01a9c9-946a-41d6-be9f-ee12497904f8",
   "metadata": {},
   "outputs": [
    {
     "name": "stdout",
     "output_type": "stream",
     "text": [
      "Child Thread\n",
      "Child Thread\n",
      "Child Thread\n",
      "Child Thread\n",
      "Child Thread\n",
      "Child Thread\n",
      "Child Thread\n",
      "Child Thread\n",
      "Child Thread\n",
      "Child Thread\n",
      "Main Thread\n",
      "Main Thread\n",
      "Main Thread\n",
      "Main Thread\n",
      "Main Thread\n",
      "Main Thread\n",
      "Main Thread\n",
      "Main Thread\n",
      "Main Thread\n",
      "Main Thread\n"
     ]
    }
   ],
   "source": [
    "class MyRunnable implements Runnable {\n",
    "    public void run() {\n",
    "        for (int i = 0; i < 10; i++) {\n",
    "            System.out.println(\"Child Thread\");\n",
    "        }\n",
    "    }\n",
    "}\n",
    "\n",
    "MyRunnable r = new MyRunnable(); // there is only one thread\n",
    "Thread t = new Thread(r);\n",
    "t.start(); // after there are 2 threads\n",
    "\n",
    "for (int i = 0; i < 10; i++) {\n",
    "    System.out.println(\"Main Thread\");\n",
    "}"
   ]
  },
  {
   "cell_type": "code",
   "execution_count": 52,
   "id": "b6e5eb1b-7dc3-471b-aeff-5c7ee9c5aec0",
   "metadata": {},
   "outputs": [
    {
     "name": "stdout",
     "output_type": "stream",
     "text": [
      "Child Thread-2\n",
      "Child Thread-2\n",
      "Child Thread-2\n",
      "Child Thread-2\n",
      "Child Thread-2\n",
      "Child Thread-2\n",
      "Child Thread-2\n",
      "Child Thread-2\n",
      "Child Thread-2\n",
      "Child Thread-2\n",
      "Main Thread-2\n",
      "Main Thread-2\n",
      "Main Thread-2\n",
      "Main Thread-2\n",
      "Main Thread-2\n",
      "Main Thread-2\n",
      "Main Thread-2\n",
      "Main Thread-2\n",
      "Main Thread-2\n",
      "Main Thread-2\n"
     ]
    }
   ],
   "source": [
    "// via lambda\n",
    "Runnable r = () -> {\n",
    "    for (int i = 0; i < 10; i++) {\n",
    "        System.out.println(\"Child Thread-2\");\n",
    "    }\n",
    "};\n",
    "\n",
    "Thread t = new Thread(r);\n",
    "t.start();\n",
    "\n",
    "for (int i = 0; i < 10; i++) {\n",
    "    System.out.println(\"Main Thread-2\");\n",
    "}"
   ]
  },
  {
   "cell_type": "code",
   "execution_count": 53,
   "id": "dc3cfa45-7626-417b-bdda-0da080bc2bb2",
   "metadata": {},
   "outputs": [
    {
     "data": {
      "text/plain": [
       "[20, 30, 5, 0, 50]"
      ]
     },
     "execution_count": 53,
     "metadata": {},
     "output_type": "execute_result"
    }
   ],
   "source": [
    "ArrayList<Integer> l = new ArrayList<>();\n",
    "l.add (20);\n",
    "l.add(30);\n",
    "l.add(5);\n",
    "l.add(0);\n",
    "l.add (50);\n",
    "\n",
    "l;"
   ]
  },
  {
   "cell_type": "markdown",
   "id": "c3f509d7-5b64-4420-97f1-5857d3d786e7",
   "metadata": {},
   "source": [
    "### Sorting with a Custom Comparator\n",
    "\n",
    "Rules:\n",
    "\n",
    "* The `Comparator` interface defines the `compare(T o1, T o2)` method, which:\n",
    "  * Returns a negative integer if `o1` should come before `o2`.\n",
    "  * Returns a positive integer if `o1` should come after `o2`.\n",
    "  * Returns `0` if `o1` and `o2` are considered equal."
   ]
  },
  {
   "cell_type": "code",
   "execution_count": 54,
   "id": "b05298e8-123e-4312-b36d-4555fb359166",
   "metadata": {},
   "outputs": [
    {
     "data": {
      "text/plain": [
       "[0, 5, 20, 30, 50]"
      ]
     },
     "execution_count": 54,
     "metadata": {},
     "output_type": "execute_result"
    }
   ],
   "source": [
    "class MyComparator implements Comparator<Integer> {\n",
    "    public int compare(Integer i, Integer j) {\n",
    "        if (i < j) {\n",
    "            return -1;\n",
    "        } else if (i > j) {\n",
    "            return 1;\n",
    "        } else {\n",
    "            return 0;\n",
    "        }\n",
    "    }\n",
    "}\n",
    "\n",
    "Collections.sort(l, new MyComparator());\n",
    "l;"
   ]
  },
  {
   "cell_type": "code",
   "execution_count": 55,
   "id": "640931bb-a55a-4954-a0d6-8bc3614a31f8",
   "metadata": {},
   "outputs": [
    {
     "data": {
      "text/plain": [
       "[50, 30, 20, 5, 0]"
      ]
     },
     "execution_count": 55,
     "metadata": {},
     "output_type": "execute_result"
    }
   ],
   "source": [
    "class MyComparator implements Comparator<Integer> {\n",
    "    public int compare(Integer i, Integer j) {\n",
    "        if (i > j) { // reverse the operation\n",
    "            return -1;\n",
    "        } else if (i < j) {\n",
    "            return 1;\n",
    "        } else {\n",
    "            return 0;\n",
    "        }\n",
    "    }\n",
    "}\n",
    "\n",
    "// the `compare` method is called automatically by the sort function during the sorting process.\n",
    "Collections.sort(l, new MyComparator());\n",
    "l; // descending order"
   ]
  },
  {
   "cell_type": "code",
   "execution_count": 56,
   "id": "c3f6efdc-4e51-44e6-939c-851b31cbaace",
   "metadata": {},
   "outputs": [
    {
     "data": {
      "text/plain": [
       "[0, 5, 20, 30, 50]"
      ]
     },
     "execution_count": 56,
     "metadata": {},
     "output_type": "execute_result"
    }
   ],
   "source": [
    "Comparator<Integer> c = (l1, l2) -> (l1 < l2) ? -1: (l1 > l2) ? 1 : 0;\n",
    "\n",
    "Collections.sort(l, c);\n",
    "l;"
   ]
  },
  {
   "cell_type": "markdown",
   "id": "2585e889-8f0c-4393-a2e5-b238b6373afc",
   "metadata": {},
   "source": [
    "### Different ways to implement Functional Interface..."
   ]
  },
  {
   "cell_type": "code",
   "execution_count": 57,
   "id": "a7e9b5aa-384b-4555-9f7f-2ad0fe6c76e1",
   "metadata": {},
   "outputs": [],
   "source": [
    "// 1) using \"implements\" keyword\n",
    "\n",
    "@FunctionalInterface\n",
    "public interface Bird {\n",
    "    public void canFly(String val);\n",
    "}\n",
    "\n",
    "public class Eagle implements Bird {\n",
    "    @Override\n",
    "    public void canFly(String val) {}\n",
    "}"
   ]
  },
  {
   "cell_type": "code",
   "execution_count": 58,
   "id": "4df3b2f1-bda1-4669-9a25-b340cba8636a",
   "metadata": {},
   "outputs": [],
   "source": [
    "// 2) using anonymous class\n",
    "\n",
    "@FunctionalInterface\n",
    "public interface Bird {\n",
    "    public void canFly();\n",
    "}\n",
    "\n",
    "Bird eagle = new Bird() {\n",
    "    @Override\n",
    "    public void canFly() {}\n",
    "};\n",
    "\n",
    "eagle.canFly();"
   ]
  },
  {
   "cell_type": "code",
   "execution_count": 59,
   "id": "f6ae250a-3502-4dc6-8cca-ddcef66d328b",
   "metadata": {},
   "outputs": [],
   "source": [
    "// 3) using lambda expression\n",
    "\n",
    "@FunctionalInterface\n",
    "public interface Bird {\n",
    "    public void canFly(String val);\n",
    "}\n",
    "\n",
    "Bird eagle = (String val) -> {\n",
    "    System.out.println(val);\n",
    "};"
   ]
  },
  {
   "cell_type": "markdown",
   "id": "46a093b3-77a6-4a22-8596-b944f01cbf9d",
   "metadata": {},
   "source": [
    "### Types of Functional Interface\n",
    "\n",
    "* Predefined Functional Interface\n",
    "  * Consumer\n",
    "  * Supplier\n",
    "  * Function\n",
    "  * Predicate\n",
    "* Two arguments Predefined Functional Interface\n",
    "  * BiFunction\n",
    "  * BiConsumer\n",
    "  * BiPredicate\n",
    "* Primitive Functional Interface\n",
    "  * IntPredicate\n",
    "  * IntFunction\n",
    "  * IntConsumer\n",
    "\n",
    "#### Consumer\n",
    "\n",
    "* Represents a function that accepts a single argument and returns no result (void).\n",
    "* Found in the `java.util.function` package.\n",
    "\n",
    "```java\n",
    "@FunctionalInterface\n",
    "public interface Consumer<T> {\n",
    "    public void accept(T t);\n",
    "}\n",
    "```"
   ]
  },
  {
   "cell_type": "code",
   "execution_count": 60,
   "id": "0f7da143-4906-4bfa-a062-292e06e78a09",
   "metadata": {},
   "outputs": [
    {
     "name": "stdout",
     "output_type": "stream",
     "text": [
      "Logging\n"
     ]
    }
   ],
   "source": [
    "Consumer<Integer> consumer = val -> {\n",
    "    if (val > 10) {\n",
    "        System.out.println(\"Logging\");\n",
    "    }\n",
    "};\n",
    "\n",
    "consumer.accept(20);"
   ]
  },
  {
   "cell_type": "code",
   "execution_count": 61,
   "id": "16bd1754-8d78-4c7a-a181-f21ff99622a0",
   "metadata": {},
   "outputs": [
    {
     "name": "stdout",
     "output_type": "stream",
     "text": [
      "Hello, World\n"
     ]
    }
   ],
   "source": [
    "Consumer<String> c = (s) -> System.out.println(s);\n",
    "c.accept(\"Hello, World\");"
   ]
  },
  {
   "cell_type": "code",
   "execution_count": 62,
   "id": "c1208e76-d525-4a04-a618-7c1f466b9d0c",
   "metadata": {},
   "outputs": [
    {
     "name": "stdout",
     "output_type": "stream",
     "text": [
      "Squid Game Season 2 is ready to release\n",
      "Baby John is released but flopped\n",
      "Tum bin storing information in database\n"
     ]
    }
   ],
   "source": [
    "// chaining\n",
    "class Movie {\n",
    "    String name;\n",
    "\n",
    "    Movie(String name) {\n",
    "        this.name = name;\n",
    "    }\n",
    "}\n",
    "\n",
    "Consumer<Movie> m1 = m -> System.out.println(m.name + \" is ready to release\");\n",
    "Consumer<Movie> m2 = m -> System.out.println(m.name + \" is released but flopped\");\n",
    "Consumer<Movie> m3 = m -> System.out.println(m.name + \" storing information in database\");\n",
    "\n",
    "Movie[] movies = {new Movie(\"Squid Game Season 2\"), new Movie(\"Baby John\"), new Movie(\"Tum bin\")};\n",
    "// Consumer<Movie> cc = m1.andThen(m2).andThen(m3);\n",
    "Consumer[] c = {m1, m2, m3};\n",
    "\n",
    "int x = 0;\n",
    "for (Movie movie: movies) {\n",
    "    c[x].accept(movie);\n",
    "    x += 1;\n",
    "}"
   ]
  },
  {
   "cell_type": "markdown",
   "id": "084135c4-b982-44c2-919f-339009f3721e",
   "metadata": {},
   "source": [
    "#### Supplier\n",
    "\n",
    "* Represents a function that return/supplies a value of type `R`, but takes no input.\n",
    "* Found in the `java.util.function` package.\n",
    "\n",
    "```java\n",
    "@FunctionalInterface\n",
    "public interface Supplier<R> {\n",
    "    public R get();\n",
    "}\n",
    "```"
   ]
  },
  {
   "cell_type": "code",
   "execution_count": 63,
   "id": "fdd9166e-4a72-498f-8b4c-828e52285f44",
   "metadata": {},
   "outputs": [
    {
     "data": {
      "text/plain": [
       "Hello"
      ]
     },
     "execution_count": 63,
     "metadata": {},
     "output_type": "execute_result"
    }
   ],
   "source": [
    "Supplier<String> supplier = () -> \"Hello\";\n",
    "supplier.get();"
   ]
  },
  {
   "cell_type": "code",
   "execution_count": 64,
   "id": "6942cd76-33f3-4ac1-a1b9-79ea4a2c4292",
   "metadata": {},
   "outputs": [
    {
     "data": {
      "text/plain": [
       "6.1944375973820485"
      ]
     },
     "execution_count": 64,
     "metadata": {},
     "output_type": "execute_result"
    }
   ],
   "source": [
    "Supplier<Double> randomValue = () -> Math.random() * 10;\n",
    "randomValue.get();"
   ]
  },
  {
   "cell_type": "code",
   "execution_count": 65,
   "id": "b08f5d89-5fcc-47ce-8a6b-2d7df4c97089",
   "metadata": {},
   "outputs": [
    {
     "data": {
      "text/plain": [
       "Sun Dec 29 06:05:46 UTC 2024"
      ]
     },
     "execution_count": 65,
     "metadata": {},
     "output_type": "execute_result"
    }
   ],
   "source": [
    "import java.util.Date;\n",
    "\n",
    "Supplier<Date> d = () -> new Date();\n",
    "d.get();"
   ]
  },
  {
   "cell_type": "code",
   "execution_count": 66,
   "id": "a92e40ae-ef92-4b0a-8749-e3d42be45281",
   "metadata": {},
   "outputs": [
    {
     "data": {
      "text/plain": [
       "642265"
      ]
     },
     "execution_count": 66,
     "metadata": {},
     "output_type": "execute_result"
    }
   ],
   "source": [
    "Supplier<String> s = () -> {\n",
    "    String otp = \"\";\n",
    "\n",
    "    for (int i = 0; i < 6; i++) {\n",
    "        otp += (int)(Math.random() * 10);\n",
    "    }\n",
    "\n",
    "    return otp;\n",
    "};\n",
    "\n",
    "s.get();"
   ]
  },
  {
   "cell_type": "markdown",
   "id": "099e2616-6876-4c0c-affd-9610b6f0a2cc",
   "metadata": {},
   "source": [
    "#### Function\n",
    "\n",
    "* Represents a function that accepts one argument type `T` and produces a result of type `R`.\n",
    "* Found in the `java.util.function` package.\n",
    "\n",
    "```java\n",
    "@FunctionalInterface\n",
    "public interface Function<T, R> {\n",
    "    public R apply (T t);\n",
    "}\n",
    "```"
   ]
  },
  {
   "cell_type": "code",
   "execution_count": 67,
   "id": "3f51462b-3487-4f60-932d-8dda177152fb",
   "metadata": {},
   "outputs": [
    {
     "data": {
      "text/plain": [
       "Hello John"
      ]
     },
     "execution_count": 67,
     "metadata": {},
     "output_type": "execute_result"
    }
   ],
   "source": [
    "Function<String, String> function = (String name) -> \"Hello \" + name;\n",
    "function.apply(\"John\");"
   ]
  },
  {
   "cell_type": "code",
   "execution_count": 68,
   "id": "6ae7616a-14d5-43a2-b975-477fe190f7ee",
   "metadata": {},
   "outputs": [
    {
     "data": {
      "text/plain": [
       "25"
      ]
     },
     "execution_count": 68,
     "metadata": {},
     "output_type": "execute_result"
    }
   ],
   "source": [
    "Function<Integer, Integer> square = (n) -> n * n;\n",
    "square.apply(5);"
   ]
  },
  {
   "cell_type": "code",
   "execution_count": 69,
   "id": "7a73077f-73a6-45e3-81a0-f62c46255089",
   "metadata": {},
   "outputs": [
    {
     "data": {
      "text/plain": [
       "HELLO-WORLD"
      ]
     },
     "execution_count": 69,
     "metadata": {},
     "output_type": "execute_result"
    }
   ],
   "source": [
    "Function<String, String> strUpper = (str) -> str.toUpperCase();\n",
    "strUpper.apply(\"hello-world\");"
   ]
  },
  {
   "cell_type": "code",
   "execution_count": 70,
   "id": "7fc6f8b2-d5ae-4ff2-8dba-21de64b0d01b",
   "metadata": {},
   "outputs": [
    {
     "name": "stdout",
     "output_type": "stream",
     "text": [
      "64\n",
      "16\n"
     ]
    }
   ],
   "source": [
    "Function<Integer, Integer> f1 = i -> 2 * i;\n",
    "Function<Integer, Integer> f2 = i -> i * i * i;\n",
    "\n",
    "// it's used to combine two functions (chaining), executing one after the other. the result of the first function becomes the input to the second function.\n",
    "System.out.println(f1.andThen(f2).apply(2));\n",
    "\n",
    "// it is used to combine two functions, but with the order of execution reversed compared to .andThen().\n",
    "System.out.println(f1.compose(f2).apply(2));"
   ]
  },
  {
   "cell_type": "markdown",
   "id": "361e3094-6014-47a4-bdb0-a46cb0a7435e",
   "metadata": {},
   "source": [
    "#### Predicate\n",
    "\n",
    "* Represents a function that accepts one argument and returns a `boolean`.\n",
    "* Found in the `java.util.function` package.\n",
    "\n",
    "```java\n",
    "@FunctionalInterface\n",
    "public interface Predicate<T> {\n",
    "    public boolean test(T t);\n",
    "}\n",
    "```"
   ]
  },
  {
   "cell_type": "code",
   "execution_count": 71,
   "id": "4e18e2f4-7b78-4421-8fb8-8df2711bef03",
   "metadata": {},
   "outputs": [
    {
     "data": {
      "text/plain": [
       "false"
      ]
     },
     "execution_count": 71,
     "metadata": {},
     "output_type": "execute_result"
    }
   ],
   "source": [
    "Predicate<Integer> isEven = (number) -> number % 2 == 0;\n",
    "isEven.test(5555);"
   ]
  },
  {
   "cell_type": "code",
   "execution_count": 72,
   "id": "abe99281-7c90-4875-a576-be5e52c9a1d2",
   "metadata": {},
   "outputs": [
    {
     "data": {
      "text/plain": [
       "true"
      ]
     },
     "execution_count": 72,
     "metadata": {},
     "output_type": "execute_result"
    }
   ],
   "source": [
    "Predicate<String> isNotEmpty = (string) -> string.isEmpty();\n",
    "isNotEmpty.test(\"\");"
   ]
  },
  {
   "cell_type": "code",
   "execution_count": 73,
   "id": "08d499c4-c7d8-4a95-8cca-3f4acfa5fc5f",
   "metadata": {},
   "outputs": [
    {
     "data": {
      "text/plain": [
       "true"
      ]
     },
     "execution_count": 73,
     "metadata": {},
     "output_type": "execute_result"
    }
   ],
   "source": [
    "Predicate<String> strLength = str -> str.length() == 5;\n",
    "strLength.test(\"Hello\");"
   ]
  },
  {
   "cell_type": "code",
   "execution_count": 74,
   "id": "75e311c4-7310-4d75-85dd-5d1f82b08815",
   "metadata": {},
   "outputs": [
    {
     "name": "stdout",
     "output_type": "stream",
     "text": [
      "Even\n",
      "Even\n",
      "Even\n"
     ]
    }
   ],
   "source": [
    "int x[] = {0, 5, 10, 15, 20, 25};\n",
    "Predicate<Integer> isEvenNumber = num -> num % 2 == 0;\n",
    "for (int n: x) {\n",
    "    if (isEvenNumber.test(n)) {\n",
    "        System.out.println(\"Even\");\n",
    "    }\n",
    "}"
   ]
  },
  {
   "cell_type": "markdown",
   "id": "444bcd83-fd95-454d-803c-4f23c661bc6a",
   "metadata": {},
   "source": [
    "#### BiFunction\n",
    "\n",
    "* Represents a function that takes two arguments and produces a result of type `R`.\n",
    "* Found in the `java.util.function` package.\n",
    "\n",
    "```java\n",
    "@FunctionalInterface\n",
    "public interface BiFunction<T, U, R> {\n",
    "    public R apply(T t, U u);\n",
    "}\n",
    "```"
   ]
  },
  {
   "cell_type": "code",
   "execution_count": 75,
   "id": "37cbacc4-0dda-4f12-a04f-72f80d39ecc6",
   "metadata": {},
   "outputs": [
    {
     "data": {
      "text/plain": [
       "30"
      ]
     },
     "execution_count": 75,
     "metadata": {},
     "output_type": "execute_result"
    }
   ],
   "source": [
    "BiFunction<Integer, Integer, Integer> sum = (a, b) -> a + b;\n",
    "sum.apply(10, 20);"
   ]
  },
  {
   "cell_type": "markdown",
   "id": "fb546afb-06c5-4e34-9a35-4239bc6476fd",
   "metadata": {},
   "source": [
    "#### BiPredicate\n",
    "\n",
    "* Represents a function that takes two arguments and returns a `boolean`.\n",
    "* Found in the `java.util.function` package.\n",
    "\n",
    "```java\n",
    "@FunctionalInterface\n",
    "public interface BiPredicate<T, U> {\n",
    "    public boolean test (T t, U u);\n",
    "}\n",
    "```"
   ]
  },
  {
   "cell_type": "code",
   "execution_count": 76,
   "id": "a7e0869a-551e-49f8-a8ee-f2b4feaa2abb",
   "metadata": {},
   "outputs": [
    {
     "data": {
      "text/plain": [
       "false"
      ]
     },
     "execution_count": 76,
     "metadata": {},
     "output_type": "execute_result"
    }
   ],
   "source": [
    "BiPredicate<Integer, Integer> isEqual = (a, b) -> a.equals(b);\n",
    "isEqual.test(10, 20);"
   ]
  },
  {
   "cell_type": "code",
   "execution_count": 77,
   "id": "9e1dda29-b65a-47bf-ba8c-2a58748c959f",
   "metadata": {},
   "outputs": [
    {
     "data": {
      "text/plain": [
       "true"
      ]
     },
     "execution_count": 77,
     "metadata": {},
     "output_type": "execute_result"
    }
   ],
   "source": [
    "BiPredicate<Integer, Integer> isSumEven = (a, b) -> (a+b) % 2 == 0;\n",
    "isSumEven.test(10, 20);"
   ]
  },
  {
   "cell_type": "markdown",
   "id": "65dd4a75-ef97-4baf-a960-308b343bdecc",
   "metadata": {},
   "source": [
    "#### BiConsumer\n",
    "\n",
    "* Represents a function that takes two arguments and returns `void`.\n",
    "* Found in the `java.util.function` package.\n",
    "\n",
    "```java\n",
    "@FunctionalInterface\n",
    "public interface BiConsumer<T, U> {\n",
    "    public void accept(T t, U u);\n",
    "}\n",
    "```"
   ]
  },
  {
   "cell_type": "code",
   "execution_count": 78,
   "id": "3a9d4c90-570a-4674-ba34-07044e456131",
   "metadata": {},
   "outputs": [
    {
     "name": "stdout",
     "output_type": "stream",
     "text": [
      "Hello: 5\n"
     ]
    }
   ],
   "source": [
    "BiConsumer<String, Integer> printPair = (str, num) -> System.out.println(str + \": \" + num);\n",
    "printPair.accept(\"Hello\", 5);"
   ]
  },
  {
   "cell_type": "markdown",
   "id": "d86ee9c2-313e-405f-aeb6-dd8d3cc0556c",
   "metadata": {},
   "source": [
    "#### Custom"
   ]
  },
  {
   "cell_type": "code",
   "execution_count": 79,
   "id": "7192ca29-bd17-4548-93a1-adfbbde2cb76",
   "metadata": {},
   "outputs": [
    {
     "data": {
      "text/plain": [
       "110"
      ]
     },
     "execution_count": 79,
     "metadata": {},
     "output_type": "execute_result"
    }
   ],
   "source": [
    "@FunctionalInterface\n",
    "public interface VarArgsFunction<T, R> {\n",
    "    public R accept(T... t);\n",
    "}\n",
    "\n",
    "VarArgsFunction<Integer, Integer> sumOfNumbers = (numbers) -> {\n",
    "    int total = 0;\n",
    "    for (int num: numbers) {\n",
    "        total += num;\n",
    "    }\n",
    "\n",
    "    return total;\n",
    "};\n",
    "\n",
    "sumOfNumbers.accept(10, 20, 30, 40, 10);"
   ]
  },
  {
   "cell_type": "markdown",
   "id": "b6a91c5b-20b4-4259-942b-fea1808cd777",
   "metadata": {},
   "source": [
    "### Handling the Use Case When a Functional Interface Extends Another Interface\n",
    "\n",
    "#### Case 1: Functional Interface Extending a Non-Functional Interface"
   ]
  },
  {
   "cell_type": "code",
   "execution_count": 80,
   "id": "533c4a62-f610-4a72-aa17-bd776ef18456",
   "metadata": {},
   "outputs": [
    {
     "ename": "CompilationException",
     "evalue": "",
     "output_type": "error",
     "traceback": [
      "\u001b[1m\u001b[30m|   \u001b[1m\u001b[30m\u001b[0m\u001b[1m\u001b[30m\u001b[41m@FunctionalInterface\u001b[0m\u001b[1m\u001b[30m\u001b[0m",
      "\u001b[1m\u001b[31mUnexpected @FunctionalInterface annotation\u001b[0m",
      "\u001b[1m\u001b[31m  Bird is not a functional interface\u001b[0m",
      "\u001b[1m\u001b[31m    multiple non-overriding abstract methods found in interface Bird\u001b[0m",
      ""
     ]
    }
   ],
   "source": [
    "public interface Living {\n",
    "    public void breadth();\n",
    "}\n",
    "\n",
    "// since bird inherited from Living, all living methods also become a part of Bird and \n",
    "// functional interface can contain only one abstract method, so compile error occur.\n",
    "@FunctionalInterface\n",
    "public interface Bird extends Living {\n",
    "    void fly();\n",
    "}"
   ]
  },
  {
   "cell_type": "code",
   "execution_count": 81,
   "id": "57e74342-4e7e-4fd0-93f0-bcac9b5a4bd6",
   "metadata": {},
   "outputs": [],
   "source": [
    "public interface Living {\n",
    "    default boolean breadth() {\n",
    "        return true;\n",
    "    }\n",
    "}\n",
    "\n",
    "// only one abstract method\n",
    "@FunctionalInterface\n",
    "public interface Bird extends Living {\n",
    "   public void fly();\n",
    "}"
   ]
  },
  {
   "cell_type": "markdown",
   "id": "275c4ff9-c502-4088-90ba-0c41277259a6",
   "metadata": {},
   "source": [
    "#### Case 2: Non-Functional Interface Extending a Functional Interface"
   ]
  },
  {
   "cell_type": "code",
   "execution_count": 82,
   "id": "4a18c74f-a554-4eb1-90e9-7481aaf973d4",
   "metadata": {},
   "outputs": [],
   "source": [
    "@FunctionalInterface\n",
    "public interface Living {\n",
    "    public boolean breadth();\n",
    "}\n",
    "\n",
    "// ok\n",
    "public interface Bird extends Living {\n",
    "   public void fly();\n",
    "}"
   ]
  },
  {
   "cell_type": "markdown",
   "id": "527c4aa4-94ac-4f20-91b6-4a10135f3bd6",
   "metadata": {},
   "source": [
    "#### Case 3: Functional Interface Extending Another Functional Interface"
   ]
  },
  {
   "cell_type": "code",
   "execution_count": 83,
   "id": "a15b16ab-783b-45e0-814b-2f8050d57621",
   "metadata": {},
   "outputs": [
    {
     "ename": "CompilationException",
     "evalue": "",
     "output_type": "error",
     "traceback": [
      "\u001b[1m\u001b[30m|   \u001b[1m\u001b[30m\u001b[0m\u001b[1m\u001b[30m\u001b[41m@FunctionalInterface\u001b[0m\u001b[1m\u001b[30m\u001b[0m",
      "\u001b[1m\u001b[31mUnexpected @FunctionalInterface annotation\u001b[0m",
      "\u001b[1m\u001b[31m  Bird is not a functional interface\u001b[0m",
      "\u001b[1m\u001b[31m    multiple non-overriding abstract methods found in interface Bird\u001b[0m",
      ""
     ]
    }
   ],
   "source": [
    "@FunctionalInterface\n",
    "public interface Living {\n",
    "    public boolean breathe();\n",
    "}\n",
    "\n",
    "// functional interface can only contain one abstract method\n",
    "@FunctionalInterface\n",
    "public interface Bird extends Living {\n",
    "    public boolean eat();\n",
    "}"
   ]
  },
  {
   "cell_type": "code",
   "execution_count": null,
   "id": "4805fdf3-dcaa-48fe-b6c6-8adac6d2aef5",
   "metadata": {},
   "outputs": [],
   "source": [
    "@FunctionalInterface\n",
    "public interface Living {\n",
    "    public boolean breathe();\n",
    "}\n",
    "\n",
    "// but if the parent abstract method and child abstract method is same then no problem\n",
    "@FunctionalInterface\n",
    "public interface Bird extends Living {\n",
    "    public default boolean fly()  {\n",
    "       return false;\n",
    "    }\n",
    "    \n",
    "    // both have same abstract method\n",
    "    public boolean breathe();\n",
    "}\n",
    "\n",
    "Bird eagle = () -> {\n",
    "    return false;\n",
    "};"
   ]
  },
  {
   "cell_type": "markdown",
   "id": "ceb2f8d2-cd67-4c18-95b4-857dbffec0e5",
   "metadata": {},
   "source": [
    "## Java 9 Interface Features\n",
    "\n",
    "* [Private Methods in Java Interfaces](https://www.baeldung.com/java-interface-private-methods)\n",
    "\n",
    "### Private Method and Private Static Method\n",
    "\n",
    "* You can define methods with the `private` access modifier in interfaces.\n",
    "* This feature improves the readability of the code, especially when multiple default methods share common logic.\n",
    "* Private methods can be defined as either `static` or `non-static`.\n",
    "  * A private static method can only be called from other static methods within the interface.\n",
    "  * A private static method can be called from both static and non-static methods within the interface.\n",
    "* Private interface methods cannot be `abstract`, meaning they must provide a method definition.\n",
    "* These methods can only be used within the specific interface they are defined in."
   ]
  },
  {
   "cell_type": "code",
   "execution_count": null,
   "id": "5ca1d4e5-0d0b-410b-83dd-acde92450187",
   "metadata": {},
   "outputs": [],
   "source": [
    "public interface Bird {\n",
    "    public abstract void canFly();\n",
    "\n",
    "    // java 8\n",
    "    public default void minimumFlyinfHeight() {\n",
    "        myStaticPublicMethod(); // calling static method\n",
    "        myPrivateMethod(); // calling private method\n",
    "        myStaticPrivateMethod(); // calling private static method\n",
    "    }\n",
    "    \n",
    "    public static void myStaticPublicMethod() {\n",
    "        // from static you can call other static method only\n",
    "        myStaticPrivateMethod(); \n",
    "    }\n",
    "\n",
    "    // java 9\n",
    "    private void myPrivateMethod() {\n",
    "        myStaticPrivateMethod(); // non static can access both methods\n",
    "    }\n",
    "    \n",
    "    private static void myStaticPrivateMethod() {}\n",
    "}"
   ]
  }
 ],
 "metadata": {
  "kernelspec": {
   "display_name": "Java",
   "language": "java",
   "name": "java"
  },
  "language_info": {
   "codemirror_mode": "java",
   "file_extension": ".jshell",
   "mimetype": "text/x-java-source",
   "name": "Java",
   "pygments_lexer": "java",
   "version": "21.0.4+7-LTS"
  }
 },
 "nbformat": 4,
 "nbformat_minor": 5
}
