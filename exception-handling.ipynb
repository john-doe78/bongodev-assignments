{
 "cells": [
  {
   "cell_type": "markdown",
   "id": "5f9cbe82-e548-4d81-a4b7-ac0acee96090",
   "metadata": {},
   "source": [
    "# Exception Handling｜Sessions 68 to 77\n",
    "\n",
    "* [Java Exception Handling](https://www.youtube.com/watch?v=VHi9PedZCq8) by Durga sir `10h`\n",
    "* [Create a Custom Exception in Java](https://www.baeldung.com/java-new-custom-exception)\n",
    "* [Exception Handling in Java](https://www.baeldung.com/java-exceptions)\n",
    "\n",
    "## What is an Exception?\n",
    "\n",
    "Any unexpected events that occur during program execution are called exceptions, such as `FileNotFoundException`. The primary purpose of exception handling is to ensure the program terminates gracefully."
   ]
  },
  {
   "cell_type": "code",
   "execution_count": 1,
   "id": "f43f1e12-cfca-46d5-93b9-3081b658fac7",
   "metadata": {
    "vscode": {
     "languageId": "java"
    }
   },
   "outputs": [
    {
     "name": "stdout",
     "output_type": "stream",
     "text": [
      "Hello\n"
     ]
    }
   ],
   "source": [
    "class Test {\n",
    "    public static void main() {\n",
    "        doStuff();\n",
    "    }\n",
    "\n",
    "    public static void doStuff() {\n",
    "        doOtherStuff();\n",
    "    }\n",
    "\n",
    "    public static void doOtherStuff() {\n",
    "        System.out.println(\"Hello\");\n",
    "    }\n",
    "}\n",
    "\n",
    "Test.main();"
   ]
  },
  {
   "cell_type": "code",
   "execution_count": 2,
   "id": "27e603bc-fd48-4638-a96c-2e12eff6fec7",
   "metadata": {
    "vscode": {
     "languageId": "java"
    }
   },
   "outputs": [
    {
     "ename": "EvalException",
     "evalue": "/ by zero",
     "output_type": "error",
     "traceback": [
      "\u001b[1m\u001b[31m---------------------------------------------------------------------------\u001b[0m",
      "\u001b[1m\u001b[31mjava.lang.ArithmeticException: / by zero\u001b[0m",
      "\u001b[1m\u001b[31m\tat Test.doOtherStuff(#12:14)\u001b[0m",
      "\u001b[1m\u001b[31m\tat Test.doStuff(#12:8)\u001b[0m",
      "\u001b[1m\u001b[31m\tat Test.main(#12:4)\u001b[0m",
      "\u001b[1m\u001b[31m\tat .(#14:1)\u001b[0m"
     ]
    }
   ],
   "source": [
    "// example 1\n",
    "class Test {\n",
    "    public static void main() {\n",
    "        doStuff();\n",
    "    }\n",
    "\n",
    "    public static void doStuff() {\n",
    "        doOtherStuff();\n",
    "    }\n",
    "\n",
    "    // the method where the exception occurs is responsible for creating the exception object \n",
    "    // along with all relevant (name, description, location) information.\n",
    "    public static void doOtherStuff() {\n",
    "        System.out.println(10/0);\n",
    "    }\n",
    "}\n",
    "\n",
    "Test.main();"
   ]
  },
  {
   "cell_type": "code",
   "execution_count": 3,
   "id": "beba641a-8d93-426b-a75c-ebf7980d9bce",
   "metadata": {
    "vscode": {
     "languageId": "java"
    }
   },
   "outputs": [
    {
     "name": "stdout",
     "output_type": "stream",
     "text": [
      "Hello\n",
      "Hi\n"
     ]
    },
    {
     "ename": "EvalException",
     "evalue": "/ by zero",
     "output_type": "error",
     "traceback": [
      "\u001b[1m\u001b[31m---------------------------------------------------------------------------\u001b[0m",
      "\u001b[1m\u001b[31mjava.lang.ArithmeticException: / by zero\u001b[0m",
      "\u001b[1m\u001b[31m\tat Test.main(#12:5)\u001b[0m",
      "\u001b[1m\u001b[31m\tat .(#15:1)\u001b[0m"
     ]
    }
   ],
   "source": [
    "// example 2\n",
    "class Test {\n",
    "    public static void main() {\n",
    "        doStuff();\n",
    "        System.out.println(10/0);\n",
    "    }\n",
    "\n",
    "    public static void doStuff() {\n",
    "        doOtherStuff();\n",
    "        System.out.println(\"Hi\");\n",
    "    }\n",
    "\n",
    "    public static void doOtherStuff() {\n",
    "        System.out.println(\"Hello\");\n",
    "    }\n",
    "}\n",
    "\n",
    "Test.main();"
   ]
  },
  {
   "cell_type": "markdown",
   "id": "5b569de4",
   "metadata": {},
   "source": [
    "Every exception occurs at runtime whether it is checked or unchecked. \n",
    "\n",
    "## Types of Exception\n",
    "\n",
    "There are 2 types of exception:\n",
    "\n",
    "* Checked Exception\n",
    "    * The exceptions which are checked by the compiler for smooth execution of program at runtime are called checked exception or compile time exception. These exceptions must be caught by `try-catch` or declare to be thrown by `throws`.\n",
    "* Unchecked Exception\n",
    "    * The exceptions which are not checked by the compiler whether programmer handling it or not such exceptions are called unchecked exception or run time exception."
   ]
  },
  {
   "cell_type": "code",
   "execution_count": 4,
   "id": "ac1850c6-4af9-42dd-89ff-8846c34a8cc7",
   "metadata": {
    "vscode": {
     "languageId": "java"
    }
   },
   "outputs": [
    {
     "ename": "CompilationException",
     "evalue": "",
     "output_type": "error",
     "traceback": [
      "\u001b[1m\u001b[30m|   \u001b[1m\u001b[30m        PrintWriter pw = \u001b[0m\u001b[1m\u001b[30m\u001b[41mnew PrintWriter(\"./abc.txt\")\u001b[0m\u001b[1m\u001b[30m;\u001b[0m",
      "\u001b[1m\u001b[31munreported exception java.io.FileNotFoundException; must be caught or declared to be thrown\u001b[0m",
      ""
     ]
    }
   ],
   "source": [
    "import java.io.*;\n",
    "\n",
    "class ABC {\n",
    "    public static void main() {\n",
    "        // checked exception: unreported exception FileNotFoundException; must be caught or declared to be thrown\n",
    "        PrintWriter pw = new PrintWriter(\"./abc.txt\");\n",
    "        pw.println(\"Hello\");\n",
    "    }\n",
    "}\n",
    "\n",
    "ABC.main();"
   ]
  },
  {
   "cell_type": "code",
   "execution_count": 5,
   "id": "c70b53a8",
   "metadata": {
    "vscode": {
     "languageId": "java"
    }
   },
   "outputs": [
    {
     "ename": "EvalException",
     "evalue": "/ by zero",
     "output_type": "error",
     "traceback": [
      "\u001b[1m\u001b[31m---------------------------------------------------------------------------\u001b[0m",
      "\u001b[1m\u001b[31mjava.lang.ArithmeticException: / by zero\u001b[0m",
      "\u001b[1m\u001b[31m\tat ABC.main(#16:10)\u001b[0m",
      "\u001b[1m\u001b[31m\tat .(#17:1)\u001b[0m"
     ]
    }
   ],
   "source": [
    "class ABC {\n",
    "    public static void main() {\n",
    "        try {\n",
    "            PrintWriter pw = new PrintWriter(\"./abc.txt\");\n",
    "        } catch (FileNotFoundException e) {\n",
    "            System.out.println(e.getMessage());\n",
    "        } \n",
    "    \n",
    "        // unchecked exception\n",
    "        System.out.println(10 / 0);\n",
    "    }\n",
    "}\n",
    "\n",
    "ABC.main();"
   ]
  },
  {
   "cell_type": "code",
   "execution_count": 6,
   "id": "f4d162cd",
   "metadata": {
    "vscode": {
     "languageId": "java"
    }
   },
   "outputs": [
    {
     "name": "stdout",
     "output_type": "stream",
     "text": [
      "Statement 1\n"
     ]
    },
    {
     "ename": "EvalException",
     "evalue": "/ by zero",
     "output_type": "error",
     "traceback": [
      "\u001b[1m\u001b[31m---------------------------------------------------------------------------\u001b[0m",
      "\u001b[1m\u001b[31mjava.lang.ArithmeticException: / by zero\u001b[0m",
      "\u001b[1m\u001b[31m\tat .(#19:1)\u001b[0m"
     ]
    }
   ],
   "source": [
    "System.out.println(\"Statement 1\");\n",
    "System.out.println(10/0);\n",
    "System.out.println(\"Statement 2\");"
   ]
  },
  {
   "cell_type": "code",
   "execution_count": 7,
   "id": "1317d941",
   "metadata": {
    "vscode": {
     "languageId": "java"
    }
   },
   "outputs": [
    {
     "name": "stdout",
     "output_type": "stream",
     "text": [
      "Statement 1\n",
      "java.lang.ArithmeticException: / by zero\n",
      "Statement 2\n"
     ]
    }
   ],
   "source": [
    "System.out.println(\"Statement 1\");\n",
    "try {\n",
    "    System.out.println(10/0);\n",
    "} catch (ArithmeticException e) {\n",
    "    System.out.println(e.toString());\n",
    "}\n",
    "System.out.println(\"Statement 2\");"
   ]
  },
  {
   "cell_type": "markdown",
   "id": "284222d5",
   "metadata": {},
   "source": [
    "## Print the Exception Information\n",
    "\n",
    "These methods are available in `Throwable` class.\n",
    "\n",
    "* `e.getMessage()`\n",
    "* `e.toString()`\n",
    "* `e.printStackTrace()`\n",
    "\n",
    "```java\n",
    "// worst practice\n",
    "try {\n",
    "\n",
    "} catch (Exception e) {\n",
    "\n",
    "}\n",
    "\n",
    "// best practice\n",
    "try {\n",
    "\n",
    "} catch (ArithemeticException e) {\n",
    "\n",
    "} catch (IOException e) {\n",
    "    \n",
    "} catch (FileNotFoundException e) {\n",
    "\n",
    "} catch (Exception e) {\n",
    "    \n",
    "}\n",
    "```"
   ]
  },
  {
   "cell_type": "code",
   "execution_count": 8,
   "id": "2f755c94",
   "metadata": {
    "vscode": {
     "languageId": "java"
    }
   },
   "outputs": [
    {
     "name": "stdout",
     "output_type": "stream",
     "text": [
      "/ by zero\n"
     ]
    }
   ],
   "source": [
    "try {\n",
    "    System.out.println(10/0);\n",
    "} catch (ArithmeticException e) {\n",
    "    System.out.println(e.getMessage());\n",
    "}"
   ]
  },
  {
   "cell_type": "code",
   "execution_count": 9,
   "id": "0f6f49d3",
   "metadata": {
    "vscode": {
     "languageId": "java"
    }
   },
   "outputs": [
    {
     "name": "stdout",
     "output_type": "stream",
     "text": [
      "java.lang.ArithmeticException: / by zero\n"
     ]
    }
   ],
   "source": [
    "try {\n",
    "    System.out.println(10/0);\n",
    "} catch (ArithmeticException e) {\n",
    "    System.out.println(e); // e.toString()\n",
    "}"
   ]
  },
  {
   "cell_type": "code",
   "execution_count": 10,
   "id": "f7380457",
   "metadata": {
    "vscode": {
     "languageId": "java"
    }
   },
   "outputs": [
    {
     "name": "stderr",
     "output_type": "stream",
     "text": [
      "java.lang.ArithmeticException: / by zero\n",
      "\tat REPL.$JShell$25.do_it$($JShell$25.java:15)\n",
      "\tat java.base/jdk.internal.reflect.DirectMethodHandleAccessor.invoke(DirectMethodHandleAccessor.java:103)\n",
      "\tat java.base/java.lang.reflect.Method.invoke(Method.java:580)\n",
      "\tat io.github.spencerpark.ijava.execution.IJavaExecutionControl.lambda$execute$1(IJavaExecutionControl.java:95)\n",
      "\tat java.base/java.util.concurrent.FutureTask.run(FutureTask.java:317)\n",
      "\tat java.base/java.util.concurrent.ThreadPoolExecutor.runWorker(ThreadPoolExecutor.java:1144)\n",
      "\tat java.base/java.util.concurrent.ThreadPoolExecutor$Worker.run(ThreadPoolExecutor.java:642)\n",
      "\tat java.base/java.lang.Thread.run(Thread.java:1583)\n"
     ]
    }
   ],
   "source": [
    "try {\n",
    "    System.out.println(10/0);\n",
    "} catch (ArithmeticException e) {\n",
    "    e.printStackTrace();\n",
    "}"
   ]
  },
  {
   "cell_type": "markdown",
   "id": "413ac0d5",
   "metadata": {},
   "source": [
    "## Loopholes\n",
    "\n",
    "* Order of `catch` blocks are important\n",
    "    * First child blocks, at the end parent block"
   ]
  },
  {
   "cell_type": "code",
   "execution_count": 11,
   "id": "b298dec0",
   "metadata": {
    "vscode": {
     "languageId": "java"
    }
   },
   "outputs": [
    {
     "ename": "CompilationException",
     "evalue": "",
     "output_type": "error",
     "traceback": [
      "\u001b[1m\u001b[30m|   \u001b[1m\u001b[30m} \u001b[0m\u001b[1m\u001b[30m\u001b[41mcatch (ArithmeticException e) {\u001b[0m",
      "\u001b[1m\u001b[30m|   \u001b[1m\u001b[30m\u001b[41m    System.out.println(e.getMessage());\u001b[0m",
      "\u001b[1m\u001b[30m|   \u001b[1m\u001b[30m\u001b[41m}\u001b[0m",
      "\u001b[1m\u001b[31mexception java.lang.ArithmeticException has already been caught\u001b[0m",
      ""
     ]
    }
   ],
   "source": [
    "try {\n",
    "    System.out.println(10/0);\n",
    "} catch (Exception e) {\n",
    "    System.out.println(e.getMessage());\n",
    "} catch (ArithmeticException e) {\n",
    "    System.out.println(e.getMessage());\n",
    "}"
   ]
  },
  {
   "cell_type": "code",
   "execution_count": 12,
   "id": "526e7a64",
   "metadata": {
    "vscode": {
     "languageId": "java"
    }
   },
   "outputs": [
    {
     "name": "stdout",
     "output_type": "stream",
     "text": [
      "java.lang.ArithmeticException: / by zero\n"
     ]
    }
   ],
   "source": [
    "// best practice\n",
    "try {\n",
    "    System.out.println(10/0);\n",
    "} catch (ArithmeticException e) {\n",
    "    System.out.println(e);\n",
    "} catch (Exception e) {\n",
    "    System.out.println(e.getMessage());\n",
    "} "
   ]
  },
  {
   "cell_type": "markdown",
   "id": "36daaf54-1d38-48b9-b3b9-0616cbf7e4df",
   "metadata": {},
   "source": [
    "## try-catch-finally block\n",
    "\n",
    "```java\n",
    "try {}\n",
    "catch () {}\n",
    "\n",
    "try {}\n",
    "catch (X e) {}\n",
    "catch (Y e) {}\n",
    "\n",
    "// invalid\n",
    "try {}\n",
    "catch (X e) {}\n",
    "catch (X e) {}\n",
    "\n",
    "try {}\n",
    "finally {}\n",
    "\n",
    "try {}\n",
    "catch (X e) {}\n",
    "try {}\n",
    "finally {}\n",
    "\n",
    "try {}\n",
    "catch (X e) {}\n",
    "try {}\n",
    "catch (Y e) {}\n",
    "\n",
    "// Error: try without catch/finally\n",
    "try {}\n",
    "\n",
    "// Error: catch without try\n",
    "catch (Y e) {}\n",
    "\n",
    "// Error: finally without try\n",
    "finally {}\n",
    "\n",
    "// Error: catch without try\n",
    "try {}\n",
    "finally {}\n",
    "catch (A e) {}\n",
    "\n",
    "// Error: try without finally/catch\n",
    "// Error: catch without try\n",
    "try {}\n",
    "System.out.println(\"Hello\");\n",
    "catch (A e) {}\n",
    "---\n",
    "try {\n",
    "    try {\n",
    "        \n",
    "    } catch (X e) {}\n",
    "} catch (X e) {}\n",
    "---\n",
    "try {\n",
    "    try {}\n",
    "    finally {}\n",
    "} catch (X e) {}\n",
    "---\n",
    "try {\n",
    "    \n",
    "} catch (X e) {\n",
    "    \n",
    "} finally {\n",
    "    try {\n",
    "        \n",
    "    } catch (A e) {\n",
    "        \n",
    "    }\n",
    "}\n",
    "```\n",
    "\n",
    "## throw keyword\n",
    "\n",
    "* The `throw` keyword is primarily used to raise custom exceptions."
   ]
  },
  {
   "cell_type": "code",
   "execution_count": 13,
   "id": "46c0390c-5f11-46c1-9740-b365925800de",
   "metadata": {
    "vscode": {
     "languageId": "java"
    }
   },
   "outputs": [
    {
     "name": "stdout",
     "output_type": "stream",
     "text": [
      "Divison by 0 is not possible\n"
     ]
    }
   ],
   "source": [
    "try {\n",
    "\tthrow new ArithmeticException(\"Divison by 0 is not possible\");\n",
    "} catch (ArithmeticException e) {\n",
    "\tSystem.out.println(e.getMessage());\n",
    "}"
   ]
  },
  {
   "cell_type": "code",
   "execution_count": 14,
   "id": "c3d21ddc",
   "metadata": {
    "vscode": {
     "languageId": "java"
    }
   },
   "outputs": [
    {
     "ename": "EvalException",
     "evalue": "Division by 0",
     "output_type": "error",
     "traceback": [
      "\u001b[1m\u001b[31m---------------------------------------------------------------------------\u001b[0m",
      "\u001b[1m\u001b[31mjava.lang.ArithmeticException: Division by 0\u001b[0m",
      "\u001b[1m\u001b[31m\tat Test.<clinit>(#12:3)\u001b[0m",
      "\u001b[1m\u001b[31m\tat .(#29:1)\u001b[0m"
     ]
    }
   ],
   "source": [
    "// example 1\n",
    "class Test {\n",
    "    static ArithmeticException e = new ArithmeticException(\"Division by 0\");\n",
    "\n",
    "    public static void main() {\n",
    "        throw e;\n",
    "    }\n",
    "}\n",
    "\n",
    "Test.main();"
   ]
  },
  {
   "cell_type": "code",
   "execution_count": 15,
   "id": "3df785fa",
   "metadata": {
    "vscode": {
     "languageId": "java"
    }
   },
   "outputs": [
    {
     "ename": "EvalException",
     "evalue": "Cannot throw exception because \"REPL.$JShell$12E$Test.e\" is null",
     "output_type": "error",
     "traceback": [
      "\u001b[1m\u001b[31m---------------------------------------------------------------------------\u001b[0m",
      "\u001b[1m\u001b[31mjava.lang.NullPointerException: Cannot throw exception because \"REPL.$JShell$12E$Test.e\" is null\u001b[0m",
      "\u001b[1m\u001b[31m\tat Test.main(#12:5)\u001b[0m",
      "\u001b[1m\u001b[31m\tat .(#30:1)\u001b[0m"
     ]
    }
   ],
   "source": [
    "class Test {\n",
    "    static ArithmeticException e; // e points to NULL\n",
    "\n",
    "    public static void main() {\n",
    "        throw e;\n",
    "    }\n",
    "}\n",
    "\n",
    "Test.main();"
   ]
  },
  {
   "cell_type": "code",
   "execution_count": 16,
   "id": "edbd3c29",
   "metadata": {
    "vscode": {
     "languageId": "java"
    }
   },
   "outputs": [
    {
     "ename": "EvalException",
     "evalue": "/ by zero",
     "output_type": "error",
     "traceback": [
      "\u001b[1m\u001b[31m---------------------------------------------------------------------------\u001b[0m",
      "\u001b[1m\u001b[31mjava.lang.ArithmeticException: / by zero\u001b[0m",
      "\u001b[1m\u001b[31m\tat .(#31:2)\u001b[0m"
     ]
    }
   ],
   "source": [
    "// example 2\n",
    "System.out.println(10/0);\n",
    "System.out.println(\"Hello\");"
   ]
  },
  {
   "cell_type": "code",
   "execution_count": 17,
   "id": "41d4e16b",
   "metadata": {
    "vscode": {
     "languageId": "java"
    }
   },
   "outputs": [
    {
     "ename": "CompilationException",
     "evalue": "",
     "output_type": "error",
     "traceback": [
      "\u001b[1m\u001b[30m|   \u001b[1m\u001b[30m        \u001b[0m\u001b[1m\u001b[30m\u001b[41mSystem.out.println(\"Hello\");\u001b[0m\u001b[1m\u001b[30m // error: unreachable statement\u001b[0m",
      "\u001b[1m\u001b[31munreachable statement\u001b[0m",
      ""
     ]
    }
   ],
   "source": [
    "class Test {\n",
    "    public static void main() {\n",
    "        throw new ArithmeticException(\"Division by 0\"); // used throw to explicitly raise error, so program stops here\n",
    "        System.out.println(\"Hello\"); // error: unreachable statement\n",
    "    }\n",
    "}\n",
    "\n",
    "Test.main();"
   ]
  },
  {
   "cell_type": "code",
   "execution_count": 18,
   "id": "6fe2b660",
   "metadata": {
    "vscode": {
     "languageId": "java"
    }
   },
   "outputs": [
    {
     "ename": "CompilationException",
     "evalue": "",
     "output_type": "error",
     "traceback": [
      "\u001b[1m\u001b[30m|   \u001b[1m\u001b[30m        \u001b[0m\u001b[1m\u001b[30m\u001b[41mthrow new Test();\u001b[0m\u001b[1m\u001b[30m // you can use throw only throwable objects\u001b[0m",
      "\u001b[1m\u001b[31mincompatible types: Test cannot be converted to java.lang.Throwable\u001b[0m",
      ""
     ]
    }
   ],
   "source": [
    "// example 3\n",
    "class Test {\n",
    "    public static void main() {\n",
    "        throw new Test(); // you can use throw only throwable objects\n",
    "    }\n",
    "}\n",
    "\n",
    "Test.main();"
   ]
  },
  {
   "cell_type": "code",
   "execution_count": 19,
   "id": "fbeac5cb",
   "metadata": {
    "vscode": {
     "languageId": "java"
    }
   },
   "outputs": [],
   "source": [
    "class Test extends RuntimeException { // Exception in thread \"main\" Test\n",
    "    public static void main() {\n",
    "        throw new Test(); \n",
    "    }\n",
    "}"
   ]
  },
  {
   "cell_type": "markdown",
   "id": "57a3e63a-0d52-4d1f-a3b0-fa60c1b9b57c",
   "metadata": {},
   "source": [
    "## throws Keyword\n",
    "\n",
    "* The `throws` keyword is primarily used with checked exceptions to delegate responsibility to the caller."
   ]
  },
  {
   "cell_type": "code",
   "execution_count": 20,
   "id": "c4163220-6cfd-4f26-97cf-aa1dfa3f54f0",
   "metadata": {},
   "outputs": [
    {
     "ename": "CompilationException",
     "evalue": "",
     "output_type": "error",
     "traceback": [
      "\u001b[1m\u001b[30m|   \u001b[1m\u001b[30m        PrintWriter pw = \u001b[0m\u001b[1m\u001b[30m\u001b[41mnew PrintWriter(\"abc.txt\")\u001b[0m\u001b[1m\u001b[30m;\u001b[0m",
      "\u001b[1m\u001b[31munreported exception java.io.FileNotFoundException; must be caught or declared to be thrown\u001b[0m",
      ""
     ]
    }
   ],
   "source": [
    "class Main {\n",
    "    public static void main() {\n",
    "        PrintWriter pw = new PrintWriter(\"abc.txt\");\n",
    "        pw.println(\"Hello\");\n",
    "    }\n",
    "}\n",
    "\n",
    "Main.main();"
   ]
  },
  {
   "cell_type": "code",
   "execution_count": 21,
   "id": "f7fb533f-5bdc-4d36-bdb1-4ffb1b83d902",
   "metadata": {},
   "outputs": [
    {
     "ename": "CompilationException",
     "evalue": "",
     "output_type": "error",
     "traceback": [
      "\u001b[1m\u001b[30m|   \u001b[1m\u001b[30m        \u001b[0m\u001b[1m\u001b[30m\u001b[41mThread.sleep(1000)\u001b[0m\u001b[1m\u001b[30m;\u001b[0m",
      "\u001b[1m\u001b[31munreported exception java.lang.InterruptedException; must be caught or declared to be thrown\u001b[0m",
      ""
     ]
    }
   ],
   "source": [
    "class Test {\n",
    "    public static void main() {\n",
    "        Thread.sleep(1000);\n",
    "    }\n",
    "}\n",
    "\n",
    "Test.main();"
   ]
  },
  {
   "cell_type": "markdown",
   "id": "2028f5fc-05f5-4112-8144-48b21c4cff02",
   "metadata": {},
   "source": [
    "To solve the unreported exception problem in the above code, there are two approaches:\n",
    "\n",
    "* Using the `throws` keyword\n",
    "* Using a `try-catch` blockt.\r\n",
    "\r\n"
   ]
  },
  {
   "cell_type": "code",
   "execution_count": 22,
   "id": "b2f1707a-0846-4a02-a6a0-6386e0c33a71",
   "metadata": {},
   "outputs": [],
   "source": [
    "class Test {\n",
    "    public static void main() throws InterruptedException{\n",
    "        Thread.sleep(1000);\n",
    "    }\n",
    "}\n",
    "\n",
    "Test.main();"
   ]
  },
  {
   "cell_type": "code",
   "execution_count": 23,
   "id": "be0600df-411f-49e9-80d6-8c638a280ebb",
   "metadata": {},
   "outputs": [],
   "source": [
    "class Test {\n",
    "    public static void main() {\n",
    "        try {\n",
    "            Thread.sleep(1000);\n",
    "        } catch (InterruptedException e) {\n",
    "            System.out.println(e);\n",
    "        }\n",
    "    }\n",
    "}\n",
    "\n",
    "Test.main();"
   ]
  },
  {
   "cell_type": "code",
   "execution_count": 24,
   "id": "bbad59c8-8def-42ae-9dd7-41e68584ac6f",
   "metadata": {},
   "outputs": [],
   "source": [
    "class Test {\n",
    "    public static void main() {\n",
    "        try {\n",
    "            doStuff();\n",
    "        } catch (InterruptedException e) {\n",
    "            System.out.println(e);\n",
    "        }\n",
    "    }\n",
    "\n",
    "    public static void doStuff() throws InterruptedException {\n",
    "        doOtherStuff();\n",
    "    }\n",
    "\n",
    "    public static void doOtherStuff() throws InterruptedException {\n",
    "        Thread.sleep(100);\n",
    "    }\n",
    "}\n",
    "\n",
    "Test.main();"
   ]
  },
  {
   "cell_type": "code",
   "execution_count": 25,
   "id": "35f55d62-16ef-471d-bfd8-6dd5e136ca77",
   "metadata": {},
   "outputs": [
    {
     "ename": "CompilationException",
     "evalue": "",
     "output_type": "error",
     "traceback": [
      "\u001b[1m\u001b[30m|   \u001b[1m\u001b[30m        } \u001b[0m\u001b[1m\u001b[30m\u001b[41mcatch (InterruptedException e) {\u001b[0m",
      "\u001b[1m\u001b[30m|   \u001b[1m\u001b[30m\u001b[41m            System.out.println(e);\u001b[0m",
      "\u001b[1m\u001b[30m|   \u001b[1m\u001b[30m\u001b[41m        }\u001b[0m",
      "\u001b[1m\u001b[31mexception java.lang.InterruptedException is never thrown in body of corresponding try statement\u001b[0m",
      "",
      "\u001b[1m\u001b[30m|   \u001b[1m\u001b[30m        \u001b[0m\u001b[1m\u001b[30m\u001b[41mThread.sleep(100)\u001b[0m\u001b[1m\u001b[30m;\u001b[0m",
      "\u001b[1m\u001b[31munreported exception java.lang.InterruptedException; must be caught or declared to be thrown\u001b[0m",
      ""
     ]
    }
   ],
   "source": [
    "class Test {\n",
    "    public static void main() {\n",
    "        try {\n",
    "            doStuff();\n",
    "        } catch (InterruptedException e) {\n",
    "            System.out.println(e);\n",
    "        }\n",
    "    }\n",
    "\n",
    "    public static void doStuff() {\n",
    "        doOtherStuff();\n",
    "    }\n",
    "\n",
    "    public static void doOtherStuff() {\n",
    "        Thread.sleep(100);\n",
    "    }\n",
    "}\n",
    "\n",
    "Test.main();"
   ]
  },
  {
   "cell_type": "code",
   "execution_count": 26,
   "id": "5b03d69a-e33d-4c79-adee-f9b213706532",
   "metadata": {},
   "outputs": [
    {
     "ename": "CompilationException",
     "evalue": "",
     "output_type": "error",
     "traceback": [
      "\u001b[1m\u001b[30m|   \u001b[1m\u001b[30mclass Test\u001b[0m\u001b[1m\u001b[30m\u001b[41m\u001b[0m\u001b[1m\u001b[30m throws Exception {\u001b[0m",
      "\u001b[1m\u001b[31m'{' expected\u001b[0m",
      ""
     ]
    }
   ],
   "source": [
    "// Example 1\n",
    "// throws keyword is only valid for method and constructor, not class\n",
    "\n",
    "class Test throws Exception {\n",
    "    public static void test() throws Exception {}\n",
    "    public static void main() throws Exception {}\n",
    "}"
   ]
  },
  {
   "cell_type": "code",
   "execution_count": 27,
   "id": "8573b64a-739b-4a2a-94b9-34821ff5db9c",
   "metadata": {},
   "outputs": [],
   "source": [
    "// Example 2\n",
    "\n",
    "class Test extends RuntimeException {\n",
    "    public static void main() throws Test {}\n",
    "}\n",
    "\n",
    "Test.main();"
   ]
  },
  {
   "cell_type": "code",
   "execution_count": 28,
   "id": "a4602025-9cdf-4053-afcc-261610a7a529",
   "metadata": {},
   "outputs": [
    {
     "ename": "CompilationException",
     "evalue": "",
     "output_type": "error",
     "traceback": [
      "\u001b[1m\u001b[30m|   \u001b[1m\u001b[30m    public static void main() throws \u001b[0m\u001b[1m\u001b[30m\u001b[41mTest\u001b[0m\u001b[1m\u001b[30m {}\u001b[0m",
      "\u001b[1m\u001b[31mincompatible types: Test cannot be converted to java.lang.Throwable\u001b[0m",
      ""
     ]
    }
   ],
   "source": [
    "class Test {\n",
    "    public static void main() throws Test {}\n",
    "}"
   ]
  },
  {
   "cell_type": "code",
   "execution_count": 29,
   "id": "c09f2098-0078-4bce-9028-4523c4254376",
   "metadata": {},
   "outputs": [
    {
     "ename": "CompilationException",
     "evalue": "",
     "output_type": "error",
     "traceback": [
      "\u001b[1m\u001b[30m|   \u001b[1m\u001b[30m        \u001b[0m\u001b[1m\u001b[30m\u001b[41mthrow new Exception();\u001b[0m\u001b[1m\u001b[30m // checked exception\u001b[0m",
      "\u001b[1m\u001b[31munreported exception java.lang.Exception; must be caught or declared to be thrown\u001b[0m",
      ""
     ]
    }
   ],
   "source": [
    "// Example 3\n",
    "\n",
    "class Test {\n",
    "    public static void main() {\n",
    "        throw new Exception(); // checked exception\n",
    "    }\n",
    "}"
   ]
  },
  {
   "cell_type": "code",
   "execution_count": 30,
   "id": "113c1af8-49ff-4b5f-89ed-1c8f52be0c06",
   "metadata": {},
   "outputs": [
    {
     "ename": "EvalException",
     "evalue": "null",
     "output_type": "error",
     "traceback": [
      "\u001b[1m\u001b[31m---------------------------------------------------------------------------\u001b[0m",
      "\u001b[1m\u001b[31mjava.lang.Error: null\u001b[0m",
      "\u001b[1m\u001b[31m\tat Test.main(#12:4)\u001b[0m",
      "\u001b[1m\u001b[31m\tat .(#38:1)\u001b[0m"
     ]
    }
   ],
   "source": [
    "// Exception in thread \"main\" java.lang.Error\n",
    "class Test {\n",
    "    public static void main(){\n",
    "        throw new Error(); // unchecked exception\n",
    "    }\n",
    "}\n",
    "\n",
    "Test.main();"
   ]
  },
  {
   "cell_type": "markdown",
   "id": "3b144d9c-cb90-4e6a-a75a-85e7af762ce7",
   "metadata": {},
   "source": [
    "### Checked Exceptions (Fully Checked)\n",
    "\n",
    "Fully checked exceptions are exceptions that must be either:\n",
    "\n",
    "* Handled in a `try-catch` block, or\n",
    "* Declared in the method signature using `throws`.\n",
    "\n",
    "These exceptions are part of the `Exception` class but do not extend `RuntimeException`.\n",
    "\n",
    "* IOException\n",
    "* SQLException\n",
    "* ClassNotFoundException\n",
    "* FileNotFoundException\n",
    "* InterruptedException\n",
    "\n",
    "Must be handled either by a `try-catch` block or by declaring `throws` in the method signature.\n",
    "\n",
    "### Unchecked Exceptions (Runtime Exceptions)\n",
    "\n",
    "* NullPointerException\n",
    "* ArrayIndexOutOfBoundsException\n",
    "* ArithmeticException\n",
    "* ClassCastException\n",
    "\n",
    "### Partially Checked Exceptions\n",
    "\n",
    "Partial checked exceptions could refer to certain exceptions that technically can be thrown during normal application flow but are not strictly enforced by the compiler to be either caught or declared in the method signature.\n",
    "\n",
    "* IllegalArgumentException\n",
    "* IllegalStateException\n",
    "\n",
    "### Errors\n",
    "\n",
    "* OutOfMemoryError\n",
    "* StackOverflowError\n",
    "* VirtualMachineError"
   ]
  },
  {
   "cell_type": "code",
   "execution_count": 31,
   "id": "7f357b7e-ac0d-4ee9-b5a3-69eaadbcb58a",
   "metadata": {},
   "outputs": [
    {
     "name": "stdout",
     "output_type": "stream",
     "text": [
      "Hello\n"
     ]
    }
   ],
   "source": [
    "class Test {\n",
    "    public static void main() {\n",
    "        try {\n",
    "            System.out.println(\"Hello\");\n",
    "        } catch (ArithmeticException e) { // unchecked\n",
    "             System.out.println(e);\n",
    "        }\n",
    "    }\n",
    "}\n",
    "\n",
    "Test.main();"
   ]
  },
  {
   "cell_type": "code",
   "execution_count": 32,
   "id": "5343c008-436c-4d46-af1c-78fe626e968c",
   "metadata": {},
   "outputs": [
    {
     "name": "stdout",
     "output_type": "stream",
     "text": [
      "Hello\n"
     ]
    }
   ],
   "source": [
    "class Test {\n",
    "    public static void main() {\n",
    "        try {\n",
    "            System.out.println(\"Hello\");\n",
    "        } catch (Exception e) { // partial checked\n",
    "             System.out.println(e);\n",
    "        }\n",
    "    }\n",
    "}\n",
    "\n",
    "Test.main();"
   ]
  },
  {
   "cell_type": "code",
   "execution_count": 33,
   "id": "4b02768e-d483-42e7-abe4-96583b51e66d",
   "metadata": {},
   "outputs": [
    {
     "ename": "CompilationException",
     "evalue": "",
     "output_type": "error",
     "traceback": [
      "\u001b[1m\u001b[30m|   \u001b[1m\u001b[30m        } \u001b[0m\u001b[1m\u001b[30m\u001b[41mcatch (IOException e) { // fully checked\u001b[0m",
      "\u001b[1m\u001b[30m|   \u001b[1m\u001b[30m\u001b[41m             System.out.println(e);\u001b[0m",
      "\u001b[1m\u001b[30m|   \u001b[1m\u001b[30m\u001b[41m        }\u001b[0m",
      "\u001b[1m\u001b[31mexception java.io.IOException is never thrown in body of corresponding try statement\u001b[0m",
      ""
     ]
    }
   ],
   "source": [
    "import java.io.*;\n",
    "\n",
    "class Test {\n",
    "    public static void main() {\n",
    "        try {\n",
    "            System.out.println(\"Hello\");\n",
    "        } catch (IOException e) { // fully checked\n",
    "             System.out.println(e);\n",
    "        }\n",
    "    }\n",
    "}\n",
    "\n",
    "Test.main();"
   ]
  },
  {
   "cell_type": "code",
   "execution_count": 34,
   "id": "e223cc9e-05fc-4b07-823b-b177e2f88998",
   "metadata": {},
   "outputs": [
    {
     "ename": "CompilationException",
     "evalue": "",
     "output_type": "error",
     "traceback": [
      "\u001b[1m\u001b[30m|   \u001b[1m\u001b[30m        } \u001b[0m\u001b[1m\u001b[30m\u001b[41mcatch (InterruptedException e) { // fully checked\u001b[0m",
      "\u001b[1m\u001b[30m|   \u001b[1m\u001b[30m\u001b[41m             System.out.println(e);\u001b[0m",
      "\u001b[1m\u001b[30m|   \u001b[1m\u001b[30m\u001b[41m        }\u001b[0m",
      "\u001b[1m\u001b[31mexception java.lang.InterruptedException is never thrown in body of corresponding try statement\u001b[0m",
      ""
     ]
    }
   ],
   "source": [
    "// InterruptedException is a fully checked exception and must be either caught or declared\n",
    "\n",
    "class Test {\n",
    "    public static void main() {\n",
    "        try {\n",
    "            System.out.println(\"Hello\");\n",
    "        } catch (InterruptedException e) { // fully checked\n",
    "             System.out.println(e);\n",
    "        }\n",
    "    }\n",
    "}\n",
    "\n",
    "Test.main();"
   ]
  },
  {
   "cell_type": "code",
   "execution_count": 35,
   "id": "0efa2546-11ba-4954-b3fd-96536eb826ab",
   "metadata": {},
   "outputs": [
    {
     "name": "stdout",
     "output_type": "stream",
     "text": [
      "Hello\n"
     ]
    }
   ],
   "source": [
    "class Test {\n",
    "    public static void main() {\n",
    "        try {\n",
    "            System.out.println(\"Hello\");\n",
    "        } catch (Error e) { // unchecked\n",
    "             System.out.println(e);\n",
    "        }\n",
    "    }\n",
    "}\n",
    "\n",
    "Test.main();"
   ]
  },
  {
   "cell_type": "markdown",
   "id": "a76c7cde-38e4-4291-af78-fce98740aa7c",
   "metadata": {},
   "source": [
    "### Keywords in Exception Handling\n",
    "\n",
    "* **try**: Used to enclose risky code that might throw exceptions.\n",
    "* **catch**: Used to handle exceptions that occur within the `try` block.\n",
    "* **finally**: Used to execute cleanup code, regardless of whether an exception was thrown or not.\n",
    "* **throw**: Used to explicitly hand over a custom exception object to the JVM.\n",
    "* **throws**: Used to delegate the responsibility of exception handling to the caller of a method.\n",
    "\n",
    "### Possible Compile-Time Exception Messages\n",
    "\n",
    "* Unreported Exception X; must be caught or declared to be thrown.\n",
    "* Exception X has already been caught.\n",
    "* Exception X is never thrown in the body of the corresponding `try` statement.\n",
    "* Unreachable Statement\n",
    "* Incompatible Types\n",
    "    ```bash\n",
    "    found: X  \n",
    "    required `java.lang.Throwable`\n",
    "    ```\n",
    "* `try` without `catch` or `finally`\n",
    "* `catch` without `try`\n",
    "* `finally` without `try`\n",
    "\n",
    "## Custome Exception\n",
    "\n",
    "* Custom exceptions are user-defined exceptions that extend the `Exception` or `RuntimeException` class."
   ]
  },
  {
   "cell_type": "code",
   "execution_count": 36,
   "id": "cb311de4-4e56-46c0-bf5e-75692ac67695",
   "metadata": {},
   "outputs": [],
   "source": [
    "class TooYoungException extends RuntimeException {\n",
    "    TooYoungException(String msg) {\n",
    "        super(msg);\n",
    "    }\n",
    "}"
   ]
  },
  {
   "cell_type": "code",
   "execution_count": 37,
   "id": "c6c1538e-2fcf-4531-87ae-df598f2da4e6",
   "metadata": {},
   "outputs": [],
   "source": [
    "class TooOldException extends RuntimeException {\n",
    "    TooOldException(String msg) {\n",
    "        super(msg);\n",
    "    }\n",
    "}"
   ]
  },
  {
   "cell_type": "code",
   "execution_count": 38,
   "id": "a5ef5090-235b-4527-9770-4468c6fef02f",
   "metadata": {},
   "outputs": [
    {
     "name": "stdout",
     "output_type": "stream",
     "text": [
      "You'll get matched details soon by email\n"
     ]
    }
   ],
   "source": [
    "import java.util.Scanner;\n",
    "\n",
    "class CastException {\n",
    "    public static void eligible(int age) {\n",
    "        // int age = Integer.parseInt(args[0]);\n",
    "        // Scanner scanner = new Scanner(System.in);\n",
    "        // System.out.println(\"Enter your age: \");\n",
    "        // int age = scanner.nextInt();\n",
    "        // scanner.close();\n",
    "\n",
    "        if (age > 60) {\n",
    "            throw new TooYoungException(\"Please wait some more time, definitely you will get best matched\");\n",
    "        } else if (age < 18) {\n",
    "            throw new TooOldException(\"Your age is already crossed for marriage age, no chance of getting married.\");\n",
    "        } else {\n",
    "            System.out.println(\"You'll get matched details soon by email\");\n",
    "        }\n",
    "    }\n",
    "}\n",
    "\n",
    "CastException.eligible(18);"
   ]
  },
  {
   "cell_type": "code",
   "execution_count": 39,
   "id": "71b76384-d20e-4211-bd11-0a369c1a36a5",
   "metadata": {},
   "outputs": [
    {
     "ename": "EvalException",
     "evalue": "Please wait some more time, definitely you will get best matched",
     "output_type": "error",
     "traceback": [
      "\u001b[1m\u001b[31m---------------------------------------------------------------------------\u001b[0m",
      "\u001b[1m\u001b[31mREPL.$JShell$42$TooYoungException: Please wait some more time, definitely you will get best matched\u001b[0m",
      "\u001b[1m\u001b[31m\tat CastException.eligible(#45:1)\u001b[0m",
      "\u001b[1m\u001b[31m\tat .(#47:1)\u001b[0m"
     ]
    }
   ],
   "source": [
    "CastException.eligible(65);"
   ]
  },
  {
   "cell_type": "code",
   "execution_count": 40,
   "id": "457fa878-e461-454e-88a4-2545ba100544",
   "metadata": {},
   "outputs": [
    {
     "ename": "EvalException",
     "evalue": "Your age is already crossed for marriage age, no chance of getting married.",
     "output_type": "error",
     "traceback": [
      "\u001b[1m\u001b[31m---------------------------------------------------------------------------\u001b[0m",
      "\u001b[1m\u001b[31mREPL.$JShell$43$TooOldException: Your age is already crossed for marriage age, no chance of getting married.\u001b[0m",
      "\u001b[1m\u001b[31m\tat CastException.eligible(#45:1)\u001b[0m",
      "\u001b[1m\u001b[31m\tat .(#48:1)\u001b[0m"
     ]
    }
   ],
   "source": [
    "CastException.eligible(15);"
   ]
  },
  {
   "cell_type": "markdown",
   "id": "8c6bfb17-1d9b-4763-9352-a7ba8a1ccfee",
   "metadata": {},
   "source": [
    "* [Common Java Exceptions](https://www.baeldung.com/java-common-exceptions)\r\n",
    "* [Checked and Unchecked Exceptions in Java](https://www.baeldung.com/java-checked-unchecked-exceptions)\r\n",
    "\r\n",
    "## Top 10 Java Exceptions\r\n",
    "\r\n",
    "### NoClassDefFoundError\r\n",
    "\r\n",
    "* When JVM unable to find the `.class` file, it will raise the error.\r\n",
    "* [ClassNotFoundException vs NoClassDefFoundError](https://www.baeldung.com/java-classnotfoundexception-and-noclassdeffounderror)\r\n",
    "* It is child of `RuntimeException` hence it is `unchecked`\r\n",
    "\r\n",
    "### ArrayIndexOutOfBoundsException\r\n",
    "\r\n",
    "* [Java ArrayIndexOutOfBoundsException](https://www.baeldung.com/java-arrayindexoutofboundsexception)\r\n",
    "* It is child of `RuntimeException` hence it is `unchecked`\r\n",
    "* If a piece of code tries to access an illegal index of an array, the respective method throws an `ArrayIndexOutOfBoundException`."
   ]
  },
  {
   "cell_type": "code",
   "execution_count": 41,
   "id": "86435d31-2123-4f78-bbcf-72bdd4185bf1",
   "metadata": {},
   "outputs": [
    {
     "name": "stdout",
     "output_type": "stream",
     "text": [
      "1\n"
     ]
    },
    {
     "ename": "EvalException",
     "evalue": "Index 10 out of bounds for length 3",
     "output_type": "error",
     "traceback": [
      "\u001b[1m\u001b[31m---------------------------------------------------------------------------\u001b[0m",
      "\u001b[1m\u001b[31mjava.lang.ArrayIndexOutOfBoundsException: Index 10 out of bounds for length 3\u001b[0m",
      "\u001b[1m\u001b[31m\tat .(#51:1)\u001b[0m"
     ]
    }
   ],
   "source": [
    "int[] x = new int[] {1, 2, 3};\n",
    "\n",
    "System.out.println(x[0]);\n",
    "System.out.println(x[10]);"
   ]
  },
  {
   "cell_type": "markdown",
   "id": "9da5f9aa-580e-44eb-93b4-3ec3ae1d6b6f",
   "metadata": {},
   "source": [
    "### NullPointerException\r\n",
    "\r\n",
    "* [Helpful NullPointerExceptions in Java](https://www.baeldung.com/java-14-nullpointerexception)\r\n",
    "* It is child of `RuntimeException` hence it is `unchecked`\r\n",
    "* If an application attempts to use `null` where it actually requires an object instance, the method will throw a `NullPointerException`. "
   ]
  },
  {
   "cell_type": "code",
   "execution_count": 42,
   "id": "ef6b002e-38df-4e69-8a45-463cf7239543",
   "metadata": {},
   "outputs": [
    {
     "ename": "EvalException",
     "evalue": "Cannot invoke \"String.length()\" because \"REPL.$JShell$52.s\" is null",
     "output_type": "error",
     "traceback": [
      "\u001b[1m\u001b[31m---------------------------------------------------------------------------\u001b[0m",
      "\u001b[1m\u001b[31mjava.lang.NullPointerException: Cannot invoke \"String.length()\" because \"REPL.$JShell$52.s\" is null\u001b[0m",
      "\u001b[1m\u001b[31m\tat .(#53:1)\u001b[0m"
     ]
    }
   ],
   "source": [
    "String s = null;\n",
    "s.length();"
   ]
  },
  {
   "cell_type": "markdown",
   "id": "9ffe567e-3c4d-4b1a-b90f-61cb06efc05f",
   "metadata": {},
   "source": [
    "### ClassCastException\r\n",
    "\r\n",
    "* [Explanation of ClassCastException in Java](https://www.baeldung.com/java-classcastexception)\r\n",
    "* It is child of `RuntimeException` hence it is `unchecked`\r\n",
    "* At runtime, if the code attempts to downcast an object to a subtype of which it isn’t an instance, the method throws a `ClassCastException`."
   ]
  },
  {
   "cell_type": "code",
   "execution_count": 43,
   "id": "f1270c96-0b33-48c2-b8f0-59c2bdad1bc1",
   "metadata": {},
   "outputs": [],
   "source": [
    "// child class can cast to parent class\n",
    "String str = new String(\"Hello\");\n",
    "Object o = (Object) str;"
   ]
  },
  {
   "cell_type": "code",
   "execution_count": 44,
   "id": "d11c4329-5609-4806-81ca-67fc23200873",
   "metadata": {},
   "outputs": [
    {
     "ename": "CompilationException",
     "evalue": "",
     "output_type": "error",
     "traceback": [
      "\u001b[1m\u001b[30m|   \u001b[1m\u001b[30mString str = \u001b[0m\u001b[1m\u001b[30m\u001b[41m(Object) o\u001b[0m\u001b[1m\u001b[30m;\u001b[0m",
      "\u001b[1m\u001b[31mincompatible types: java.lang.Object cannot be converted to java.lang.String\u001b[0m",
      ""
     ]
    }
   ],
   "source": [
    "// not vice versa\n",
    "Object o = new Object();\n",
    "String str = (Object) o;"
   ]
  },
  {
   "cell_type": "code",
   "execution_count": 45,
   "id": "cd8091ad-8ca7-4ffb-8cc3-b349c074dc05",
   "metadata": {},
   "outputs": [],
   "source": [
    "// valid\n",
    "Object o = new String(\"Hello\");\n",
    "String s = (String) o;"
   ]
  },
  {
   "cell_type": "markdown",
   "id": "44d2b58f-2afc-4ef7-b015-5ad3516aa726",
   "metadata": {},
   "source": [
    "### StackOverflowError \r\n",
    "\r\n",
    "* It is child of `RuntimeException` hence it is `unchecked`\r\n",
    "* [The StackOverflowError in Java](https://www.baeldung.com/java-stack-overflow-error)"
   ]
  },
  {
   "cell_type": "code",
   "execution_count": 46,
   "id": "52423fd0-c1cf-4d74-84a4-a6590a21146a",
   "metadata": {},
   "outputs": [],
   "source": [
    "class Test {\n",
    "    public static void m1() {\n",
    "        m2();\n",
    "    }\n",
    "\n",
    "    public static void m2() {\n",
    "        m1();\n",
    "    }\n",
    "\n",
    "    public static void main() {\n",
    "        m1();\n",
    "    }\n",
    "}\n",
    "\n",
    "// Test.main();"
   ]
  },
  {
   "cell_type": "markdown",
   "id": "890020fb-7137-4547-a554-ae85401b7383",
   "metadata": {},
   "source": [
    "### ExceptionInInitializerError\r\n",
    "\r\n",
    "* It is child of `RuntimeException` hence it is `unchecked`\r\n",
    "* [When Does Java Throw the ExceptionInInitializerError?](https://www.baeldung.com/java-exceptionininitializererror)"
   ]
  },
  {
   "cell_type": "code",
   "execution_count": 47,
   "id": "a0a3c7c5-ec1b-45b4-bc10-d7130c5b708e",
   "metadata": {},
   "outputs": [
    {
     "ename": "EvalException",
     "evalue": "null",
     "output_type": "error",
     "traceback": [
      "\u001b[1m\u001b[31m---------------------------------------------------------------------------\u001b[0m",
      "\u001b[1m\u001b[31mjava.lang.ExceptionInInitializerError: null\u001b[0m",
      "\u001b[1m\u001b[31m\tat .(#56:1)\u001b[0m"
     ]
    }
   ],
   "source": [
    "class Test {\n",
    "    public static int x = 10 / 0;\n",
    "}\n",
    "\n",
    "Test.x;"
   ]
  },
  {
   "cell_type": "code",
   "execution_count": 48,
   "id": "084b515b-0d42-4b64-b8d7-943979d440e8",
   "metadata": {},
   "outputs": [
    {
     "ename": "EvalException",
     "evalue": "null",
     "output_type": "error",
     "traceback": [
      "\u001b[1m\u001b[31m---------------------------------------------------------------------------\u001b[0m",
      "\u001b[1m\u001b[31mjava.lang.ExceptionInInitializerError: null\u001b[0m",
      "\u001b[1m\u001b[31m\tat .(#57:1)\u001b[0m"
     ]
    }
   ],
   "source": [
    "class Test {\n",
    "    static {\n",
    "        String s = null;\n",
    "        System.out.println(s.length());\n",
    "    }\n",
    "}\n",
    "\n",
    "Test t = new Test();"
   ]
  },
  {
   "cell_type": "markdown",
   "id": "5f68b922-0408-4336-a689-a2b43d318e3f",
   "metadata": {},
   "source": [
    "### IllegalArgumentException\r\n",
    "\r\n",
    "* It is child of `RuntimeException` hence it is `unchecked`\r\n",
    "* A method throws an `IllegalArgumentException` if we call it with some illegal or inappropriate arguments.\r\n",
    "* [IllegalArgumentException or NullPointerException for a Null Parameter?](https://www.baeldung.com/java-illegalargumentexception-or-nullpointerexception)"
   ]
  },
  {
   "cell_type": "code",
   "execution_count": 49,
   "id": "1163f79e-4c61-4ad0-9f67-8c742e0542b0",
   "metadata": {},
   "outputs": [
    {
     "ename": "EvalException",
     "evalue": "null",
     "output_type": "error",
     "traceback": [
      "\u001b[1m\u001b[31m---------------------------------------------------------------------------\u001b[0m",
      "\u001b[1m\u001b[31mjava.lang.IllegalArgumentException: null\u001b[0m",
      "\u001b[1m\u001b[31m\tat java.base/java.lang.Thread.setPriority(Thread.java:1868)\u001b[0m",
      "\u001b[1m\u001b[31m\tat .(#59:3)\u001b[0m"
     ]
    }
   ],
   "source": [
    "Thread t = new Thread();\n",
    "t.setPriority(7); // range(1,10)\n",
    "\n",
    "t.setPriority(15);"
   ]
  },
  {
   "cell_type": "markdown",
   "id": "8914e86f-be9b-4a40-8f00-903f7ee583e2",
   "metadata": {},
   "source": [
    "### NumberFormatException\r\n",
    "\r\n",
    "* Java throws `NumberFormatException` – an unchecked exception – when it cannot convert a String to a number type.\r\n",
    "* [Understanding the NumberFormatException in Java](https://www.baeldung.com/java-number-format-exception)\r\n",
    "* It is class of `IllegalArgumentException`."
   ]
  },
  {
   "cell_type": "code",
   "execution_count": 50,
   "id": "8c4c0e6d-79a5-48c3-bd7f-3e242ddcbf37",
   "metadata": {},
   "outputs": [],
   "source": [
    "int i = Integer.parseInt(\"10\");"
   ]
  },
  {
   "cell_type": "code",
   "execution_count": 51,
   "id": "3e04c251-180b-4de9-a392-f88fd89df5cb",
   "metadata": {},
   "outputs": [
    {
     "ename": "EvalException",
     "evalue": "For input string: \"ten\"",
     "output_type": "error",
     "traceback": [
      "\u001b[1m\u001b[31m---------------------------------------------------------------------------\u001b[0m",
      "\u001b[1m\u001b[31mjava.lang.NumberFormatException: For input string: \"ten\"\u001b[0m",
      "\u001b[1m\u001b[31m\tat java.base/java.lang.NumberFormatException.forInputString(NumberFormatException.java:67)\u001b[0m",
      "\u001b[1m\u001b[31m\tat java.base/java.lang.Integer.parseInt(Integer.java:662)\u001b[0m",
      "\u001b[1m\u001b[31m\tat java.base/java.lang.Integer.parseInt(Integer.java:778)\u001b[0m",
      "\u001b[1m\u001b[31m\tat .(#60:1)\u001b[0m"
     ]
    }
   ],
   "source": [
    "int i = Integer.parseInt(\"ten\");"
   ]
  },
  {
   "cell_type": "markdown",
   "id": "43f2693f-90bb-4278-b3d2-16f882631ff4",
   "metadata": {},
   "source": [
    "### IllegaStateException\r\n",
    "\r\n",
    "* `IllegalStateException` signals that a method’s been invoked at an illegal or inappropriate time."
   ]
  },
  {
   "cell_type": "code",
   "execution_count": 52,
   "id": "32877753-e9af-4b55-88de-c80448a5bf01",
   "metadata": {},
   "outputs": [
    {
     "ename": "CompilationException",
     "evalue": "",
     "output_type": "error",
     "traceback": [
      "\u001b[1m\u001b[30m|   \u001b[1m\u001b[30mIterator<Integer> intListIterator = \u001b[0m\u001b[1m\u001b[30m\u001b[41mnew ArrayList<>().iterator()\u001b[0m\u001b[1m\u001b[30m;\u001b[0m",
      "\u001b[1m\u001b[31mincompatible types: java.util.Iterator<java.lang.Object> cannot be converted to java.util.Iterator<java.lang.Integer>\u001b[0m",
      ""
     ]
    }
   ],
   "source": [
    "Iterator<Integer> intListIterator = new ArrayList<>().iterator(); \n",
    "intListIterator.remove();"
   ]
  },
  {
   "cell_type": "markdown",
   "id": "b72da89d-4895-43ad-90ac-6f6872fccef9",
   "metadata": {},
   "source": [
    "### AssertionError\r\n",
    "\r\n",
    "* It is child of `Error` hence it is `unchecked`.\r\n",
    "* An `AssertionError` is thrown when a Java program encounters a failed assertion"
   ]
  },
  {
   "cell_type": "code",
   "execution_count": 53,
   "id": "7f67d603-6792-41a1-954c-a0718b2ad693",
   "metadata": {},
   "outputs": [
    {
     "name": "stdout",
     "output_type": "stream",
     "text": [
      "Number is positive: 5\n"
     ]
    }
   ],
   "source": [
    "// by default, assertions are disabled in Java. To enable assertions, you need to use the `-ea` flag when running the Java program.\n",
    "\n",
    "// javac Main.java\n",
    "// java -ea Main\n",
    "class Main {\n",
    "    public static void main() {\n",
    "        int num = 5;\n",
    "        assert num > 0: \"Number must be positive\";\n",
    "        System.out.println(\"Number is positive: \" + num);\n",
    "    }\n",
    "}\n",
    "\n",
    "Main.main();"
   ]
  },
  {
   "cell_type": "markdown",
   "id": "5d35c93b-5c7e-4443-ac24-23097677483a",
   "metadata": {},
   "source": [
    "## try with resources\n",
    "\n",
    "* Introduced in Java 1.7\n",
    "* Java provides the `try-with-resources` statement, which ensures that resources are closed automatically after usage, without the need to explicitly define them in the `finally` block.\n",
    "\n",
    "```java\n",
    "try (FileWriter fw = new FileWriter(\"output.txt\"); FileReader fr = new FileReader(\"output.txt\")) {\n",
    "    // reassignment here is compilation error\n",
    "} catch () {\n",
    "    \n",
    "}\n",
    "\n",
    "// valid since 1.7\n",
    "// autocloseable resources: netwrok, database, io\n",
    "try () {\n",
    "    \n",
    "}\n",
    "```"
   ]
  },
  {
   "cell_type": "code",
   "execution_count": 54,
   "id": "30b65f03-fb88-4100-9074-5386cba06549",
   "metadata": {},
   "outputs": [
    {
     "name": "stdout",
     "output_type": "stream",
     "text": [
      "java.io.FileNotFoundException: example.txt (No such file or directory)\n"
     ]
    }
   ],
   "source": [
    "import java.io.BufferedReader;\n",
    "import java.io.FileReader;\n",
    "import java.io.IOException;\n",
    "\n",
    "String filePath = \"example.txt\";\n",
    "BufferedReader reader = null;\n",
    "\n",
    "// 1.6\n",
    "try {\n",
    "    reader = new BufferedReader(new FileReader(filePath));\n",
    "    String line;\n",
    "    while ((line = reader.readLine()) != null) {\n",
    "        System.out.println(line);\n",
    "    }\n",
    "} catch (IOException e) {\n",
    "    System.out.println(e);\n",
    "} finally {\n",
    "    if (reader != null) {\n",
    "        reader.close();\n",
    "    }\n",
    "}"
   ]
  },
  {
   "cell_type": "code",
   "execution_count": 55,
   "id": "94598256-1566-46e5-a3cb-2823688fdcab",
   "metadata": {},
   "outputs": [
    {
     "name": "stdout",
     "output_type": "stream",
     "text": [
      "java.io.FileNotFoundException: example.txt (No such file or directory)\n"
     ]
    }
   ],
   "source": [
    "String filePath2 = \"example.txt\";\n",
    "\n",
    "// 1.7\n",
    "try (BufferedReader reader = new BufferedReader(new FileReader(filePath2))) {\n",
    "    String line;\n",
    "    while ((line = reader.readLine()) != null) {\n",
    "        System.out.println(line);\n",
    "    }\n",
    "} catch (IOException e) {\n",
    "    System.out.println(e);\n",
    "}"
   ]
  },
  {
   "cell_type": "code",
   "execution_count": 56,
   "id": "03566886-4253-4ff4-92bd-eb25034a7628",
   "metadata": {},
   "outputs": [
    {
     "ename": "CompilationException",
     "evalue": "",
     "output_type": "error",
     "traceback": [
      "\u001b[1m\u001b[30m|   \u001b[1m\u001b[30mtry (\u001b[0m\u001b[1m\u001b[30m\u001b[41mint x = 10/0;\u001b[0m\u001b[1m\u001b[30m) {\u001b[0m",
      "\u001b[1m\u001b[31mincompatible types: try-with-resources not applicable to variable type\u001b[0m",
      "\u001b[1m\u001b[31m    (int cannot be converted to java.lang.AutoCloseable)\u001b[0m",
      ""
     ]
    }
   ],
   "source": [
    "try (int x = 10/0;) {\n",
    "    System.out.println(x);\n",
    "}"
   ]
  },
  {
   "cell_type": "markdown",
   "id": "b6d0dca4-76ce-4da2-96b2-8f84a0964b8c",
   "metadata": {},
   "source": [
    "## Multi catch block\n",
    "\n",
    "```java\n",
    "// should not be any relation between Exception types(either child-parent or parent-child or same) else compilation error\n",
    "try {\n",
    "    \n",
    "} catch (ChildException | Exception e) {\n",
    "    \n",
    "}\n",
    "```"
   ]
  },
  {
   "cell_type": "code",
   "execution_count": 57,
   "id": "8f33617e-f96b-477e-837b-42d8adc5b004",
   "metadata": {},
   "outputs": [
    {
     "name": "stdout",
     "output_type": "stream",
     "text": [
      "java.lang.ArithmeticException: / by zero\n"
     ]
    }
   ],
   "source": [
    "try {\n",
    "    int x = 10/0;\n",
    "    BufferedReader reader = new BufferedReader(new FileReader(\"example.txt\"));\n",
    "    String line = reader.readLine();\n",
    "} catch (ArithmeticException | IOException e) {\n",
    "    System.out.println(e);\n",
    "}"
   ]
  },
  {
   "cell_type": "code",
   "execution_count": 58,
   "id": "d5236cea-66e3-49ff-a45d-16d5a2ec14e2",
   "metadata": {},
   "outputs": [
    {
     "name": "stdout",
     "output_type": "stream",
     "text": [
      "java.lang.NullPointerException: Cannot invoke \"String.length()\" because \"<local0>\" is null\n"
     ]
    }
   ],
   "source": [
    "try {\n",
    "    String s = null;\n",
    "    System.out.println(s.length());\n",
    "    int x = 10/0;\n",
    "} catch (ArithmeticException | NullPointerException e) {\n",
    "    System.out.println(e);\n",
    "}"
   ]
  },
  {
   "cell_type": "code",
   "execution_count": 59,
   "id": "04c080ca-826b-4511-8038-7894f0fcc1ab",
   "metadata": {},
   "outputs": [
    {
     "ename": "CompilationException",
     "evalue": "",
     "output_type": "error",
     "traceback": [
      "\u001b[1m\u001b[30m|   \u001b[1m\u001b[30m} catch (ArithmeticException | \u001b[0m\u001b[1m\u001b[30m\u001b[41mException\u001b[0m\u001b[1m\u001b[30m e) { // child parent should not be here\u001b[0m",
      "\u001b[1m\u001b[31mAlternatives in a multi-catch statement cannot be related by subclassing\u001b[0m",
      "\u001b[1m\u001b[31m  Alternative java.lang.ArithmeticException is a subclass of alternative java.lang.Exception\u001b[0m",
      ""
     ]
    }
   ],
   "source": [
    "try {\n",
    "    int x = 10 / 0;\n",
    "} catch (ArithmeticException | Exception e) { // child parent should not be here\n",
    "    System.out.println(e);\n",
    "}"
   ]
  },
  {
   "cell_type": "code",
   "execution_count": 60,
   "id": "362df736-281a-4e97-b4db-b7e462e48268",
   "metadata": {},
   "outputs": [
    {
     "name": "stdout",
     "output_type": "stream",
     "text": [
      "java.lang.NumberFormatException: For input string: \"hell\"\n"
     ]
    }
   ],
   "source": [
    "// it's valid\n",
    "try {\n",
    "    int l = Integer.parseInt(\"hell\");\n",
    "} catch (ArithmeticException e) {\n",
    "    System.out.println(e);\n",
    "} catch (Exception e) {\n",
    "    System.out.println(e);\n",
    "}"
   ]
  }
 ],
 "metadata": {
  "kernelspec": {
   "display_name": "Java",
   "language": "java",
   "name": "java"
  },
  "language_info": {
   "codemirror_mode": "java",
   "file_extension": ".jshell",
   "mimetype": "text/x-java-source",
   "name": "Java",
   "pygments_lexer": "java",
   "version": "21.0.2+13-LTS"
  }
 },
 "nbformat": 4,
 "nbformat_minor": 5
}
