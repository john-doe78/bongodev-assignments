{
 "cells": [
  {
   "cell_type": "markdown",
   "id": "cfe78307-7d0f-4fdc-b4b4-54d0300745d5",
   "metadata": {},
   "source": [
    "# Sessions 22, 23｜Java Exception Handling\n",
    "\n",
    "* [Java Exception Handling](https://www.youtube.com/watch?v=VHi9PedZCq8) by Durga Sir\n",
    "* [Exception Handling in Java](https://www.baeldung.com/java-exceptions)\n",
    "\n",
    "## What is an Exception?\n",
    "\n",
    "* An exception is an event that occurs during the execution of a program.\n",
    "* It disrupts the normal flow of the program.\n",
    "* When an exception occurs, an **Exception Object** is created, which contains information about the error, such as:\n",
    "  * The type of exception and its message.\n",
    "  * The stack trace, etc.\n",
    "* The runtime system uses this **Exception Object** to locate the class or block of code that can handle the exception."
   ]
  },
  {
   "cell_type": "code",
   "execution_count": 1,
   "id": "8dc704c8-3d4c-4f84-9ba2-ddee3dc275ec",
   "metadata": {},
   "outputs": [
    {
     "ename": "EvalException",
     "evalue": "/ by zero",
     "output_type": "error",
     "traceback": [
      "\u001b[1m\u001b[31m---------------------------------------------------------------------------\u001b[0m",
      "\u001b[1m\u001b[31mjava.lang.ArithmeticException: / by zero\u001b[0m",
      "\u001b[1m\u001b[31m\tat Main.method3(#12:11)\u001b[0m",
      "\u001b[1m\u001b[31m\tat Main.method2(#12:7)\u001b[0m",
      "\u001b[1m\u001b[31m\tat Main.method1(#12:3)\u001b[0m",
      "\u001b[1m\u001b[31m\tat .(#14:1)\u001b[0m"
     ]
    }
   ],
   "source": [
    "public class Main {\n",
    "    void method1() {\n",
    "        method2();\n",
    "    }\n",
    "    \n",
    "    void method2() {\n",
    "        method3();\n",
    "    }\n",
    "    \n",
    "    void method3() {\n",
    "        int value = 50/0;\n",
    "    }\n",
    "}\n",
    "\n",
    "Main main = new Main();\n",
    "main.method1();"
   ]
  },
  {
   "cell_type": "markdown",
   "id": "04528ca4-4a97-4e63-82d1-6f3ce991d5a8",
   "metadata": {},
   "source": [
    "## Exception Hierarchy  \n",
    "\n",
    "* Object  \n",
    "    * Throwable \n",
    "        * Error  \n",
    "            * `StackOverflowError`  \n",
    "            * `OutOfMemoryError`  \n",
    "        * Exception\n",
    "            * Unchecked/Runtime Exceptions\n",
    "                * `ClassCastException`  \n",
    "                * `ArithmeticException`  \n",
    "                * `IndexOutOfBoundsException`  \n",
    "                    * `ArrayIndexOutOfBoundsException`  \n",
    "                    * `StringIndexOutOfBoundsException`  \n",
    "                * `NullPointerException`  \n",
    "                * `IllegalArgumentException`  \n",
    "                    * `NumberFormatException`  \n",
    "            * Checked/Compile-time Exceptions\n",
    "                * `ClassNotFoundException`  \n",
    "                * `InterruptedException`  \n",
    "                * `IOException`  \n",
    "                    * `FileNotFoundException`  \n",
    "                    * `EOFException`  \n",
    "                    * `SocketException`  \n",
    "                * `SQLException`  \n",
    "\n",
    "![Java Exception Hierarchy](https://cdn.rollbar.com/wp-content/uploads/2021/07/java-exceptions-hierarchy-example.png.webp)  \n",
    "\n",
    "## Runtime Exceptions\n",
    "\n",
    "These exceptions occur during runtime, and the compiler does not force us to handle them."
   ]
  },
  {
   "cell_type": "code",
   "execution_count": 2,
   "id": "3e2af6d8-6736-4bcc-b04a-b85bc29f1da3",
   "metadata": {},
   "outputs": [
    {
     "ename": "EvalException",
     "evalue": "Division by Zero",
     "output_type": "error",
     "traceback": [
      "\u001b[1m\u001b[31m---------------------------------------------------------------------------\u001b[0m",
      "\u001b[1m\u001b[31mjava.lang.ArithmeticException: Division by Zero\u001b[0m",
      "\u001b[1m\u001b[31m\tat Main.method1(#12:3)\u001b[0m",
      "\u001b[1m\u001b[31m\tat .(#15:1)\u001b[0m"
     ]
    }
   ],
   "source": [
    "public class Main {\n",
    "    public void method1() {\n",
    "        throw new ArithmeticException(\"Division by Zero\");\n",
    "    }\n",
    "}\n",
    "\n",
    "Main main = new Main();\n",
    "main.method1();"
   ]
  },
  {
   "cell_type": "code",
   "execution_count": 3,
   "id": "c02da0a9-3aa0-4aea-a31b-3ad9a92b3f56",
   "metadata": {},
   "outputs": [
    {
     "ename": "EvalException",
     "evalue": "class java.lang.Integer cannot be cast to class java.lang.String (java.lang.Integer and java.lang.String are in module java.base of loader 'bootstrap')",
     "output_type": "error",
     "traceback": [
      "\u001b[1m\u001b[31m---------------------------------------------------------------------------\u001b[0m",
      "\u001b[1m\u001b[31mjava.lang.ClassCastException: class java.lang.Integer cannot be cast to class java.lang.String (java.lang.Integer and java.lang.String are in module java.base of loader 'bootstrap')\u001b[0m",
      "\u001b[1m\u001b[31m\tat .(#17:1)\u001b[0m"
     ]
    }
   ],
   "source": [
    "Object val = 0;\n",
    "System.out.println((String)val);"
   ]
  },
  {
   "cell_type": "code",
   "execution_count": 4,
   "id": "62dde1f4-8997-4944-93af-1f8d1291c787",
   "metadata": {},
   "outputs": [
    {
     "ename": "EvalException",
     "evalue": "Index 3 out of bounds for length 2",
     "output_type": "error",
     "traceback": [
      "\u001b[1m\u001b[31m---------------------------------------------------------------------------\u001b[0m",
      "\u001b[1m\u001b[31mjava.lang.ArrayIndexOutOfBoundsException: Index 3 out of bounds for length 2\u001b[0m",
      "\u001b[1m\u001b[31m\tat .(#18:1)\u001b[0m"
     ]
    }
   ],
   "source": [
    "int[] val = new int[2];\n",
    "val[3];"
   ]
  },
  {
   "cell_type": "code",
   "execution_count": 5,
   "id": "be0a5617-7b17-4a45-aa47-2d7461a3ba31",
   "metadata": {},
   "outputs": [
    {
     "ename": "EvalException",
     "evalue": "Cannot invoke \"String.charAt(int)\" because \"REPL.$JShell$16C.val\" is null",
     "output_type": "error",
     "traceback": [
      "\u001b[1m\u001b[31m---------------------------------------------------------------------------\u001b[0m",
      "\u001b[1m\u001b[31mjava.lang.NullPointerException: Cannot invoke \"String.charAt(int)\" because \"REPL.$JShell$16C.val\" is null\u001b[0m",
      "\u001b[1m\u001b[31m\tat .(#19:1)\u001b[0m"
     ]
    }
   ],
   "source": [
    "String val = null;\n",
    "val.charAt(0);"
   ]
  },
  {
   "cell_type": "code",
   "execution_count": 6,
   "id": "c8bada99-c191-4349-90e6-43e5ed5f32b1",
   "metadata": {},
   "outputs": [
    {
     "ename": "EvalException",
     "evalue": "For input string: \"abc\"",
     "output_type": "error",
     "traceback": [
      "\u001b[1m\u001b[31m---------------------------------------------------------------------------\u001b[0m",
      "\u001b[1m\u001b[31mjava.lang.NumberFormatException: For input string: \"abc\"\u001b[0m",
      "\u001b[1m\u001b[31m\tat java.base/java.lang.NumberFormatException.forInputString(NumberFormatException.java:67)\u001b[0m",
      "\u001b[1m\u001b[31m\tat java.base/java.lang.Integer.parseInt(Integer.java:662)\u001b[0m",
      "\u001b[1m\u001b[31m\tat java.base/java.lang.Integer.parseInt(Integer.java:778)\u001b[0m",
      "\u001b[1m\u001b[31m\tat .(#20:1)\u001b[0m"
     ]
    }
   ],
   "source": [
    "Integer.parseInt(\"abc\");"
   ]
  },
  {
   "cell_type": "markdown",
   "id": "e1eb22c3-f71e-4557-bf2b-11a31f64b690",
   "metadata": {},
   "source": [
    "## Compile-time Exceptions\r\n",
    "\r\n",
    "These exceptions are checked by the compiler during code compilation. If they are not handled properly, the code will fail to compile."
   ]
  },
  {
   "cell_type": "code",
   "execution_count": 7,
   "id": "7ad7ac70-20b0-4f21-8ce4-d8f54aae2f3b",
   "metadata": {},
   "outputs": [
    {
     "ename": "CompilationException",
     "evalue": "",
     "output_type": "error",
     "traceback": [
      "\u001b[1m\u001b[30m|   \u001b[1m\u001b[30m        \u001b[0m\u001b[1m\u001b[30m\u001b[41mthrow new ClassNotFoundException();\u001b[0m\u001b[1m\u001b[30m\u001b[0m",
      "\u001b[1m\u001b[31munreported exception java.lang.ClassNotFoundException; must be caught or declared to be thrown\u001b[0m",
      ""
     ]
    }
   ],
   "source": [
    "public class Main {\n",
    "    public void method1() {\n",
    "        throw new ClassNotFoundException();\n",
    "    }\n",
    "}\n",
    "\n",
    "Main main = new Main();\n",
    "main.method1();"
   ]
  },
  {
   "cell_type": "markdown",
   "id": "1cdeb09e-c213-4c78-8413-4f10224b3fa8",
   "metadata": {},
   "source": [
    "### Handling Exceptions Using \"throws\""
   ]
  },
  {
   "cell_type": "code",
   "execution_count": 8,
   "id": "384004d2-88c7-4d7e-912b-0f8f82e2e603",
   "metadata": {},
   "outputs": [
    {
     "ename": "CompilationException",
     "evalue": "",
     "output_type": "error",
     "traceback": [
      "\u001b[1m\u001b[30m|   \u001b[1m\u001b[30m        \u001b[0m\u001b[1m\u001b[30m\u001b[41mmethod1()\u001b[0m\u001b[1m\u001b[30m;\u001b[0m",
      "\u001b[1m\u001b[31munreported exception java.lang.ClassNotFoundException; must be caught or declared to be thrown\u001b[0m",
      ""
     ]
    }
   ],
   "source": [
    "public class Main {\n",
    "    public void method2() {\n",
    "        method1();\n",
    "    }\n",
    "    \n",
    "    public void method1() throws ClassNotFoundException {\n",
    "        throw new ClassNotFoundException();\n",
    "    }\n",
    "}\n",
    "\n",
    "Main main = new Main();\n",
    "main.method1();"
   ]
  },
  {
   "cell_type": "markdown",
   "id": "27fc3f26-8f7a-4ecf-8272-38d0ae750b23",
   "metadata": {},
   "source": [
    "### Handling Exceptions Using \"try/catch\"\n",
    "\n",
    "* The `try` block specifies the code that may throw an exception.  \n",
    "* The `try` block is followed by either a `catch` block, a `finally` block, or both.  \n",
    "* The `catch` block is used to handle exceptions thrown within the `try` block.  \n",
    "* Multiple `catch` blocks can be used to handle different types of exceptions.  "
   ]
  },
  {
   "cell_type": "code",
   "execution_count": 9,
   "id": "498dbc98-bb55-466e-8372-8a45dc98da07",
   "metadata": {},
   "outputs": [
    {
     "name": "stdout",
     "output_type": "stream",
     "text": [
      "Class Not Found\n",
      "Hello\n"
     ]
    }
   ],
   "source": [
    "public class Main {\n",
    "    public void method2() {\n",
    "        try {\n",
    "            method1();\n",
    "        }\n",
    "        catch (ClassNotFoundException exception) {\n",
    "            System.out.println(exception.getMessage());\n",
    "        }\n",
    "        \n",
    "        System.out.println(\"Hello\");\n",
    "    }\n",
    "    \n",
    "    public void method1() throws ClassNotFoundException {\n",
    "        throw new ClassNotFoundException(\"Class Not Found\");\n",
    "    }\n",
    "}\n",
    "\n",
    "Main main = new Main();\n",
    "main.method2();"
   ]
  },
  {
   "cell_type": "code",
   "execution_count": 10,
   "id": "0ab6c513-ab19-4bfb-8888-e1ae00524368",
   "metadata": {},
   "outputs": [
    {
     "name": "stdout",
     "output_type": "stream",
     "text": [
      "Class Not Found\n"
     ]
    }
   ],
   "source": [
    "public class Main2 {\n",
    "    public void method2() {\n",
    "        method1();\n",
    "    }\n",
    "    \n",
    "    public void method1() {\n",
    "        try {\n",
    "            throw new ClassNotFoundException(\"Class Not Found\");\n",
    "        } catch (ClassNotFoundException exception) {\n",
    "            System.out.println(exception.getMessage());\n",
    "        }\n",
    "    }\n",
    "}\n",
    "\n",
    "Main2 main = new Main2();\n",
    "main.method2();"
   ]
  },
  {
   "cell_type": "markdown",
   "id": "34034fbe-f5e6-4d82-84a5-ebbff0a15d0b",
   "metadata": {},
   "source": [
    "### Catch Multiple Exceptions in a Single Block"
   ]
  },
  {
   "cell_type": "code",
   "execution_count": 11,
   "id": "7efc2c73-48d5-4336-b632-bba41fbb1f87",
   "metadata": {},
   "outputs": [
    {
     "name": "stdout",
     "output_type": "stream",
     "text": [
      "Interrupted Exception Occurred\n",
      "Hello\n"
     ]
    }
   ],
   "source": [
    "public class Main {\n",
    "    public void method2() {\n",
    "        try {\n",
    "            method1(\"boom\");\n",
    "        }\n",
    "        catch (ClassNotFoundException | InterruptedException exception) {\n",
    "            System.out.println(exception.getMessage());\n",
    "        }\n",
    "        \n",
    "        System.out.println(\"Hello\");\n",
    "    }\n",
    "    \n",
    "    public void method1(String str) throws ClassNotFoundException, InterruptedException  {\n",
    "        if (str.equals(\"dummy\")) {\n",
    "            throw new ClassNotFoundException(\"Class Not Found\");\n",
    "        } else {\n",
    "            throw new InterruptedException(\"Interrupted Exception Occurred\");\n",
    "        }\n",
    "    }\n",
    "}\n",
    "\n",
    "Main main = new Main();\n",
    "main.method2();"
   ]
  },
  {
   "cell_type": "markdown",
   "id": "ffa3e6e9-06c9-41c4-a0cf-fc64022a54d6",
   "metadata": {},
   "source": [
    "### Catch all Exception Object"
   ]
  },
  {
   "cell_type": "code",
   "execution_count": 12,
   "id": "d64f46fe-5639-4fc2-8b73-d4837ca2e104",
   "metadata": {},
   "outputs": [
    {
     "name": "stdout",
     "output_type": "stream",
     "text": [
      "FileNotFound Exception Occurred\n"
     ]
    }
   ],
   "source": [
    "public class Main3 {\n",
    "    public void method2() {\n",
    "        try {\n",
    "            method1();\n",
    "        } catch (ClassNotFoundException exception) {\n",
    "            System.out.println(exception.getMessage());\n",
    "        } catch (Exception exception) {\n",
    "            System.out.println(exception.getMessage());\n",
    "        }\n",
    "    }\n",
    "    \n",
    "    public void method1() throws ClassNotFoundException, FileNotFoundException {\n",
    "        throw new FileNotFoundException(\"FileNotFound Exception Occurred\");\n",
    "    }\n",
    "}\n",
    "\n",
    "Main3 main = new Main3();\n",
    "main.method2();"
   ]
  },
  {
   "cell_type": "code",
   "execution_count": 13,
   "id": "e66cf944-7315-4807-bd52-0a358cd39f22",
   "metadata": {},
   "outputs": [
    {
     "ename": "CompilationException",
     "evalue": "",
     "output_type": "error",
     "traceback": [
      "\u001b[1m\u001b[30m|   \u001b[1m\u001b[30m        } \u001b[0m\u001b[1m\u001b[30m\u001b[41mcatch (ClassNotFoundException exception) {\u001b[0m",
      "\u001b[1m\u001b[30m|   \u001b[1m\u001b[30m\u001b[41m            System.out.println(exception.getMessage());\u001b[0m",
      "\u001b[1m\u001b[30m|   \u001b[1m\u001b[30m\u001b[41m        }\u001b[0m\u001b[1m\u001b[30m \u001b[0m",
      "\u001b[1m\u001b[31mexception java.lang.ClassNotFoundException has already been caught\u001b[0m",
      ""
     ]
    }
   ],
   "source": [
    "public class Main3 {\n",
    "    public void method2() {\n",
    "        try {\n",
    "            method1();\n",
    "        } catch (Exception exception) { // it should be the last catch block\n",
    "            System.out.println(exception.getMessage());\n",
    "        } catch (ClassNotFoundException exception) {\n",
    "            System.out.println(exception.getMessage());\n",
    "        } \n",
    "    }\n",
    "    \n",
    "    public void method1() throws ClassNotFoundException, FileNotFoundException {\n",
    "        throw new FileNotFoundException(\"FileNotFound Exception Occurred\");\n",
    "    }\n",
    "}\n",
    "\n",
    "Main3 main = new Main3();\n",
    "main.method2();"
   ]
  },
  {
   "cell_type": "markdown",
   "id": "8622cee5-5920-4536-baa0-9c5cef9ae038",
   "metadata": {},
   "source": [
    "### Try/Catch/Finally or Try/Finally Block\n",
    "\n",
    "* The `finally` block can be used after the `try` block or after the `catch` block.  \n",
    "* The `finally` block is always executed, whether you return from the `try` block or the `catch` block. Only one `finally` block can be added.  \n",
    "* It is mostly used for tasks like closing resources, logging, etc.  \n",
    "* If JVM-related issues occur, such as out-of-memory errors, system shutdowns, or the process being forcefully terminated, the `finally` block may not be executed."
   ]
  },
  {
   "cell_type": "code",
   "execution_count": 14,
   "id": "b350f66b-0fd5-434b-8907-92109b56c956",
   "metadata": {},
   "outputs": [
    {
     "name": "stdout",
     "output_type": "stream",
     "text": [
      "Interrupted Exception Occurred\n",
      "Hello World\n"
     ]
    }
   ],
   "source": [
    "public class Main {\n",
    "    public void method2() {\n",
    "        try {\n",
    "            method1(\"boom\");\n",
    "        } catch (ClassNotFoundException | InterruptedException exception) {\n",
    "            System.out.println(exception.getMessage());\n",
    "        } finally {\n",
    "            System.out.println(\"Hello World\");\n",
    "        }\n",
    "    }\n",
    "    \n",
    "    public void method1(String str) throws ClassNotFoundException, InterruptedException  {\n",
    "        if (str.equals(\"dummy\")) {\n",
    "            throw new ClassNotFoundException(\"Class Not Found\");\n",
    "        } else {\n",
    "            throw new InterruptedException(\"Interrupted Exception Occurred\");\n",
    "        }\n",
    "    }\n",
    "}\n",
    "\n",
    "Main main = new Main();\n",
    "main.method2();"
   ]
  },
  {
   "cell_type": "markdown",
   "id": "bdb52068-4251-407a-96c1-5008cc057435",
   "metadata": {},
   "source": [
    "## Why Do We Need Exception Handling?\n",
    "\n",
    "* It helps keep the code clean by separating error-handling code from the regular code.  \n",
    "* It allows the program to recover from errors.  \n",
    "* It enables us to add more information, which aids in debugging.  \n",
    "* It improves security by hiding sensitive information.\n",
    "\n",
    "## Custom Exception"
   ]
  },
  {
   "cell_type": "code",
   "execution_count": 15,
   "id": "c1ff7ccd-643b-468e-b602-19e47bfc23ff",
   "metadata": {},
   "outputs": [],
   "source": [
    "public class CustomException extends RuntimeException {\n",
    "    CustomException(String message) {\n",
    "        super(message);\n",
    "    }\n",
    "}"
   ]
  },
  {
   "cell_type": "code",
   "execution_count": 16,
   "id": "39a9055b-6f13-475a-a5c4-11fbfec0219e",
   "metadata": {},
   "outputs": [
    {
     "ename": "EvalException",
     "evalue": "Hello",
     "output_type": "error",
     "traceback": [
      "\u001b[1m\u001b[31m---------------------------------------------------------------------------\u001b[0m",
      "\u001b[1m\u001b[31mREPL.$JShell$28$CustomException: Hello\u001b[0m",
      "\u001b[1m\u001b[31m\tat Main.method1(#12:7)\u001b[0m",
      "\u001b[1m\u001b[31m\tat Main.method2(#12:3)\u001b[0m",
      "\u001b[1m\u001b[31m\tat .(#29:1)\u001b[0m"
     ]
    }
   ],
   "source": [
    "public class Main {\n",
    "    public void method2() {\n",
    "        method1();\n",
    "    }\n",
    "    \n",
    "    public void method1() throws CustomException  {\n",
    "        throw new CustomException(\"Hello\");\n",
    "    }\n",
    "}\n",
    "\n",
    "Main main = new Main();\n",
    "main.method2();"
   ]
  }
 ],
 "metadata": {
  "kernelspec": {
   "display_name": "Java",
   "language": "java",
   "name": "java"
  },
  "language_info": {
   "codemirror_mode": "java",
   "file_extension": ".jshell",
   "mimetype": "text/x-java-source",
   "name": "Java",
   "pygments_lexer": "java",
   "version": "21.0.4+7-LTS"
  }
 },
 "nbformat": 4,
 "nbformat_minor": 5
}
