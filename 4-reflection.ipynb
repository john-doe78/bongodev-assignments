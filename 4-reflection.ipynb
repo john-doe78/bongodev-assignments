{
 "cells": [
  {
   "cell_type": "markdown",
   "id": "ca686bcb-7aa6-49be-be51-002b6b41bb8a",
   "metadata": {},
   "source": [
    "# Session 19｜Java Reflection\n",
    "\n",
    "## What is Reflection?\n",
    "\n",
    "- [Java Reflection Example Tutorial](https://www.digitalocean.com/community/tutorials/java-reflection-example-tutorial)\n",
    "- [Guide to Java Reflection](https://www.baeldung.com/java-reflection)\n",
    "\n",
    "Reflection in Java is used to examine classes, methods, fields, and interfaces at runtime. It also allows you to change the behavior of a class dynamically.\n",
    "\n",
    "For example, you can use reflection to:\n",
    "\n",
    "* Inspect all methods present in a class.\n",
    "* Inspect all fields present in a class.\n",
    "* Determine the return type of a method.\n",
    "* Retrieve the modifiers of a class.\n",
    "* Check which interfaces a class implements.\n",
    "* Modify the value of both public and private fields of a class.\n",
    "\n",
    "### How to Perform Reflection on Classes?\n",
    "\n",
    "To reflect on a class you first need to obtain an object of type `Class`.\n",
    "\n",
    "What is the `Class` class?\n",
    "\n",
    "* The `Class` class is an instance that represents a class during runtime.\n",
    "* The JVM creates one `Class` object for each class loaded at runtime.\n",
    "* This `Class` object contains metadata information about the class, such as its methods, fields, constructors, etc.\n",
    "\n",
    "## How to Obtain a `Class` Object?\n",
    "\n",
    "There are 3 ways to obtain the `Class` object for a particular class:\n",
    "\n",
    "### 1. Using the `forName(String className)` Method"
   ]
  },
  {
   "cell_type": "code",
   "execution_count": 1,
   "id": "12b74ec1-f367-457f-9bc0-14e753e230be",
   "metadata": {},
   "outputs": [
    {
     "name": "stderr",
     "output_type": "stream",
     "text": [
      "java.lang.ClassNotFoundException: Bird\n",
      "\tat java.base/java.net.URLClassLoader.findClass(URLClassLoader.java:445)\n",
      "\tat jdk.jshell/jdk.jshell.execution.DefaultLoaderDelegate$RemoteClassLoader.findClass(DefaultLoaderDelegate.java:154)\n",
      "\tat java.base/java.lang.ClassLoader.loadClass(ClassLoader.java:593)\n",
      "\tat java.base/java.lang.ClassLoader.loadClass(ClassLoader.java:526)\n",
      "\tat java.base/java.lang.Class.forName0(Native Method)\n",
      "\tat java.base/java.lang.Class.forName(Class.java:421)\n",
      "\tat java.base/java.lang.Class.forName(Class.java:412)\n",
      "\tat REPL.$JShell$13.do_it$($JShell$13.java:19)\n",
      "\tat java.base/jdk.internal.reflect.DirectMethodHandleAccessor.invoke(DirectMethodHandleAccessor.java:103)\n",
      "\tat java.base/java.lang.reflect.Method.invoke(Method.java:580)\n",
      "\tat io.github.spencerpark.ijava.execution.IJavaExecutionControl.lambda$execute$1(IJavaExecutionControl.java:95)\n",
      "\tat java.base/java.util.concurrent.FutureTask.run(FutureTask.java:317)\n",
      "\tat java.base/java.util.concurrent.ThreadPoolExecutor.runWorker(ThreadPoolExecutor.java:1144)\n",
      "\tat java.base/java.util.concurrent.ThreadPoolExecutor$Worker.run(ThreadPoolExecutor.java:642)\n",
      "\tat java.base/java.lang.Thread.run(Thread.java:1583)\n"
     ]
    }
   ],
   "source": [
    "public class Bird {}\n",
    "\n",
    "// it works in .java file\n",
    "try {\n",
    "    Class birdClass = Class.forName(\"Bird\");\n",
    "    System.out.println(birdClass); // class Bird\n",
    "} catch (ClassNotFoundException e) {\n",
    "    e.printStackTrace();\n",
    "} "
   ]
  },
  {
   "cell_type": "markdown",
   "id": "33900eb6-6b97-4058-851a-10a7bfd31984",
   "metadata": {},
   "source": [
    "### 2. Using `.class`"
   ]
  },
  {
   "cell_type": "code",
   "execution_count": 2,
   "id": "b8be06a6-ebed-4414-b8a5-f055c475c815",
   "metadata": {},
   "outputs": [
    {
     "data": {
      "text/plain": [
       "class REPL.$JShell$12$Bird"
      ]
     },
     "execution_count": 2,
     "metadata": {},
     "output_type": "execute_result"
    }
   ],
   "source": [
    "Class birdClass = Bird.class;\n",
    "birdClass; // class Bird"
   ]
  },
  {
   "cell_type": "markdown",
   "id": "7f1659e2-4d5b-4f6b-8236-dd205a601fef",
   "metadata": {},
   "source": [
    "### 3. Using `getClass()` method"
   ]
  },
  {
   "cell_type": "code",
   "execution_count": 3,
   "id": "e0fd5b1a-bc91-4e45-82e0-2a8d5c0ba331",
   "metadata": {},
   "outputs": [
    {
     "data": {
      "text/plain": [
       "class REPL.$JShell$12$Bird"
      ]
     },
     "execution_count": 3,
     "metadata": {},
     "output_type": "execute_result"
    }
   ],
   "source": [
    "Bird bird = new Bird();\n",
    "\n",
    "Class birdClass = bird.getClass();\n",
    "birdClass;"
   ]
  },
  {
   "cell_type": "markdown",
   "id": "7506dd43-041c-45de-a326-f17c6e3f7150",
   "metadata": {},
   "source": [
    "## Reflection on Classes"
   ]
  },
  {
   "cell_type": "code",
   "execution_count": 4,
   "id": "be520bc6-b1c7-4257-b13f-6ce8d53f85cf",
   "metadata": {},
   "outputs": [],
   "source": [
    "import java.lang.reflect.Modifier;\n",
    "import java.util.Arrays;\n",
    "\n",
    "public class Eagle {\n",
    "    public String breed;\n",
    "    private boolean canSwim;\n",
    "    \n",
    "    public void fly() {\n",
    "        System.out.println(\"Fly\");\n",
    "    }\n",
    "    \n",
    "    public void eat() {\n",
    "        System.out.println(\"Eat\");\n",
    "    }\n",
    "}"
   ]
  },
  {
   "cell_type": "code",
   "execution_count": 5,
   "id": "ac727b15-cbdc-42c6-a4b0-fdbcf1bf0886",
   "metadata": {},
   "outputs": [
    {
     "data": {
      "text/plain": [
       "class java.lang.Class"
      ]
     },
     "execution_count": 5,
     "metadata": {},
     "output_type": "execute_result"
    }
   ],
   "source": [
    "Class eagle = Eagle.class;\n",
    "eagle.getClass();"
   ]
  },
  {
   "cell_type": "code",
   "execution_count": 6,
   "id": "9d50b2f2-e20a-4705-a1e8-ad1148b5c87d",
   "metadata": {},
   "outputs": [
    {
     "data": {
      "text/plain": [
       "REPL.$JShell$20$Eagle"
      ]
     },
     "execution_count": 6,
     "metadata": {},
     "output_type": "execute_result"
    }
   ],
   "source": [
    "eagle.getName(); // Eagle"
   ]
  },
  {
   "cell_type": "code",
   "execution_count": 7,
   "id": "76799f73-25a9-44fe-818d-683c367bfb41",
   "metadata": {},
   "outputs": [
    {
     "data": {
      "text/plain": [
       "public static"
      ]
     },
     "execution_count": 7,
     "metadata": {},
     "output_type": "execute_result"
    }
   ],
   "source": [
    "Modifier.toString(eagle.getModifiers());"
   ]
  },
  {
   "cell_type": "code",
   "execution_count": 8,
   "id": "843dd811-d65c-41c4-886b-919e56dd7ba6",
   "metadata": {},
   "outputs": [
    {
     "data": {
      "text/plain": [
       "[public void REPL.$JShell$20$Eagle.fly(), public void REPL.$JShell$20$Eagle.eat(), public boolean java.lang.Object.equals(java.lang.Object), public java.lang.String java.lang.Object.toString(), public native int java.lang.Object.hashCode(), public final native java.lang.Class java.lang.Object.getClass(), public final native void java.lang.Object.notify(), public final native void java.lang.Object.notifyAll(), public final void java.lang.Object.wait(long) throws java.lang.InterruptedException, public final void java.lang.Object.wait(long,int) throws java.lang.InterruptedException, public final void java.lang.Object.wait() throws java.lang.InterruptedException]"
      ]
     },
     "execution_count": 8,
     "metadata": {},
     "output_type": "execute_result"
    }
   ],
   "source": [
    "Arrays.toString(eagle.getMethods());"
   ]
  },
  {
   "cell_type": "markdown",
   "id": "fd6f2a39-1e37-4c82-93ac-60c8f07e395b",
   "metadata": {},
   "source": [
    "## Reflection on Methods"
   ]
  },
  {
   "cell_type": "code",
   "execution_count": 9,
   "id": "a3c6ab2e-4e07-4294-be9a-59caef516353",
   "metadata": {},
   "outputs": [
    {
     "name": "stdout",
     "output_type": "stream",
     "text": [
      "Method name - fly\n",
      "Method name - void\n",
      "Class name - class REPL.$JShell$20$Eagle\n",
      "------------\n",
      "Method name - eat\n",
      "Method name - void\n",
      "Class name - class REPL.$JShell$20$Eagle\n",
      "------------\n",
      "Method name - equals\n",
      "Method name - boolean\n",
      "Class name - class java.lang.Object\n",
      "------------\n",
      "Method name - toString\n",
      "Method name - class java.lang.String\n",
      "Class name - class java.lang.Object\n",
      "------------\n",
      "Method name - hashCode\n",
      "Method name - int\n",
      "Class name - class java.lang.Object\n",
      "------------\n",
      "Method name - getClass\n",
      "Method name - class java.lang.Class\n",
      "Class name - class java.lang.Object\n",
      "------------\n",
      "Method name - notify\n",
      "Method name - void\n",
      "Class name - class java.lang.Object\n",
      "------------\n",
      "Method name - notifyAll\n",
      "Method name - void\n",
      "Class name - class java.lang.Object\n",
      "------------\n",
      "Method name - wait\n",
      "Method name - void\n",
      "Class name - class java.lang.Object\n",
      "------------\n",
      "Method name - wait\n",
      "Method name - void\n",
      "Class name - class java.lang.Object\n",
      "------------\n",
      "Method name - wait\n",
      "Method name - void\n",
      "Class name - class java.lang.Object\n"
     ]
    }
   ],
   "source": [
    "import java.lang.reflect.Method;\n",
    "\n",
    "Class eagleClass = Eagle.class;\n",
    "Method[] methods = eagleClass.getMethods(); // return all public methods including Object class methods\n",
    "\n",
    "int x = 0;\n",
    "for (Method method: methods) {\n",
    "    System.out.println(\"Method name - \" + method.getName());\n",
    "    System.out.println(\"Method name - \" + method.getReturnType());\n",
    "    System.out.println(\"Class name - \" + method.getDeclaringClass());\n",
    "\n",
    "    x += 1;\n",
    "    if (x < methods.length) {\n",
    "        System.out.println(\"------------\");\n",
    "    }\n",
    "}"
   ]
  },
  {
   "cell_type": "code",
   "execution_count": 10,
   "id": "8bd22cdd-93db-4557-83a8-9f04a908d374",
   "metadata": {},
   "outputs": [
    {
     "name": "stdout",
     "output_type": "stream",
     "text": [
      "Method name - fly\n",
      "Method name - void\n",
      "Class name - class REPL.$JShell$20$Eagle\n",
      "------------\n",
      "Method name - eat\n",
      "Method name - void\n",
      "Class name - class REPL.$JShell$20$Eagle\n"
     ]
    }
   ],
   "source": [
    "Class eagle = Eagle.class;\n",
    "Method[] methods = eagle.getDeclaredMethods(); // return all public & private methods\n",
    "\n",
    "int y = 0;\n",
    "for (Method method: methods) {\n",
    "    System.out.println(\"Method name - \" + method.getName());\n",
    "    System.out.println(\"Method name - \" + method.getReturnType());\n",
    "    System.out.println(\"Class name - \" + method.getDeclaringClass());\n",
    "\n",
    "    y += 1;\n",
    "    if (y < methods.length) {\n",
    "        System.out.println(\"------------\");\n",
    "    }\n",
    "}"
   ]
  },
  {
   "cell_type": "markdown",
   "id": "0692290c-add3-4342-989e-8ba821069e25",
   "metadata": {},
   "source": [
    "### Invoking Methods Using Reflection"
   ]
  },
  {
   "cell_type": "code",
   "execution_count": 11,
   "id": "0a55326a-1639-4864-bb2d-ebb59421341d",
   "metadata": {},
   "outputs": [],
   "source": [
    "public class Eagle2 {\n",
    "    Eagle2() {}\n",
    "    \n",
    "    public void fly(int intPara, boolean boolPara, String strPara) {\n",
    "        System.out.println(\"Fly \" + intPara + \" \" + boolPara + \" \" + strPara);;\n",
    "    }\n",
    "}"
   ]
  },
  {
   "cell_type": "code",
   "execution_count": 12,
   "id": "f9f8896a-e269-47e5-bdab-3510778db169",
   "metadata": {},
   "outputs": [
    {
     "name": "stdout",
     "output_type": "stream",
     "text": [
      "Fly 1 true hello\n"
     ]
    }
   ],
   "source": [
    "Class eagle = Eagle2.class;\n",
    "Object eagleObj = eagle.newInstance(); // invoke empty eagle constructor\n",
    "\n",
    "Method flyMethod = eagle.getMethod(\"fly\", int.class, boolean.class, String.class); // fly method\n",
    "flyMethod.invoke(eagleObj, 1, true, \"hello\");"
   ]
  },
  {
   "cell_type": "markdown",
   "id": "02d662f6-907a-4b72-8ea8-351bbf03721c",
   "metadata": {},
   "source": [
    "## Reflection on Fields"
   ]
  },
  {
   "cell_type": "code",
   "execution_count": 13,
   "id": "b40f296e-4173-4b0e-8741-03a796a798b1",
   "metadata": {},
   "outputs": [
    {
     "name": "stdout",
     "output_type": "stream",
     "text": [
      "Field Name - breed\n",
      "Type Name - class java.lang.String\n",
      "Modifier Name - public\n"
     ]
    }
   ],
   "source": [
    "import java.lang.reflect.Field;\n",
    "\n",
    "Class eagle = Eagle.class;\n",
    "Field[] fields = eagle.getFields(); // return only public fields\n",
    "\n",
    "for (Field field: fields) {\n",
    "    System.out.println(\"Field Name - \" + field.getName());\n",
    "    System.out.println(\"Type Name - \" + field.getType());\n",
    "    System.out.println(\"Modifier Name - \" + Modifier.toString(field.getModifiers()));\n",
    "}"
   ]
  },
  {
   "cell_type": "code",
   "execution_count": 14,
   "id": "34103128-7169-44d1-be63-126e825f0bed",
   "metadata": {},
   "outputs": [
    {
     "name": "stdout",
     "output_type": "stream",
     "text": [
      "Field Name - breed\n",
      "Type Name - class java.lang.String\n",
      "Modifier Name - public\n",
      "------------\n",
      "Field Name - canSwim\n",
      "Type Name - boolean\n",
      "Modifier Name - private\n"
     ]
    }
   ],
   "source": [
    "Field[] fields = eagle.getDeclaredFields(); // return private & public fields\n",
    "\n",
    "int z = 0;\n",
    "for (Field field: fields) {\n",
    "    System.out.println(\"Field Name - \" + field.getName());\n",
    "    System.out.println(\"Type Name - \" + field.getType());\n",
    "    System.out.println(\"Modifier Name - \" + Modifier.toString(field.getModifiers()));\n",
    "\n",
    "    z += 1;\n",
    "    if (z < methods.length) {\n",
    "        System.out.println(\"------------\");\n",
    "    }\n",
    "}"
   ]
  },
  {
   "cell_type": "markdown",
   "id": "992996eb-f955-4a5f-aa13-92297b16dfd0",
   "metadata": {},
   "source": [
    "### Setting the Value of a Public Field"
   ]
  },
  {
   "cell_type": "code",
   "execution_count": 15,
   "id": "067324c0-8d9a-48d4-9ef3-109f460baeab",
   "metadata": {},
   "outputs": [
    {
     "data": {
      "text/plain": [
       "Brown Breed"
      ]
     },
     "execution_count": 15,
     "metadata": {},
     "output_type": "execute_result"
    }
   ],
   "source": [
    "Class eagle = Eagle.class;\n",
    "Eagle eagleObj = new Eagle();\n",
    "\n",
    "Field field = eagle.getDeclaredField(\"breed\");\n",
    "field.set(eagleObj, \"Brown Breed\");\n",
    "eagleObj.breed;"
   ]
  },
  {
   "cell_type": "markdown",
   "id": "5e5376cf-24ba-4e59-85b7-fe325bf86c8a",
   "metadata": {},
   "source": [
    "### Setting the Value of a Private Field"
   ]
  },
  {
   "cell_type": "code",
   "execution_count": 16,
   "id": "37683e17-5f7c-4fb4-ba44-1c48710ad338",
   "metadata": {},
   "outputs": [
    {
     "ename": "EvalException",
     "evalue": "class REPL.$JShell$45 cannot access a member of class REPL.$JShell$20$Eagle with modifiers \"private\"",
     "output_type": "error",
     "traceback": [
      "\u001b[1m\u001b[31m---------------------------------------------------------------------------\u001b[0m",
      "\u001b[1m\u001b[31mjava.lang.IllegalAccessException: class REPL.$JShell$45 cannot access a member of class REPL.$JShell$20$Eagle with modifiers \"private\"\u001b[0m",
      "\u001b[1m\u001b[31m\tat java.base/jdk.internal.reflect.Reflection.newIllegalAccessException(Reflection.java:394)\u001b[0m",
      "\u001b[1m\u001b[31m\tat java.base/java.lang.reflect.AccessibleObject.checkAccess(AccessibleObject.java:714)\u001b[0m",
      "\u001b[1m\u001b[31m\tat java.base/java.lang.reflect.Field.checkAccess(Field.java:1156)\u001b[0m",
      "\u001b[1m\u001b[31m\tat java.base/java.lang.reflect.Field.set(Field.java:833)\u001b[0m",
      "\u001b[1m\u001b[31m\tat .(#45:2)\u001b[0m"
     ]
    }
   ],
   "source": [
    "// it works in .java file\n",
    "Field field = eagle.getDeclaredField(\"canSwim\"); // since it is private field, can't be accessible outside of Eagle class\n",
    "field.set(eagleObj, true);\n",
    "eagleObj.canSwim;"
   ]
  },
  {
   "cell_type": "code",
   "execution_count": 17,
   "id": "85c5290d-fddf-4136-b902-96eba0fe60c3",
   "metadata": {},
   "outputs": [
    {
     "name": "stdout",
     "output_type": "stream",
     "text": [
      "Value is set to true\n"
     ]
    }
   ],
   "source": [
    "// correct way to access and set value\n",
    "\n",
    "Field field = eagle.getDeclaredField(\"canSwim\");\n",
    "field.setAccessible(true); // it gives access private fields\n",
    "field.set(eagleObj, true);\n",
    "\n",
    "if (field.getBoolean(eagleObj)) {\n",
    "    System.out.println(\"Value is set to true\");\n",
    "}"
   ]
  },
  {
   "cell_type": "markdown",
   "id": "0e24c1c4-03ab-4d68-8ab7-466c65acdc0b",
   "metadata": {},
   "source": [
    "## Reflection on Constructor"
   ]
  },
  {
   "cell_type": "code",
   "execution_count": 18,
   "id": "aa0ce1cd-2854-415f-a411-357add33b8f7",
   "metadata": {},
   "outputs": [],
   "source": [
    "import java.lang.reflect.Constructor;\n",
    "\n",
    "public class Eagle3 {\n",
    "    private Eagle3() {}\n",
    "    \n",
    "    public void fly() {\n",
    "        System.out.println(\"fly\");\n",
    "    }\n",
    "}"
   ]
  },
  {
   "cell_type": "code",
   "execution_count": 19,
   "id": "12bd18ad-a0ef-4ec3-8740-76bbc0976beb",
   "metadata": {},
   "outputs": [
    {
     "name": "stdout",
     "output_type": "stream",
     "text": [
      "Modifier: private\n",
      "fly\n"
     ]
    }
   ],
   "source": [
    "Class eagle = Eagle3.class;\n",
    "\n",
    "// get all public & private constructors\n",
    "Constructor[] eagleConstructorList = eagle.getDeclaredConstructors();\n",
    "\n",
    "for (Constructor e: eagleConstructorList) {\n",
    "    System.out.println(\"Modifier: \"+ Modifier.toString(e.getModifiers()));\n",
    "    \n",
    "    e.setAccessible(true);\n",
    "    Eagle3 eagle_ = (Eagle3) e.newInstance();\n",
    "    eagle_.fly();\n",
    "}"
   ]
  }
 ],
 "metadata": {
  "kernelspec": {
   "display_name": "Java",
   "language": "java",
   "name": "java"
  },
  "language_info": {
   "codemirror_mode": "java",
   "file_extension": ".jshell",
   "mimetype": "text/x-java-source",
   "name": "Java",
   "pygments_lexer": "java",
   "version": "21.0.2+13-LTS"
  }
 },
 "nbformat": 4,
 "nbformat_minor": 5
}
