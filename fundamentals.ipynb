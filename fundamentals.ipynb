{
 "cells": [
  {
   "cell_type": "markdown",
   "id": "054b8cb6-4980-49b8-8576-6114184eabca",
   "metadata": {},
   "source": [
    "# Fundamental Concepts｜Session 1 to 16\n",
    "\n",
    "In Java, a name is considered an identifier, which is used for identification purposes. Identifiers can include method names, variable names, class names, and label names.\n",
    "\n",
    "![identifiers](https://i.ibb.co.com/vQCVxVc/image.png)\n",
    "\n",
    "## Rules for Defining an Identifier\n",
    "\n",
    "* Identifiers cannot start with a digit.\n",
    "* Only the following characters are allowed: `a-z`, `A-Z`, `0-9`, `$`, and `_`.\n",
    "* Identifiers are case-sensitive; for example, `int x = 50;` and `int X = 40;` are considered different.\n",
    "* There is no length limit for identifiers.\n",
    "* Reserved words cannot be used as identifiers.\n",
    "\n",
    "> All predefined Java class names and interfaces can be used as identifiers."
   ]
  },
  {
   "cell_type": "code",
   "execution_count": 1,
   "id": "ed4697b4-da13-4320-9b8d-48bac7dd9b94",
   "metadata": {
    "vscode": {
     "languageId": "java"
    }
   },
   "outputs": [
    {
     "data": {
      "text/plain": [
       "21.0.1"
      ]
     },
     "execution_count": 1,
     "metadata": {},
     "output_type": "execute_result"
    }
   ],
   "source": [
    "System.getProperty(\"java.version\");"
   ]
  },
  {
   "cell_type": "code",
   "execution_count": 2,
   "id": "133f4e0d-b21b-4127-b369-a657ca09ddc9",
   "metadata": {
    "vscode": {
     "languageId": "java"
    }
   },
   "outputs": [
    {
     "data": {
      "text/plain": [
       "888"
      ]
     },
     "execution_count": 2,
     "metadata": {},
     "output_type": "execute_result"
    }
   ],
   "source": [
    "int String = 888; // predefined class\n",
    "String;"
   ]
  },
  {
   "cell_type": "code",
   "execution_count": 3,
   "id": "ea257cc3-bdbc-415c-96b3-3c490abbd18e",
   "metadata": {
    "vscode": {
     "languageId": "java"
    }
   },
   "outputs": [
    {
     "data": {
      "text/plain": [
       "999"
      ]
     },
     "execution_count": 3,
     "metadata": {},
     "output_type": "execute_result"
    }
   ],
   "source": [
    "int Runnable = 999; // predefined interface\n",
    "Runnable;"
   ]
  },
  {
   "cell_type": "markdown",
   "id": "39efa9e6-41a2-470e-b920-a3d994db37f5",
   "metadata": {},
   "source": [
    "## Reserved Words\n",
    "\n",
    "Java has 53 reserved keywords:\n",
    "\n",
    "![reserve words](https://i.ibb.co.com/61HMD9p/image.png)\n",
    "\n",
    "* **Control Flow Keywords**: for, break, continue, do, while, if, else, return, switch, case, default.\n",
    "* **Exception Handling Keywords**: try, catch, finally, throw, throws, assert.\n",
    "* **Class and Object Keywords**: class, extends, implements, package, interface, import, new, instanceof, super, this.\n",
    "* **Data Types and Variables**: boolean, byte, char, double, float, int, long, short.\n",
    "* **Access Modifiers**: private, protected, public.\n",
    "* **Modifiers**: final, static, abstract, synchronized, native, transient, volatile, strictfp.\n",
    "* **Other Keywords**: void, enum, goto, const, true, false, null.\n",
    "\n",
    "> Java is a strongly typed programming language that follows strict type checking.\n",
    "\n",
    "* Is Java a pure OOP language?\n",
    "  * No, it is not considered a pure OOP language because it lacks certain OOP concepts, such as operator overloading and multiple inheritance. Additionally, Java relies on primitive types, which are not objects.\n",
    " \n",
    "## Data Types\n",
    "\n",
    "Java has 8 primitive data types:\n",
    "\n",
    "![primtive-types](https://files.catbox.moe/bzj3gs.png)\n",
    "\n",
    "* `byte` (1 byte)\n",
    "* `short` (2 bytes)\n",
    "* `int` (4 bytes)\n",
    "* `long` (8 bytes)\n",
    "* `float` (4 bytes)\n",
    "* `double` (8 bytes)\n",
    "* `char` (2 bytes)\n",
    "* `boolean`\n",
    "\n",
    "All numeric data types are signed, meaning they can represent both positive and negative values.\n",
    "\n",
    "**Signed bit**:\n",
    "\n",
    "* `0` - positive (+ve)\n",
    "* `1` - negative (-ve)\n",
    "\n",
    "### byte Type\n",
    "\n",
    "The `byte` data type is 1 byte (8 bits) and has a range from `-128` to `127`. It is particularly useful for managing data streams in files or over networks.\n",
    "\n",
    "Java supports two types of streams:\n",
    "\n",
    "* Character streams\n",
    "* Byte streams"
   ]
  },
  {
   "cell_type": "code",
   "execution_count": 4,
   "id": "1c243282-2f23-4428-b780-d40bb347d33d",
   "metadata": {
    "vscode": {
     "languageId": "java"
    }
   },
   "outputs": [
    {
     "ename": "CompilationException",
     "evalue": "",
     "output_type": "error",
     "traceback": [
      "\u001b[1m\u001b[30m|   \u001b[1m\u001b[30mx = \u001b[0m\u001b[1m\u001b[30m\u001b[41m128\u001b[0m\u001b[1m\u001b[30m;\u001b[0m",
      "\u001b[1m\u001b[31mincompatible types: possible lossy conversion from int to byte\u001b[0m",
      ""
     ]
    }
   ],
   "source": [
    "byte x = 10;\n",
    "x = 127;\n",
    "x = 128;"
   ]
  },
  {
   "cell_type": "code",
   "execution_count": 5,
   "id": "70a9e85e-e804-4172-b0dd-3f772bee387c",
   "metadata": {
    "vscode": {
     "languageId": "java"
    }
   },
   "outputs": [
    {
     "ename": "CompilationException",
     "evalue": "",
     "output_type": "error",
     "traceback": [
      "\u001b[1m\u001b[30m|   \u001b[1m\u001b[30mx = \u001b[0m\u001b[1m\u001b[30m\u001b[41m10.5\u001b[0m\u001b[1m\u001b[30m;\u001b[0m",
      "\u001b[1m\u001b[31mincompatible types: possible lossy conversion from double to byte\u001b[0m",
      ""
     ]
    }
   ],
   "source": [
    "x = 10.5;"
   ]
  },
  {
   "cell_type": "code",
   "execution_count": 6,
   "id": "77beb44e-afa6-46d9-9187-03f3bad2e72f",
   "metadata": {
    "vscode": {
     "languageId": "java"
    }
   },
   "outputs": [
    {
     "ename": "CompilationException",
     "evalue": "",
     "output_type": "error",
     "traceback": [
      "\u001b[1m\u001b[30m|   \u001b[1m\u001b[30mx = \u001b[0m\u001b[1m\u001b[30m\u001b[41mtrue\u001b[0m\u001b[1m\u001b[30m;\u001b[0m",
      "\u001b[1m\u001b[31mincompatible types: boolean cannot be converted to byte\u001b[0m",
      ""
     ]
    }
   ],
   "source": [
    "x = true;"
   ]
  },
  {
   "cell_type": "markdown",
   "id": "8012a223-c043-4d8c-b73f-5e5a78bc2c2e",
   "metadata": {},
   "source": [
    "### short Type\n",
    "\n",
    "The `short` data type is 2 bytes (16 bits) in size, with a range from `-32,768` to `32,767`. It is well-suited for use with 16-bit processors."
   ]
  },
  {
   "cell_type": "code",
   "execution_count": 7,
   "id": "51879d0f-44b0-4221-83a8-605f4004770e",
   "metadata": {
    "vscode": {
     "languageId": "java"
    }
   },
   "outputs": [
    {
     "ename": "CompilationException",
     "evalue": "",
     "output_type": "error",
     "traceback": [
      "\u001b[1m\u001b[30m|   \u001b[1m\u001b[30my = \u001b[0m\u001b[1m\u001b[30m\u001b[41mtrue\u001b[0m\u001b[1m\u001b[30m;\u001b[0m",
      "\u001b[1m\u001b[31mincompatible types: boolean cannot be converted to short\u001b[0m",
      ""
     ]
    }
   ],
   "source": [
    "short y = 10;\n",
    "y = true;"
   ]
  },
  {
   "cell_type": "code",
   "execution_count": 8,
   "id": "b551b4f0-18ea-460d-b57d-26b4c3eaf0cb",
   "metadata": {
    "vscode": {
     "languageId": "java"
    }
   },
   "outputs": [
    {
     "ename": "CompilationException",
     "evalue": "",
     "output_type": "error",
     "traceback": [
      "\u001b[1m\u001b[30m|   \u001b[1m\u001b[30my = \u001b[0m\u001b[1m\u001b[30m\u001b[41m10.5\u001b[0m\u001b[1m\u001b[30m;\u001b[0m",
      "\u001b[1m\u001b[31mincompatible types: possible lossy conversion from double to short\u001b[0m",
      ""
     ]
    }
   ],
   "source": [
    "y = 10.5;"
   ]
  },
  {
   "cell_type": "code",
   "execution_count": 9,
   "id": "c810aa96-98a5-456d-bf90-382af48f9fcb",
   "metadata": {
    "vscode": {
     "languageId": "java"
    }
   },
   "outputs": [
    {
     "ename": "CompilationException",
     "evalue": "",
     "output_type": "error",
     "traceback": [
      "\u001b[1m\u001b[30m|   \u001b[1m\u001b[30my = \u001b[0m\u001b[1m\u001b[30m\u001b[41m\"string\"\u001b[0m\u001b[1m\u001b[30m;\u001b[0m",
      "\u001b[1m\u001b[31mincompatible types: java.lang.String cannot be converted to short\u001b[0m",
      ""
     ]
    }
   ],
   "source": [
    "y = \"string\";"
   ]
  },
  {
   "cell_type": "code",
   "execution_count": 10,
   "id": "b472e412-1a9b-43f5-9a10-a486e85e7c86",
   "metadata": {
    "vscode": {
     "languageId": "java"
    }
   },
   "outputs": [
    {
     "ename": "CompilationException",
     "evalue": "",
     "output_type": "error",
     "traceback": [
      "\u001b[1m\u001b[30m|   \u001b[1m\u001b[30my = \u001b[0m\u001b[1m\u001b[30m\u001b[41m32768\u001b[0m\u001b[1m\u001b[30m;\u001b[0m",
      "\u001b[1m\u001b[31mincompatible types: possible lossy conversion from int to short\u001b[0m",
      ""
     ]
    }
   ],
   "source": [
    "y = 32768;"
   ]
  },
  {
   "cell_type": "markdown",
   "id": "e954a2c9-5cd4-4d7e-80fb-c301b7cce835",
   "metadata": {},
   "source": [
    "### int Type\n",
    "\n",
    "The `int` data type is typically 4 bytes (32 bits) in size, with a range from `-2,147,483,648` to `2,147,483,647`."
   ]
  },
  {
   "cell_type": "code",
   "execution_count": 11,
   "id": "994d1db1-cd86-4fd9-b659-46c2d8471fc5",
   "metadata": {
    "vscode": {
     "languageId": "java"
    }
   },
   "outputs": [
    {
     "ename": "CompilationException",
     "evalue": "",
     "output_type": "error",
     "traceback": [
      "\u001b[1m\u001b[30m|   \u001b[1m\u001b[30mint z = \u001b[0m\u001b[1m\u001b[30m\u001b[41m\u001b[0m\u001b[1m\u001b[30m21474833648;\u001b[0m",
      "\u001b[1m\u001b[31minteger number too large\u001b[0m",
      ""
     ]
    }
   ],
   "source": [
    "int z = 21474833648;"
   ]
  },
  {
   "cell_type": "code",
   "execution_count": 12,
   "id": "0a0a2830-54f8-4d3e-8ffa-399e66de5503",
   "metadata": {
    "vscode": {
     "languageId": "java"
    }
   },
   "outputs": [
    {
     "ename": "CompilationException",
     "evalue": "",
     "output_type": "error",
     "traceback": [
      "\u001b[1m\u001b[30m|   \u001b[1m\u001b[30mint z = \u001b[0m\u001b[1m\u001b[30m\u001b[41m214748336489l\u001b[0m\u001b[1m\u001b[30m;\u001b[0m",
      "\u001b[1m\u001b[31mincompatible types: possible lossy conversion from long to int\u001b[0m",
      ""
     ]
    }
   ],
   "source": [
    "int z = 214748336489l;"
   ]
  },
  {
   "cell_type": "code",
   "execution_count": 13,
   "id": "d9c0d049-c013-4c1d-81d2-016e95decbae",
   "metadata": {
    "vscode": {
     "languageId": "java"
    }
   },
   "outputs": [
    {
     "ename": "CompilationException",
     "evalue": "",
     "output_type": "error",
     "traceback": [
      "\u001b[1m\u001b[30m|   \u001b[1m\u001b[30mint z = \u001b[0m\u001b[1m\u001b[30m\u001b[41mtrue\u001b[0m\u001b[1m\u001b[30m;\u001b[0m",
      "\u001b[1m\u001b[31mincompatible types: boolean cannot be converted to int\u001b[0m",
      ""
     ]
    }
   ],
   "source": [
    "int z = true;"
   ]
  },
  {
   "cell_type": "code",
   "execution_count": 14,
   "id": "d2cdfdd2-714d-46be-b344-b8991da3259b",
   "metadata": {
    "vscode": {
     "languageId": "java"
    }
   },
   "outputs": [
    {
     "data": {
      "text/plain": [
       "214748336489"
      ]
     },
     "execution_count": 14,
     "metadata": {},
     "output_type": "execute_result"
    }
   ],
   "source": [
    "long z = 214748336489l;\n",
    "z;"
   ]
  },
  {
   "cell_type": "markdown",
   "id": "e84ecb12-837e-43b5-9da3-ec7d12b4e55c",
   "metadata": {},
   "source": [
    "### char Type\n",
    "\n",
    "In Java, the `char` type takes 2 bytes because it supports Unicode characters. In contrast, older languages like `C` only support ASCII characters. The range of `char` is from `0` to `65,535`.\n",
    "\n",
    "```java\n",
    "char ch = 'H';\n",
    "ch = null; // ❌ Incompatable type error\n",
    "```\n",
    "\n",
    "### long Type\n",
    "\n",
    "The `long` data type is typically 8 bytes (64 bits) in size, with a range from `-2^63` to `2^63 - 1`. \n",
    "\n",
    "```java\n",
    "long l = 45L;\n",
    "```\n",
    "\n",
    "### float & double Type\n",
    "\n",
    "Difference between `float` and `double` types:\n",
    "\n",
    "* float\n",
    "  *  Use when you need 5 to 6 decimal places.\n",
    "  *  Single precision\n",
    "  *  4 bytes\n",
    "  *  Range: `-3.4e38` to `3.4e38`.\n",
    "* double\n",
    "  * Use when you need 14 to 16 decimal places.\n",
    "  * Double precision\n",
    "  * 8 bytes\n",
    "  * Range: `4.9e-324` to `1.7e+308`.\n",
    " \n",
    "### boolean Type\n",
    "\n",
    "The size of a `boolean` is not explicitly defined; it mostly depends on the JVM implementation. The allowed values are either `true` or `false`.\n",
    "\n",
    "```java\n",
    "boolean b = true;\n",
    "boolean c = false;\n",
    "```"
   ]
  },
  {
   "cell_type": "code",
   "execution_count": 15,
   "id": "2fccc219-f017-49c5-b591-c0ce88e5c610",
   "metadata": {
    "vscode": {
     "languageId": "java"
    }
   },
   "outputs": [
    {
     "ename": "CompilationException",
     "evalue": "",
     "output_type": "error",
     "traceback": [
      "\u001b[1m\u001b[30m|   \u001b[1m\u001b[30mboolean v = \u001b[0m\u001b[1m\u001b[30m\u001b[41m0\u001b[0m\u001b[1m\u001b[30m;\u001b[0m",
      "\u001b[1m\u001b[31mincompatible types: int cannot be converted to boolean\u001b[0m",
      ""
     ]
    }
   ],
   "source": [
    "boolean v = 0;"
   ]
  },
  {
   "cell_type": "code",
   "execution_count": 16,
   "id": "09d680fc-0753-419f-8c1f-582696088505",
   "metadata": {
    "vscode": {
     "languageId": "java"
    }
   },
   "outputs": [
    {
     "ename": "CompilationException",
     "evalue": "",
     "output_type": "error",
     "traceback": [
      "\u001b[1m\u001b[30m|   \u001b[1m\u001b[30m\u001b[0m\u001b[1m\u001b[30m\u001b[41mv\u001b[0m\u001b[1m\u001b[30m = True;\u001b[0m",
      "\u001b[1m\u001b[31mcannot find symbol\u001b[0m",
      "\u001b[1m\u001b[31m  symbol:   variable v\u001b[0m",
      "",
      "\u001b[1m\u001b[30m|   \u001b[1m\u001b[30mv = \u001b[0m\u001b[1m\u001b[30m\u001b[41mTrue\u001b[0m\u001b[1m\u001b[30m;\u001b[0m",
      "\u001b[1m\u001b[31mcannot find symbol\u001b[0m",
      "\u001b[1m\u001b[31m  symbol:   variable True\u001b[0m",
      ""
     ]
    }
   ],
   "source": [
    "v = True;"
   ]
  },
  {
   "cell_type": "code",
   "execution_count": 17,
   "id": "041062d3-1301-4d74-860c-3ab904283118",
   "metadata": {
    "vscode": {
     "languageId": "java"
    }
   },
   "outputs": [
    {
     "ename": "CompilationException",
     "evalue": "",
     "output_type": "error",
     "traceback": [
      "\u001b[1m\u001b[30m|   \u001b[1m\u001b[30mif (\u001b[0m\u001b[1m\u001b[30m\u001b[41mX\u001b[0m\u001b[1m\u001b[30m) { // works fne in C/C++\u001b[0m",
      "\u001b[1m\u001b[31mincompatible types: int cannot be converted to boolean\u001b[0m",
      ""
     ]
    }
   ],
   "source": [
    "int X = 0;\n",
    "\n",
    "if (X) { // works fne in C/C++\n",
    "    System.out.println(\"Hello\");\n",
    "} else {\n",
    "    System.out.println(\"World\");\n",
    "}"
   ]
  },
  {
   "cell_type": "markdown",
   "id": "f41f86af-f00c-48fd-8eb2-41bb2528f442",
   "metadata": {},
   "source": [
    "## Literals\n",
    "\n",
    "A literal is any constant value that can be assigned to a variable.\n",
    "\n",
    "In the statement `int x = 10;`:\n",
    "\n",
    "* `int` is the data type/keyword.\n",
    "* `x` is the identifier/variable.\n",
    "* `10` is the constant value/literal.\n",
    "\n",
    "### Integral Literals\n",
    "\n",
    "Integral data types in Java include:\n",
    "\n",
    "* `byte`\n",
    "* `short`\n",
    "* `int`\n",
    "* `long`\n",
    "  \n",
    "For integral data types, values can be specified in the following formats:\n",
    "\n",
    "* Decimal (base 10):\n",
    "  * `int x = 10;`\n",
    "  * Allowed digits: `0` to `9`.\n",
    "* Octal (base 8):\n",
    "  * `int x = 010;`\n",
    "  * Allowed digits: `0` to `7`.\n",
    "* Hexadecimal (base 16):\n",
    "  * `int x = 0x10;`\n",
    "  * Allowed digits: `0` to `9` and `a` to `f` (case-insensitive).\n",
    "  \n",
    "> **Note:** Every integral literal (`byte`, `short`, `long`, `int`) is by default of type `int`.\n",
    "\n",
    "```java\n",
    "int x = 10;\n",
    "int x = 0786; ❌\n",
    "int x = 0777;\n",
    "\n",
    "int x = 0xFace;\n",
    "int x = 0xBeef;\n",
    "int x = 0xBeer; ❌ // Invalid hexadecimal value (invalid character 'r')\n",
    "```\n",
    "\n",
    "To specify integral literals as `long`, you must suffix them with `l` or `L`:\n",
    "\n",
    "```java\n",
    "long l = 0xFaceL; // 64206 in decimal\n",
    "\n",
    "int x = 10;\n",
    "long l = 10l;\n",
    "int x = 10L; ❌ // Invalid: 'L' should be used with long literals only.\n",
    "\n",
    "long l = 20;\n",
    "byte x = 010;\n",
    "short x = 011;\n",
    "```"
   ]
  },
  {
   "cell_type": "code",
   "execution_count": 18,
   "id": "e8752948-58bd-4a4a-ac6d-52fe5cd6752b",
   "metadata": {
    "vscode": {
     "languageId": "java"
    }
   },
   "outputs": [
    {
     "name": "stdout",
     "output_type": "stream",
     "text": [
      "10---8---16\n"
     ]
    }
   ],
   "source": [
    "int a = 10;\n",
    "int b = 010;\n",
    "int c = 0x10;\n",
    "\n",
    "// JVM always return output in decimal format\n",
    "System.out.println(a + \"---\" + b + \"---\" + c);"
   ]
  },
  {
   "cell_type": "markdown",
   "id": "e6afe596-dc8e-4146-a473-21567641648d",
   "metadata": {},
   "source": [
    "### Floating-Point Literals\n",
    "\n",
    "By default, every floating-point literal is considered a `double`.\n",
    "\n",
    "```java\n",
    "float f = 123.456F;\n",
    "double d = 123.456;\n",
    "\n",
    "double d = 0123.456d;\n",
    "float f = 123.4567d; ❌ // Invalid: 'd' suffix is for double\n",
    "double d = 01123.456;\n",
    "double d = 0x123.456; ❌ // Invalid: hexadecimal floating-point literals are not allowed\n",
    "\n",
    "double d = 0786; ❌ // Invalid: Octal literals are not allowed for floating-point numbers\n",
    "double d = 0xFace;\n",
    "double d = 0xF1ace;\n",
    "\n",
    "double d = 07865.0;\n",
    "double d = 0xFace.0; ❌ // Invalid: Hexadecimal floating-point literals are not allowed\n",
    "double d = 0.7777;\n",
    "\n",
    "double d = 10;\n",
    "int x = 10.0; ❌ // Invalid: Can't assign floating-point value to an integer\n",
    "\n",
    "double d = 1.2e3;\n",
    "float f = 1.2e3; ❌ // Invalid: 'float' literals\n",
    "f = 1.2e3F;\n",
    "```"
   ]
  },
  {
   "cell_type": "code",
   "execution_count": 19,
   "id": "2db7ba43-ab1b-4651-bf85-6ea37e098742",
   "metadata": {
    "vscode": {
     "languageId": "java"
    }
   },
   "outputs": [
    {
     "ename": "CompilationException",
     "evalue": "",
     "output_type": "error",
     "traceback": [
      "\u001b[1m\u001b[30m|   \u001b[1m\u001b[30mfloat f = \u001b[0m\u001b[1m\u001b[30m\u001b[41m123.456\u001b[0m\u001b[1m\u001b[30m;\u001b[0m",
      "\u001b[1m\u001b[31mincompatible types: possible lossy conversion from double to float\u001b[0m",
      ""
     ]
    }
   ],
   "source": [
    "float f = 123.456;"
   ]
  },
  {
   "cell_type": "code",
   "execution_count": 20,
   "id": "fb640dff-787d-4c7c-80b8-6f4d8231b1f2",
   "metadata": {
    "vscode": {
     "languageId": "java"
    }
   },
   "outputs": [
    {
     "ename": "CompilationException",
     "evalue": "",
     "output_type": "error",
     "traceback": [
      "\u001b[1m\u001b[30m|   \u001b[1m\u001b[30mdouble d = \u001b[0m\u001b[1m\u001b[30m\u001b[41m\u001b[0m\u001b[1m\u001b[30m0x123.456;\u001b[0m",
      "\u001b[1m\u001b[31mmalformed floating-point literal\u001b[0m",
      ""
     ]
    }
   ],
   "source": [
    "// floating point literals only you can specifiy in decimal format\n",
    "double d = 0x123.456;"
   ]
  },
  {
   "cell_type": "markdown",
   "id": "1ace6b84-7d2c-452c-8551-f130549a821e",
   "metadata": {},
   "source": [
    "### Boolean Literals\n",
    "\n",
    "The possible values for a boolean are `true` or `false`, with the default value being `false`.\n",
    "\n",
    "```java\n",
    "boolean b = true;\n",
    "boolean b = 1; ❌ // Invalid: cannot assign an integer to a boolean.\n",
    "\n",
    "boolean b = \"true\"; ❌ // Invalid: cannot assign a string to a boolean.\n",
    "boolean b = True; ❌ // Invalid: 'True' is not recognized as a valid boolean.\n",
    "```\n",
    "\n",
    "### Character Literals\n",
    "\n",
    "In Java, a `char` is assigned using single quotes (`''`), while double quotes (`\"\"`) indicate a string literal.\n",
    "\n",
    "You can declare `char` literals in four different ways:\n",
    "\n",
    "#### 1st Way: Direct Assignment\n",
    "\n",
    "```java\n",
    "char ch = 'a';\n",
    "char ch = a; ❌ // Invalid: 'a' should be in single quotes.\n",
    "char ch = \"a\"; ❌ // Invalid: \"a\" is a string, not a char.\n",
    "char ch = \"ab\"; ❌ // Invalid: A char can only hold one character.\n",
    "```\n",
    "\n",
    "#### 2nd Way: Integral Literals\n",
    "\n",
    "You can assign integral literals to `char` literals in decimal, octal, and hexadecimal formats:\n",
    "\n",
    "```java\n",
    "char ch = 98; // 'b'\n",
    "char ch = 0xFace;\n",
    "char ch = 0777;\n",
    "char ch = 65535;\n",
    "char ch = 65536; ❌ // Invalid: exceeds the maximum value for a char\n",
    "```\n",
    "\n",
    "#### 3rd Way: Unicode Characters\n",
    "\n",
    "You can use [Unicode characters](https://home.unicode.org/) as `char` literals:\n",
    "\n",
    "```java\n",
    "char ch = '\\u201F';\n",
    "char ch = '\\u221F'; // ∞\n",
    "char ch = '\\u03C9'; // φ\n",
    "```\n",
    "\n",
    "#### 4th Way: Escape Sequences\n",
    "\n",
    "You can use escape sequences for special characters as `char` literals:\n",
    "\n",
    "```java\n",
    "char ch = '\\n'; \n",
    "char ch = '\\t';\n",
    "```\n",
    "\n",
    "The following are eight common escape sequences:\n",
    "\n",
    "* `\\n` - New line\n",
    "* `\\t` - Horizontal tab\n",
    "* `\\r` - Carriage return\n",
    "* `\\b` - Backspace\n",
    "* `\\f` - Form feed\n",
    "* `\\'` - Single quote\n",
    "* `\\\"` - Double quote\n",
    "* `\\\\` - Backslash\n",
    "\n",
    "```java\n",
    "char ch = 65536; ❌ // Invalid: exceeds char's maximum value.\n",
    "char ch = 0xBeer; ❌ // Invalid: 'Beer' is not a valid hexadecimal value.\n",
    "char ch = '\\uface';\n",
    "char ch = \\ubeef; ❌ // Invalid: missing quotes for the escape sequence.\n",
    "char ch = '\\m'; ❌ // Invalid: '\\m' is not a recognized escape sequence.\n",
    "char ch = '\\iface'; ❌ // Invalid: Escape sequences can only consist of a single character.\n",
    "```\n",
    "\n",
    "### Java v1.7 Features\n",
    "\n",
    "Java v1.7 introduced two new features:\n",
    "\n",
    "* Binary Literals\n",
    "* Underscore (`_`) for Long Number Representation\n",
    "\n",
    "You can specify integral literals in binary format:\n",
    "\n",
    "```java\n",
    "int x = 0b1111; // 15 in decimal\n",
    "```\n",
    "\n",
    "To improve readability when representing long numbers, you can use underscores (`_`) between digits:\n",
    "\n",
    "```java\n",
    "long l = 1__23456__789;\n",
    "long l = 123______456;\n",
    "```\n",
    "\n",
    "The compiler removes the underscores during compilation.\n",
    "\n",
    "Underscores can only be used between digits; they cannot be the first or last character in a number:\n",
    "\n",
    "```java\n",
    "double d = 1_23_456_.78_9; ❌ // Invalid: underscores cannot be placed before or after decimal(.).\n",
    "double d = _1_23_456.7_8_9; ❌ // Invalid: underscores cannot be placed at the beginning.\n",
    "double d = 1_23_456.78_9_; ❌ // Invalid: underscores cannot be placed at the end.\n",
    "double d = 1_23_456.78_9;\n",
    "```"
   ]
  },
  {
   "cell_type": "code",
   "execution_count": null,
   "id": "0ca6b4f8-a0d5-4909-be96-6757d4b80704",
   "metadata": {
    "vscode": {
     "languageId": "java"
    }
   },
   "outputs": [],
   "source": []
  }
 ],
 "metadata": {
  "kernelspec": {
   "display_name": "Java",
   "language": "java",
   "name": "java"
  },
  "language_info": {
   "codemirror_mode": "java",
   "file_extension": ".jshell",
   "mimetype": "text/x-java-source",
   "name": "Java",
   "pygments_lexer": "java",
   "version": "21.0.1+12-LTS"
  }
 },
 "nbformat": 4,
 "nbformat_minor": 5
}
